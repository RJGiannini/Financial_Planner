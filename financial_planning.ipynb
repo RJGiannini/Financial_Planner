{
 "cells": [
  {
   "cell_type": "markdown",
   "metadata": {},
   "source": [
    "# Financial Planning with APIs and Simulations\n",
    "\n",
    "In this Challenge, you’ll create two financial analysis tools by using a single Jupyter notebook:\n",
    "\n",
    "Part 1: A financial planner for emergencies. The members will be able to use this tool to visualize their current savings. The members can then determine if they have enough reserves for an emergency fund.\n",
    "\n",
    "Part 2: A financial planner for retirement. This tool will forecast the performance of their retirement portfolio in 30 years. To do this, the tool will make an Alpaca API call via the Alpaca SDK to get historical price data for use in Monte Carlo simulations.\n",
    "\n",
    "You’ll use the information from the Monte Carlo simulation to answer questions about the portfolio in your Jupyter notebook.\n",
    "\n"
   ]
  },
  {
   "cell_type": "code",
   "execution_count": 172,
   "metadata": {},
   "outputs": [],
   "source": [
    "# Import the required libraries and dependencies\n",
    "import os\n",
    "import requests\n",
    "import json\n",
    "import pandas as pd\n",
    "from dotenv import load_dotenv\n",
    "import alpaca_trade_api as tradeapi\n",
    "from MCForecastTools import MCSimulation\n",
    "\n",
    "%matplotlib inline"
   ]
  },
  {
   "cell_type": "code",
   "execution_count": 173,
   "metadata": {},
   "outputs": [
    {
     "data": {
      "text/plain": [
       "True"
      ]
     },
     "execution_count": 173,
     "metadata": {},
     "output_type": "execute_result"
    }
   ],
   "source": [
    "# Load the environment variables from the .env file\n",
    "#by calling the load_dotenv function\n",
    "load_dotenv()"
   ]
  },
  {
   "cell_type": "markdown",
   "metadata": {},
   "source": [
    "## Part 1: Create a Financial Planner for Emergencies"
   ]
  },
  {
   "cell_type": "markdown",
   "metadata": {},
   "source": [
    "### Evaluate the Cryptocurrency Wallet by Using the Requests Library\n",
    "\n",
    "In this section, you’ll determine the current value of a member’s cryptocurrency wallet. You’ll collect the current prices for the Bitcoin and Ethereum cryptocurrencies by using the Python Requests library. For the prototype, you’ll assume that the member holds the 1.2 Bitcoins (BTC) and 5.3 Ethereum coins (ETH). To do all this, complete the following steps:\n",
    "\n",
    "1. Create a variable named `monthly_income`, and set its value to `12000`.\n",
    "\n",
    "2. Use the Requests library to get the current price (in US dollars) of Bitcoin (BTC) and Ethereum (ETH) by using the API endpoints that the starter code supplies.\n",
    "\n",
    "3. Navigate the JSON response object to access the current price of each coin, and store each in a variable.\n",
    "\n",
    "    > **Hint** Note the specific identifier for each cryptocurrency in the API JSON response. The Bitcoin identifier is `1`, and the Ethereum identifier is `1027`.\n",
    "\n",
    "4. Calculate the value, in US dollars, of the current amount of each cryptocurrency and of the entire cryptocurrency wallet.\n",
    "\n"
   ]
  },
  {
   "cell_type": "code",
   "execution_count": 174,
   "metadata": {},
   "outputs": [],
   "source": [
    "# The current number of coins for each cryptocurrency asset held in the portfolio.\n",
    "btc_coins = 1.2\n",
    "eth_coins = 5.3"
   ]
  },
  {
   "cell_type": "markdown",
   "metadata": {},
   "source": [
    "#### Step 1: Create a variable named `monthly_income`, and set its value to `12000`."
   ]
  },
  {
   "cell_type": "code",
   "execution_count": 175,
   "metadata": {},
   "outputs": [],
   "source": [
    "# The monthly amount for the member's household income\n",
    "monthly_income = 12000"
   ]
  },
  {
   "cell_type": "markdown",
   "metadata": {},
   "source": [
    "#### Review the endpoint URLs for the API calls to Free Crypto API in order to get the current pricing information for both BTC and ETH."
   ]
  },
  {
   "cell_type": "code",
   "execution_count": 176,
   "metadata": {},
   "outputs": [],
   "source": [
    "# The Free Crypto API Call endpoint URLs for the held cryptocurrency assets\n",
    "btc_url = \"https://api.alternative.me/v2/ticker/Bitcoin/?convert=USD\"\n",
    "eth_url = \"https://api.alternative.me/v2/ticker/Ethereum/?convert=USD\""
   ]
  },
  {
   "cell_type": "markdown",
   "metadata": {},
   "source": [
    "#### Step 2. Use the Requests library to get the current price (in US dollars) of Bitcoin (BTC) and Ethereum (ETH) by using the API endpoints that the starter code supplied."
   ]
  },
  {
   "cell_type": "code",
   "execution_count": 177,
   "metadata": {},
   "outputs": [
    {
     "name": "stdout",
     "output_type": "stream",
     "text": [
      "{\n",
      "    \"data\": {\n",
      "        \"1\": {\n",
      "            \"circulating_supply\": 18771600,\n",
      "            \"id\": 1,\n",
      "            \"last_updated\": 1627681798,\n",
      "            \"max_supply\": 21000000,\n",
      "            \"name\": \"Bitcoin\",\n",
      "            \"quotes\": {\n",
      "                \"USD\": {\n",
      "                    \"market_cap\": 786828220245,\n",
      "                    \"percent_change_1h\": 2.88962418094915,\n",
      "                    \"percent_change_24h\": 5.84658520451244,\n",
      "                    \"percent_change_7d\": 29.3320938255623,\n",
      "                    \"percentage_change_1h\": 2.88962418094915,\n",
      "                    \"percentage_change_24h\": 5.84658520451244,\n",
      "                    \"percentage_change_7d\": 29.3320938255623,\n",
      "                    \"price\": 41916.0,\n",
      "                    \"volume_24h\": 33382624873\n",
      "                }\n",
      "            },\n",
      "            \"rank\": 1,\n",
      "            \"symbol\": \"BTC\",\n",
      "            \"total_supply\": 18771600,\n",
      "            \"website_slug\": \"bitcoin\"\n",
      "        }\n",
      "    },\n",
      "    \"metadata\": {\n",
      "        \"error\": null,\n",
      "        \"num_cryptocurrencies\": 3105,\n",
      "        \"timestamp\": 1627681798\n",
      "    }\n",
      "}\n"
     ]
    }
   ],
   "source": [
    "# Making an API call to access the current price of BTC.\n",
    "btc_response = requests.get(btc_url).json()\n",
    "\n",
    "# Displaying response data.\n",
    "print(json.dumps(btc_response, indent=4, sort_keys=True))"
   ]
  },
  {
   "cell_type": "code",
   "execution_count": 178,
   "metadata": {},
   "outputs": [
    {
     "name": "stdout",
     "output_type": "stream",
     "text": [
      "{\n",
      "    \"data\": {\n",
      "        \"1027\": {\n",
      "            \"circulating_supply\": 116906203,\n",
      "            \"id\": 1027,\n",
      "            \"last_updated\": 1627681790,\n",
      "            \"max_supply\": 0,\n",
      "            \"name\": \"Ethereum\",\n",
      "            \"quotes\": {\n",
      "                \"USD\": {\n",
      "                    \"market_cap\": 288102562034,\n",
      "                    \"percent_change_1h\": 2.15437433869147,\n",
      "                    \"percent_change_24h\": 7.44927821985301,\n",
      "                    \"percent_change_7d\": 22.3542034402469,\n",
      "                    \"percentage_change_1h\": 2.15437433869147,\n",
      "                    \"percentage_change_24h\": 7.44927821985301,\n",
      "                    \"percentage_change_7d\": 22.3542034402469,\n",
      "                    \"price\": 2480.77,\n",
      "                    \"volume_24h\": 23983881499\n",
      "                }\n",
      "            },\n",
      "            \"rank\": 2,\n",
      "            \"symbol\": \"ETH\",\n",
      "            \"total_supply\": 116906203,\n",
      "            \"website_slug\": \"ethereum\"\n",
      "        }\n",
      "    },\n",
      "    \"metadata\": {\n",
      "        \"error\": null,\n",
      "        \"num_cryptocurrencies\": 3105,\n",
      "        \"timestamp\": 1627681790\n",
      "    }\n",
      "}\n"
     ]
    }
   ],
   "source": [
    "# Making an API call to access the current price of BTC.\n",
    "eth_response = requests.get(eth_url).json()\n",
    "\n",
    "# Displaying response data.\n",
    "print(json.dumps(eth_response, indent=4, sort_keys=True))"
   ]
  },
  {
   "cell_type": "markdown",
   "metadata": {},
   "source": [
    "#### Step 3: Navigate the JSON response object to access the current price of each coin, and store each in a variable."
   ]
  },
  {
   "cell_type": "code",
   "execution_count": 181,
   "metadata": {},
   "outputs": [
    {
     "name": "stdout",
     "output_type": "stream",
     "text": [
      "The price of Bitcoin is $41916.0\n"
     ]
    }
   ],
   "source": [
    "# Accessing the current price of BTC.\n",
    "btc_price = btc_response['data']['1']['quotes']['USD']['price']\n",
    "\n",
    "# Printing the current price of BTC.\n",
    "print(f\"The price of Bitcoin is ${btc_price}\")"
   ]
  },
  {
   "cell_type": "code",
   "execution_count": 182,
   "metadata": {},
   "outputs": [
    {
     "name": "stdout",
     "output_type": "stream",
     "text": [
      "The price of Ethereum is $2480.77\n"
     ]
    }
   ],
   "source": [
    "# Accessing the current price of ETH.\n",
    "eth_price = eth_response['data']['1027']['quotes']['USD']['price']\n",
    "\n",
    "# Print the current price of ETH\n",
    "print(f\"The price of Ethereum is ${eth_price}\")"
   ]
  },
  {
   "cell_type": "markdown",
   "metadata": {},
   "source": [
    "### Step 4: Calculate the value, in US dollars, of the current amount of each cryptocurrency and of the entire cryptocurrency wallet."
   ]
  },
  {
   "cell_type": "code",
   "execution_count": 154,
   "metadata": {},
   "outputs": [
    {
     "name": "stdout",
     "output_type": "stream",
     "text": [
      "The value of Bitcoin in the cryptocurrency wallet is $49884.0\n"
     ]
    }
   ],
   "source": [
    "# Compute the current value of the BTC holding \n",
    "btc_value = btc_coins * btc_price\n",
    "\n",
    "# Print current value of your holding in BTC\n",
    "print(f\"The value of Bitcoin in the cryptocurrency wallet is ${btc_value}\")"
   ]
  },
  {
   "cell_type": "code",
   "execution_count": 155,
   "metadata": {},
   "outputs": [
    {
     "name": "stdout",
     "output_type": "stream",
     "text": [
      "The value of Ethereum in the cryptocurrency wallet is $13024.114\n"
     ]
    }
   ],
   "source": [
    "# Compute the current value of the ETH holding \n",
    "eth_value = eth_coins * eth_price\n",
    "\n",
    "# Print current value of your holding in ETH\n",
    "print(f\"The value of Ethereum in the cryptocurrency wallet is ${eth_value}\")"
   ]
  },
  {
   "cell_type": "code",
   "execution_count": 156,
   "metadata": {},
   "outputs": [
    {
     "name": "stdout",
     "output_type": "stream",
     "text": [
      "The total value of the cryptocurrency wallet is $62908.114\n"
     ]
    }
   ],
   "source": [
    "# Compute the total value of the cryptocurrency wallet\n",
    "# Add the value of the BTC holding to the value of the ETH holding\n",
    "total_crypto_wallet = btc_value + eth_value\n",
    "\n",
    "# Print current cryptocurrency wallet balance\n",
    "print(f\"The total value of the cryptocurrency wallet is ${total_crypto_wallet}\")"
   ]
  },
  {
   "cell_type": "markdown",
   "metadata": {},
   "source": [
    "### Evaluate the Stock and Bond Holdings by Using the Alpaca SDK\n",
    "\n",
    "In this section, you’ll determine the current value of a member’s stock and bond holdings. You’ll make an API call to Alpaca via the Alpaca SDK to get the current closing prices of the SPDR S&P 500 ETF Trust (ticker: SPY) and of the iShares Core US Aggregate Bond ETF (ticker: AGG). For the prototype, assume that the member holds 110 shares of SPY, which represents the stock portion of their portfolio, and 200 shares of AGG, which represents the bond portion. To do all this, complete the following steps:\n",
    "\n",
    "1. In the `Starter_Code` folder, create an environment file (`.env`) to store the values of your Alpaca API key and Alpaca secret key.\n",
    "\n",
    "2. Set the variables for the Alpaca API and secret keys. Using the Alpaca SDK, create the Alpaca `tradeapi.REST` object. In this object, include the parameters for the Alpaca API key, the secret key, and the version number.\n",
    "\n",
    "3. Set the following parameters for the Alpaca API call:\n",
    "\n",
    "    - `tickers`: Use the tickers for the member’s stock and bond holdings.\n",
    "\n",
    "    - `timeframe`: Use a time frame of one day.\n",
    "\n",
    "    - `start_date` and `end_date`: Use the same date for these parameters, and format them with the date of the previous weekday (or `2020-08-07`). This is because you want the one closing price for the most-recent trading day.\n",
    "\n",
    "4. Get the current closing prices for `SPY` and `AGG` by using the Alpaca `get_barset` function. Format the response as a Pandas DataFrame by including the `df` property at the end of the `get_barset` function.\n",
    "\n",
    "5. Navigating the Alpaca response DataFrame, select the `SPY` and `AGG` closing prices, and store them as variables.\n",
    "\n",
    "6. Calculate the value, in US dollars, of the current amount of shares in each of the stock and bond portions of the portfolio, and print the results.\n"
   ]
  },
  {
   "cell_type": "markdown",
   "metadata": {},
   "source": [
    "#### Review the total number of shares held in both (SPY) and (AGG)."
   ]
  },
  {
   "cell_type": "code",
   "execution_count": 157,
   "metadata": {},
   "outputs": [],
   "source": [
    "# Current amount of shares held in both the stock (SPY) and bond (AGG) portion of the portfolio.\n",
    "spy_shares = 110\n",
    "agg_shares = 200"
   ]
  },
  {
   "cell_type": "markdown",
   "metadata": {},
   "source": [
    "#### Step 1: In the `Starter_Code` folder, create an environment file (`.env`) to store the values of your Alpaca API key and Alpaca secret key."
   ]
  },
  {
   "cell_type": "markdown",
   "metadata": {},
   "source": [
    "#### Step 2: Set the variables for the Alpaca API and secret keys. Using the Alpaca SDK, create the Alpaca `tradeapi.REST` object. In this object, include the parameters for the Alpaca API key, the secret key, and the version number."
   ]
  },
  {
   "cell_type": "code",
   "execution_count": 158,
   "metadata": {},
   "outputs": [
    {
     "data": {
      "text/plain": [
       "str"
      ]
     },
     "metadata": {},
     "output_type": "display_data"
    },
    {
     "data": {
      "text/plain": [
       "str"
      ]
     },
     "metadata": {},
     "output_type": "display_data"
    }
   ],
   "source": [
    "# Set the variables for the Alpaca API and secret keys\n",
    "alpaca_api_key = os.getenv(\"ALPACA_API_KEY\")\n",
    "alpaca_secret_key = os.getenv(\"ALPACA_SECRET_KEY\")\n",
    "\n",
    "# Checking that the values were imported correctly by evaluating the type.\n",
    "display(type(alpaca_api_key))\n",
    "display(type(alpaca_secret_key))\n",
    "\n",
    "# Create the Alpaca tradeapi.REST object\n",
    "alpaca = tradeapi.REST(\n",
    "    alpaca_api_key,\n",
    "    alpaca_secret_key,\n",
    "    api_version=\"v2\")"
   ]
  },
  {
   "cell_type": "markdown",
   "metadata": {},
   "source": [
    "#### Step 3: Set the following parameters for the Alpaca API call:\n",
    "\n",
    "- `tickers`: Use the tickers for the member’s stock and bond holdings.\n",
    "\n",
    "- `timeframe`: Use a time frame of one day.\n",
    "\n",
    "- `start_date` and `end_date`: Use the same date for these parameters, and format them with the date of the previous weekday (or `2020-08-07`). This is because you want the one closing price for the most-recent trading day.\n"
   ]
  },
  {
   "cell_type": "code",
   "execution_count": 159,
   "metadata": {},
   "outputs": [],
   "source": [
    "# Set the tickers for both the bond and stock portion of the portfolio\n",
    "tickers = [\"SPY\", \"AGG\"]\n",
    "\n",
    "# Set timeframe to 1D \n",
    "timeframe = \"1D\"\n",
    "\n",
    "# Format current date as ISO format\n",
    "# Set both the start and end date at the date of your prior weekday \n",
    "# This will give you the closing price of the previous trading day\n",
    "# Alternatively you can use a start and end date of 2020-08-07\n",
    "start_date = pd.Timestamp(\"2020-08-07\", tz=\"America/New_York\").isoformat()\n",
    "end_date = pd.Timestamp(\"2020-08-07\", tz=\"America/New_York\").isoformat()"
   ]
  },
  {
   "cell_type": "markdown",
   "metadata": {},
   "source": [
    "#### Step 4: Get the current closing prices for `SPY` and `AGG` by using the Alpaca `get_barset` function. Format the response as a Pandas DataFrame by including the `df` property at the end of the `get_barset` function."
   ]
  },
  {
   "cell_type": "code",
   "execution_count": 160,
   "metadata": {},
   "outputs": [
    {
     "data": {
      "text/html": [
       "<div>\n",
       "<style scoped>\n",
       "    .dataframe tbody tr th:only-of-type {\n",
       "        vertical-align: middle;\n",
       "    }\n",
       "\n",
       "    .dataframe tbody tr th {\n",
       "        vertical-align: top;\n",
       "    }\n",
       "\n",
       "    .dataframe thead tr th {\n",
       "        text-align: left;\n",
       "    }\n",
       "\n",
       "    .dataframe thead tr:last-of-type th {\n",
       "        text-align: right;\n",
       "    }\n",
       "</style>\n",
       "<table border=\"1\" class=\"dataframe\">\n",
       "  <thead>\n",
       "    <tr>\n",
       "      <th></th>\n",
       "      <th colspan=\"5\" halign=\"left\">AGG</th>\n",
       "      <th colspan=\"5\" halign=\"left\">SPY</th>\n",
       "    </tr>\n",
       "    <tr>\n",
       "      <th></th>\n",
       "      <th>open</th>\n",
       "      <th>high</th>\n",
       "      <th>low</th>\n",
       "      <th>close</th>\n",
       "      <th>volume</th>\n",
       "      <th>open</th>\n",
       "      <th>high</th>\n",
       "      <th>low</th>\n",
       "      <th>close</th>\n",
       "      <th>volume</th>\n",
       "    </tr>\n",
       "    <tr>\n",
       "      <th>time</th>\n",
       "      <th></th>\n",
       "      <th></th>\n",
       "      <th></th>\n",
       "      <th></th>\n",
       "      <th></th>\n",
       "      <th></th>\n",
       "      <th></th>\n",
       "      <th></th>\n",
       "      <th></th>\n",
       "      <th></th>\n",
       "    </tr>\n",
       "  </thead>\n",
       "  <tbody>\n",
       "    <tr>\n",
       "      <th>2020-08-07 00:00:00-04:00</th>\n",
       "      <td>119.66</td>\n",
       "      <td>119.73</td>\n",
       "      <td>119.395</td>\n",
       "      <td>119.445</td>\n",
       "      <td>8830420</td>\n",
       "      <td>333.28</td>\n",
       "      <td>334.88</td>\n",
       "      <td>332.3</td>\n",
       "      <td>334.55</td>\n",
       "      <td>98710236</td>\n",
       "    </tr>\n",
       "  </tbody>\n",
       "</table>\n",
       "</div>"
      ],
      "text/plain": [
       "                              AGG                                        SPY  \\\n",
       "                             open    high      low    close   volume    open   \n",
       "time                                                                           \n",
       "2020-08-07 00:00:00-04:00  119.66  119.73  119.395  119.445  8830420  333.28   \n",
       "\n",
       "                                                            \n",
       "                             high    low   close    volume  \n",
       "time                                                        \n",
       "2020-08-07 00:00:00-04:00  334.88  332.3  334.55  98710236  "
      ]
     },
     "execution_count": 160,
     "metadata": {},
     "output_type": "execute_result"
    }
   ],
   "source": [
    "# Use the Alpaca get_barset function to get current closing prices the portfolio\n",
    "# Be sure to set the `df` property after the function to format the response object as a DataFrame\n",
    "prices_df = alpaca.get_barset(\n",
    "    tickers,\n",
    "    timeframe,\n",
    "    start=start_date,\n",
    "    end=end_date,\n",
    ").df\n",
    "\n",
    "# Review the first 5 rows of the Alpaca DataFrame\n",
    "prices_df"
   ]
  },
  {
   "cell_type": "markdown",
   "metadata": {},
   "source": [
    "#### Step 5: Navigating the Alpaca response DataFrame, select the `SPY` and `AGG` closing prices, and store them as variables."
   ]
  },
  {
   "cell_type": "code",
   "execution_count": 161,
   "metadata": {},
   "outputs": [
    {
     "name": "stdout",
     "output_type": "stream",
     "text": [
      "119.445\n"
     ]
    }
   ],
   "source": [
    "# Access the closing price for AGG from the Alpaca DataFrame\n",
    "# Converting the value to a floating point number\n",
    "agg_close_price = float(prices_df[\"AGG\"][\"close\"])\n",
    "\n",
    "\n",
    "# Print the AGG closing price\n",
    "print(agg_close_price)"
   ]
  },
  {
   "cell_type": "code",
   "execution_count": 162,
   "metadata": {},
   "outputs": [
    {
     "name": "stdout",
     "output_type": "stream",
     "text": [
      "334.55\n"
     ]
    }
   ],
   "source": [
    "# Access the closing price for SPY from the Alpaca DataFrame\n",
    "# Converting the value to a floating point number \n",
    "spy_close_price = float(prices_df[\"SPY\"][\"close\"])\n",
    "\n",
    "\n",
    "# Print the SPY closing price\n",
    "print(spy_close_price)"
   ]
  },
  {
   "cell_type": "markdown",
   "metadata": {},
   "source": [
    "#### Step 6: Calculate the value, in US dollars, of the current amount of shares in each of the stock and bond portions of the portfolio, and print the results."
   ]
  },
  {
   "cell_type": "code",
   "execution_count": 163,
   "metadata": {},
   "outputs": [
    {
     "name": "stdout",
     "output_type": "stream",
     "text": [
      "23889.0\n"
     ]
    }
   ],
   "source": [
    "# Calculate the current value of the bond portion of the portfolio\n",
    "agg_value = agg_shares * agg_close_price\n",
    "\n",
    "# Print the current value of the bond portfolio\n",
    "print(agg_value)"
   ]
  },
  {
   "cell_type": "code",
   "execution_count": 164,
   "metadata": {},
   "outputs": [
    {
     "name": "stdout",
     "output_type": "stream",
     "text": [
      "36800.5\n"
     ]
    }
   ],
   "source": [
    "# Calculate the current value of the stock portion of the portfolio\n",
    "spy_value = spy_shares * spy_close_price\n",
    "\n",
    "# Print the current value of the stock portfolio\n",
    "print(spy_value)"
   ]
  },
  {
   "cell_type": "code",
   "execution_count": 165,
   "metadata": {},
   "outputs": [
    {
     "name": "stdout",
     "output_type": "stream",
     "text": [
      "60689.5\n"
     ]
    }
   ],
   "source": [
    "# Calculate the total value of the stock and bond portion of the portfolio\n",
    "total_stocks_bonds = agg_value + spy_value\n",
    "\n",
    "# Print the current balance of the stock and bond portion of the portfolio\n",
    "print(total_stocks_bonds)"
   ]
  },
  {
   "cell_type": "code",
   "execution_count": 166,
   "metadata": {},
   "outputs": [
    {
     "name": "stdout",
     "output_type": "stream",
     "text": [
      "123597.614\n"
     ]
    }
   ],
   "source": [
    "# Calculate the total value of the member's entire savings portfolio\n",
    "# Add the value of the cryptocurrency walled to the value of the total stocks and bonds\n",
    "total_portfolio = total_stocks_bonds + total_crypto_wallet\n",
    "\n",
    "# Print current cryptocurrency wallet balance\n",
    "print(total_portfolio)"
   ]
  },
  {
   "cell_type": "markdown",
   "metadata": {},
   "source": [
    "### Evaluate the Emergency Fund\n",
    "\n",
    "In this section, you’ll use the valuations for the cryptocurrency wallet and for the stock and bond portions of the portfolio to determine if the credit union member has enough savings to build an emergency fund into their financial plan. To do this, complete the following steps:\n",
    "\n",
    "1. Create a Python list named `savings_data` that has two elements. The first element contains the total value of the cryptocurrency wallet. The second element contains the total value of the stock and bond portions of the portfolio.\n",
    "\n",
    "2. Use the `savings_data` list to create a Pandas DataFrame named `savings_df`, and then display this DataFrame. The function to create the DataFrame should take the following three parameters:\n",
    "\n",
    "    - `savings_data`: Use the list that you just created.\n",
    "\n",
    "    - `columns`: Set this parameter equal to a Python list with a single value called `amount`.\n",
    "\n",
    "    - `index`: Set this parameter equal to a Python list with the values of `crypto` and `stock/bond`.\n",
    "\n",
    "3. Use the `savings_df` DataFrame to plot a pie chart that visualizes the composition of the member’s portfolio. The y-axis of the pie chart uses `amount`. Be sure to add a title.\n",
    "\n",
    "4. Using Python, determine if the current portfolio has enough to create an emergency fund as part of the member’s financial plan. Ideally, an emergency fund should equal to three times the member’s monthly income. To do this, implement the following steps:\n",
    "\n",
    "    1. Create a variable named `emergency_fund_value`, and set it equal to three times the value of the member’s `monthly_income` of $12000. (You set this earlier in Part 1).\n",
    "\n",
    "    2. Create a series of three if statements to determine if the member’s total portfolio is large enough to fund the emergency portfolio:\n",
    "\n",
    "        1. If the total portfolio value is greater than the emergency fund value, display a message congratulating the member for having enough money in this fund.\n",
    "\n",
    "        2. Else if the total portfolio value is equal to the emergency fund value, display a message congratulating the member on reaching this important financial goal.\n",
    "\n",
    "        3. Else the total portfolio is less than the emergency fund value, so display a message showing how many dollars away the member is from reaching the goal. (Subtract the total portfolio value from the emergency fund value.)\n"
   ]
  },
  {
   "cell_type": "markdown",
   "metadata": {},
   "source": [
    "#### Step 1: Create a Python list named `savings_data` that has two elements. The first element contains the total value of the cryptocurrency wallet. The second element contains the total value of the stock and bond portions of the portfolio."
   ]
  },
  {
   "cell_type": "code",
   "execution_count": 167,
   "metadata": {},
   "outputs": [
    {
     "data": {
      "text/plain": [
       "[62908.114, 60689.5]"
      ]
     },
     "execution_count": 167,
     "metadata": {},
     "output_type": "execute_result"
    }
   ],
   "source": [
    "# Consolidate financial assets data into a Python list\n",
    "savings_data = [total_crypto_wallet,total_stocks_bonds]\n",
    "\n",
    "# Review the Python list savings_data\n",
    "savings_data"
   ]
  },
  {
   "cell_type": "markdown",
   "metadata": {},
   "source": [
    "#### Step 2: Use the `savings_data` list to create a Pandas DataFrame named `savings_df`, and then display this DataFrame. The function to create the DataFrame should take the following three parameters:\n",
    "\n",
    "- `savings_data`: Use the list that you just created.\n",
    "\n",
    "- `columns`: Set this parameter equal to a Python list with a single value called `amount`.\n",
    "\n",
    "- `index`: Set this parameter equal to a Python list with the values of `crypto` and `stock/bond`.\n"
   ]
  },
  {
   "cell_type": "code",
   "execution_count": 168,
   "metadata": {},
   "outputs": [
    {
     "data": {
      "text/html": [
       "<div>\n",
       "<style scoped>\n",
       "    .dataframe tbody tr th:only-of-type {\n",
       "        vertical-align: middle;\n",
       "    }\n",
       "\n",
       "    .dataframe tbody tr th {\n",
       "        vertical-align: top;\n",
       "    }\n",
       "\n",
       "    .dataframe thead th {\n",
       "        text-align: right;\n",
       "    }\n",
       "</style>\n",
       "<table border=\"1\" class=\"dataframe\">\n",
       "  <thead>\n",
       "    <tr style=\"text-align: right;\">\n",
       "      <th></th>\n",
       "      <th>Amount</th>\n",
       "    </tr>\n",
       "  </thead>\n",
       "  <tbody>\n",
       "    <tr>\n",
       "      <th>Crypto</th>\n",
       "      <td>62908.114</td>\n",
       "    </tr>\n",
       "    <tr>\n",
       "      <th>Stocks + Bonds</th>\n",
       "      <td>60689.500</td>\n",
       "    </tr>\n",
       "  </tbody>\n",
       "</table>\n",
       "</div>"
      ],
      "text/plain": [
       "                   Amount\n",
       "Crypto          62908.114\n",
       "Stocks + Bonds  60689.500"
      ]
     },
     "execution_count": 168,
     "metadata": {},
     "output_type": "execute_result"
    }
   ],
   "source": [
    "# Create a Pandas DataFrame called savings_df \n",
    "savings_df = pd.DataFrame(savings_data, index=[\"Crypto\", \"Stocks + Bonds\"], columns=['Amount'])\n",
    "\n",
    "# Display the savings_df DataFrame\n",
    "savings_df.head()"
   ]
  },
  {
   "cell_type": "markdown",
   "metadata": {},
   "source": [
    "#### Step 3: Use the `savings_df` DataFrame to plot a pie chart that visualizes the composition of the member’s portfolio. The y-axis of the pie chart uses `amount`. Be sure to add a title."
   ]
  },
  {
   "cell_type": "code",
   "execution_count": 169,
   "metadata": {},
   "outputs": [
    {
     "data": {
      "text/plain": [
       "<AxesSubplot:title={'center':'Portfolio Breakdown'}, ylabel='Amount'>"
      ]
     },
     "execution_count": 169,
     "metadata": {},
     "output_type": "execute_result"
    },
    {
     "data": {
      "image/png": "[encoded data removed]",
      "text/plain": [
       "<Figure size 720x504 with 1 Axes>"
      ]
     },
     "metadata": {},
     "output_type": "display_data"
    }
   ],
   "source": [
    "# Plot the total value of the member's portfolio (crypto and stock/bond) in a pie chart\n",
    "savings_df.plot.pie(figsize=(10,7), y='Amount', title='Portfolio Breakdown')"
   ]
  },
  {
   "cell_type": "markdown",
   "metadata": {},
   "source": [
    "#### Step 4: Using Python, determine if the current portfolio has enough to create an emergency fund as part of the member’s financial plan. Ideally, an emergency fund should equal to three times the member’s monthly income. To do this, implement the following steps:\n",
    "\n",
    "Step 1. Create a variable named `emergency_fund_value`, and set it equal to three times the value of the member’s `monthly_income` of 12000. (You set this earlier in Part 1).\n",
    "\n",
    "Step 2. Create a series of three if statements to determine if the member’s total portfolio is large enough to fund the emergency portfolio:\n",
    "\n",
    "* If the total portfolio value is greater than the emergency fund value, display a message congratulating the member for having enough money in this fund.\n",
    "\n",
    "* Else if the total portfolio value is equal to the emergency fund value, display a message congratulating the member on reaching this important financial goal.\n",
    "\n",
    "* Else the total portfolio is less than the emergency fund value, so display a message showing how many dollars away the member is from reaching the goal. (Subtract the total portfolio value from the emergency fund value.)\n"
   ]
  },
  {
   "cell_type": "markdown",
   "metadata": {},
   "source": [
    "##### Step 4-1: Create a variable named `emergency_fund_value`, and set it equal to three times the value of the member’s `monthly_income` of 12000. (You set this earlier in Part 1)."
   ]
  },
  {
   "cell_type": "code",
   "execution_count": 170,
   "metadata": {},
   "outputs": [],
   "source": [
    "# Create a variable named emergency_fund_value\n",
    "emergency_fund_value = (monthly_income * 3)"
   ]
  },
  {
   "cell_type": "markdown",
   "metadata": {},
   "source": [
    "##### Step 4-2: Create a series of three if statements to determine if the member’s total portfolio is large enough to fund the emergency portfolio:\n",
    "\n",
    "* If the total portfolio value is greater than the emergency fund value, display a message congratulating the member for having enough money in this fund.\n",
    "\n",
    "* Else if the total portfolio value is equal to the emergency fund value, display a message congratulating the member on reaching this important financial goal.\n",
    "\n",
    "* Else the total portfolio is less than the emergency fund value, so display a message showing how many dollars away the member is from reaching the goal. (Subtract the total portfolio value from the emergency fund value.)"
   ]
  },
  {
   "cell_type": "code",
   "execution_count": 214,
   "metadata": {},
   "outputs": [
    {
     "name": "stdout",
     "output_type": "stream",
     "text": [
      "Congratulations! You have more than enough money in your fund!\n"
     ]
    }
   ],
   "source": [
    "# Evaluate the possibility of creating an emergency fund with 3 conditions:\n",
    "if (total_portfolio > emergency_fund_value):\n",
    "    print(\"Congratulations! You have more than enough money in your fund!\")\n",
    "elif (total_portfolio == emergency_fund_value):\n",
    "    print(\"Congratulations! You have reached an important financial goal!\")\n",
    "elif (total_portfolio < emergency_fund_value):\n",
    "    print(f\"You are ${emergency_fund_value == total_portfolio: ,.2f} away from reaching the goal!\")"
   ]
  },
  {
   "cell_type": "markdown",
   "metadata": {},
   "source": [
    "## Part 2: Create a Financial Planner for Retirement"
   ]
  },
  {
   "cell_type": "markdown",
   "metadata": {},
   "source": [
    "### Create the Monte Carlo Simulation\n",
    "\n",
    "In this section, you’ll use the MCForecastTools library to create a Monte Carlo simulation for the member’s savings portfolio. To do this, complete the following steps:\n",
    "\n",
    "1. Make an API call via the Alpaca SDK to get 3 years of historical closing prices for a traditional 60/40 portfolio split: 60% stocks (SPY) and 40% bonds (AGG).\n",
    "\n",
    "2. Run a Monte Carlo simulation of 500 samples and 30 years for the 60/40 portfolio, and then plot the results.The following image shows the overlay line plot resulting from a simulation with these characteristics. However, because a random number generator is used to run each live Monte Carlo simulation, your image will differ slightly from this exact image:\n",
    "\n",
    "![A screenshot depicts the resulting plot.](Images/5-4-monte-carlo-line-plot.png)\n",
    "\n",
    "3. Plot the probability distribution of the Monte Carlo simulation. Plot the probability distribution of the Monte Carlo simulation. The following image shows the histogram plot resulting from a simulation with these characteristics. However, because a random number generator is used to run each live Monte Carlo simulation, your image will differ slightly from this exact image:\n",
    "\n",
    "![A screenshot depicts the histogram plot.](Images/5-4-monte-carlo-histogram.png)\n",
    "\n",
    "4. Generate the summary statistics for the Monte Carlo simulation.\n",
    "\n"
   ]
  },
  {
   "cell_type": "markdown",
   "metadata": {},
   "source": [
    "#### Step 1: Make an API call via the Alpaca SDK to get 3 years of historical closing prices for a traditional 60/40 portfolio split: 60% stocks (SPY) and 40% bonds (AGG)."
   ]
  },
  {
   "cell_type": "code",
   "execution_count": 215,
   "metadata": {},
   "outputs": [],
   "source": [
    "# Set start and end dates of 3 years back from your current date\n",
    "# Alternatively, you can use an end date of 2020-08-07 and work 3 years back from that date \n",
    "start_date = pd.Timestamp(\"2018-07-30\", tz=\"America/New_York\").isoformat()\n",
    "end_date = pd.Timestamp(\"2021-07-30\", tz=\"America/New_York\").isoformat()\n",
    "\n",
    "# Set number of rows to 1000 to retrieve the maximum amount of rows\n",
    "limit_rows = 1000"
   ]
  },
  {
   "cell_type": "code",
   "execution_count": 218,
   "metadata": {},
   "outputs": [
    {
     "data": {
      "text/html": [
       "<div>\n",
       "<style scoped>\n",
       "    .dataframe tbody tr th:only-of-type {\n",
       "        vertical-align: middle;\n",
       "    }\n",
       "\n",
       "    .dataframe tbody tr th {\n",
       "        vertical-align: top;\n",
       "    }\n",
       "\n",
       "    .dataframe thead tr th {\n",
       "        text-align: left;\n",
       "    }\n",
       "\n",
       "    .dataframe thead tr:last-of-type th {\n",
       "        text-align: right;\n",
       "    }\n",
       "</style>\n",
       "<table border=\"1\" class=\"dataframe\">\n",
       "  <thead>\n",
       "    <tr>\n",
       "      <th></th>\n",
       "      <th colspan=\"5\" halign=\"left\">AGG</th>\n",
       "      <th colspan=\"5\" halign=\"left\">SPY</th>\n",
       "    </tr>\n",
       "    <tr>\n",
       "      <th></th>\n",
       "      <th>open</th>\n",
       "      <th>high</th>\n",
       "      <th>low</th>\n",
       "      <th>close</th>\n",
       "      <th>volume</th>\n",
       "      <th>open</th>\n",
       "      <th>high</th>\n",
       "      <th>low</th>\n",
       "      <th>close</th>\n",
       "      <th>volume</th>\n",
       "    </tr>\n",
       "    <tr>\n",
       "      <th>time</th>\n",
       "      <th></th>\n",
       "      <th></th>\n",
       "      <th></th>\n",
       "      <th></th>\n",
       "      <th></th>\n",
       "      <th></th>\n",
       "      <th></th>\n",
       "      <th></th>\n",
       "      <th></th>\n",
       "      <th></th>\n",
       "    </tr>\n",
       "  </thead>\n",
       "  <tbody>\n",
       "    <tr>\n",
       "      <th>2018-07-30 00:00:00-04:00</th>\n",
       "      <td>105.94</td>\n",
       "      <td>106.0500</td>\n",
       "      <td>105.910</td>\n",
       "      <td>105.95</td>\n",
       "      <td>2784448.0</td>\n",
       "      <td>281.49</td>\n",
       "      <td>281.69</td>\n",
       "      <td>279.3600</td>\n",
       "      <td>279.89</td>\n",
       "      <td>46935673</td>\n",
       "    </tr>\n",
       "    <tr>\n",
       "      <th>2018-07-31 00:00:00-04:00</th>\n",
       "      <td>106.11</td>\n",
       "      <td>106.1756</td>\n",
       "      <td>106.050</td>\n",
       "      <td>106.06</td>\n",
       "      <td>4704161.0</td>\n",
       "      <td>280.81</td>\n",
       "      <td>282.02</td>\n",
       "      <td>280.3800</td>\n",
       "      <td>281.22</td>\n",
       "      <td>48645613</td>\n",
       "    </tr>\n",
       "    <tr>\n",
       "      <th>2018-08-01 00:00:00-04:00</th>\n",
       "      <td>105.55</td>\n",
       "      <td>105.7600</td>\n",
       "      <td>105.512</td>\n",
       "      <td>105.69</td>\n",
       "      <td>3896190.0</td>\n",
       "      <td>281.56</td>\n",
       "      <td>282.13</td>\n",
       "      <td>280.1315</td>\n",
       "      <td>280.92</td>\n",
       "      <td>40627557</td>\n",
       "    </tr>\n",
       "    <tr>\n",
       "      <th>2018-08-02 00:00:00-04:00</th>\n",
       "      <td>105.76</td>\n",
       "      <td>105.7600</td>\n",
       "      <td>105.650</td>\n",
       "      <td>105.73</td>\n",
       "      <td>2989387.0</td>\n",
       "      <td>279.38</td>\n",
       "      <td>282.58</td>\n",
       "      <td>279.1600</td>\n",
       "      <td>282.34</td>\n",
       "      <td>42491022</td>\n",
       "    </tr>\n",
       "    <tr>\n",
       "      <th>2018-08-03 00:00:00-04:00</th>\n",
       "      <td>105.81</td>\n",
       "      <td>105.9799</td>\n",
       "      <td>105.810</td>\n",
       "      <td>105.93</td>\n",
       "      <td>2286629.0</td>\n",
       "      <td>282.53</td>\n",
       "      <td>283.65</td>\n",
       "      <td>282.3300</td>\n",
       "      <td>283.64</td>\n",
       "      <td>34485363</td>\n",
       "    </tr>\n",
       "  </tbody>\n",
       "</table>\n",
       "</div>"
      ],
      "text/plain": [
       "                              AGG                                        \\\n",
       "                             open      high      low   close     volume   \n",
       "time                                                                      \n",
       "2018-07-30 00:00:00-04:00  105.94  106.0500  105.910  105.95  2784448.0   \n",
       "2018-07-31 00:00:00-04:00  106.11  106.1756  106.050  106.06  4704161.0   \n",
       "2018-08-01 00:00:00-04:00  105.55  105.7600  105.512  105.69  3896190.0   \n",
       "2018-08-02 00:00:00-04:00  105.76  105.7600  105.650  105.73  2989387.0   \n",
       "2018-08-03 00:00:00-04:00  105.81  105.9799  105.810  105.93  2286629.0   \n",
       "\n",
       "                              SPY                                      \n",
       "                             open    high       low   close    volume  \n",
       "time                                                                   \n",
       "2018-07-30 00:00:00-04:00  281.49  281.69  279.3600  279.89  46935673  \n",
       "2018-07-31 00:00:00-04:00  280.81  282.02  280.3800  281.22  48645613  \n",
       "2018-08-01 00:00:00-04:00  281.56  282.13  280.1315  280.92  40627557  \n",
       "2018-08-02 00:00:00-04:00  279.38  282.58  279.1600  282.34  42491022  \n",
       "2018-08-03 00:00:00-04:00  282.53  283.65  282.3300  283.64  34485363  "
      ]
     },
     "execution_count": 218,
     "metadata": {},
     "output_type": "execute_result"
    }
   ],
   "source": [
    "# Use the Alpaca get_barset function to make the API call to get the 3 years worth of pricing data\n",
    "# The tickers and timeframe parameters should have been set in Part 1 of this activity \n",
    "# The start and end dates should be updated with the information set above\n",
    "# Remember to add the df property to the end of the call so the response is returned as a DataFrame\n",
    "portfolio_df = alpaca.get_barset(\n",
    "    tickers,\n",
    "    timeframe,\n",
    "    start=start_date,\n",
    "    end=end_date,\n",
    "    limit=limit_rows\n",
    ").df\n",
    "\n",
    "# Display both the first and last five rows of the DataFrame\n",
    "portfolio_df.head()\n",
    "# YOUR CODE HERE\n"
   ]
  },
  {
   "cell_type": "markdown",
   "metadata": {},
   "source": [
    "#### Step 2: Run a Monte Carlo simulation of 500 samples and 30 years for the 60/40 portfolio, and then plot the results."
   ]
  },
  {
   "cell_type": "code",
   "execution_count": 219,
   "metadata": {},
   "outputs": [
    {
     "data": {
      "text/html": [
       "<div>\n",
       "<style scoped>\n",
       "    .dataframe tbody tr th:only-of-type {\n",
       "        vertical-align: middle;\n",
       "    }\n",
       "\n",
       "    .dataframe tbody tr th {\n",
       "        vertical-align: top;\n",
       "    }\n",
       "\n",
       "    .dataframe thead tr th {\n",
       "        text-align: left;\n",
       "    }\n",
       "\n",
       "    .dataframe thead tr:last-of-type th {\n",
       "        text-align: right;\n",
       "    }\n",
       "</style>\n",
       "<table border=\"1\" class=\"dataframe\">\n",
       "  <thead>\n",
       "    <tr>\n",
       "      <th></th>\n",
       "      <th colspan=\"6\" halign=\"left\">AGG</th>\n",
       "      <th colspan=\"6\" halign=\"left\">SPY</th>\n",
       "    </tr>\n",
       "    <tr>\n",
       "      <th></th>\n",
       "      <th>open</th>\n",
       "      <th>high</th>\n",
       "      <th>low</th>\n",
       "      <th>close</th>\n",
       "      <th>volume</th>\n",
       "      <th>daily_return</th>\n",
       "      <th>open</th>\n",
       "      <th>high</th>\n",
       "      <th>low</th>\n",
       "      <th>close</th>\n",
       "      <th>volume</th>\n",
       "      <th>daily_return</th>\n",
       "    </tr>\n",
       "    <tr>\n",
       "      <th>time</th>\n",
       "      <th></th>\n",
       "      <th></th>\n",
       "      <th></th>\n",
       "      <th></th>\n",
       "      <th></th>\n",
       "      <th></th>\n",
       "      <th></th>\n",
       "      <th></th>\n",
       "      <th></th>\n",
       "      <th></th>\n",
       "      <th></th>\n",
       "      <th></th>\n",
       "    </tr>\n",
       "  </thead>\n",
       "  <tbody>\n",
       "    <tr>\n",
       "      <th>2018-07-30 00:00:00-04:00</th>\n",
       "      <td>105.94</td>\n",
       "      <td>106.0500</td>\n",
       "      <td>105.910</td>\n",
       "      <td>105.95</td>\n",
       "      <td>2784448.0</td>\n",
       "      <td>NaN</td>\n",
       "      <td>281.49</td>\n",
       "      <td>281.69</td>\n",
       "      <td>279.3600</td>\n",
       "      <td>279.89</td>\n",
       "      <td>46935673</td>\n",
       "      <td>NaN</td>\n",
       "    </tr>\n",
       "    <tr>\n",
       "      <th>2018-07-31 00:00:00-04:00</th>\n",
       "      <td>106.11</td>\n",
       "      <td>106.1756</td>\n",
       "      <td>106.050</td>\n",
       "      <td>106.06</td>\n",
       "      <td>4704161.0</td>\n",
       "      <td>0.001038</td>\n",
       "      <td>280.81</td>\n",
       "      <td>282.02</td>\n",
       "      <td>280.3800</td>\n",
       "      <td>281.22</td>\n",
       "      <td>48645613</td>\n",
       "      <td>0.004752</td>\n",
       "    </tr>\n",
       "    <tr>\n",
       "      <th>2018-08-01 00:00:00-04:00</th>\n",
       "      <td>105.55</td>\n",
       "      <td>105.7600</td>\n",
       "      <td>105.512</td>\n",
       "      <td>105.69</td>\n",
       "      <td>3896190.0</td>\n",
       "      <td>-0.003489</td>\n",
       "      <td>281.56</td>\n",
       "      <td>282.13</td>\n",
       "      <td>280.1315</td>\n",
       "      <td>280.92</td>\n",
       "      <td>40627557</td>\n",
       "      <td>-0.001067</td>\n",
       "    </tr>\n",
       "    <tr>\n",
       "      <th>2018-08-02 00:00:00-04:00</th>\n",
       "      <td>105.76</td>\n",
       "      <td>105.7600</td>\n",
       "      <td>105.650</td>\n",
       "      <td>105.73</td>\n",
       "      <td>2989387.0</td>\n",
       "      <td>0.000378</td>\n",
       "      <td>279.38</td>\n",
       "      <td>282.58</td>\n",
       "      <td>279.1600</td>\n",
       "      <td>282.34</td>\n",
       "      <td>42491022</td>\n",
       "      <td>0.005055</td>\n",
       "    </tr>\n",
       "    <tr>\n",
       "      <th>2018-08-03 00:00:00-04:00</th>\n",
       "      <td>105.81</td>\n",
       "      <td>105.9799</td>\n",
       "      <td>105.810</td>\n",
       "      <td>105.93</td>\n",
       "      <td>2286629.0</td>\n",
       "      <td>0.001892</td>\n",
       "      <td>282.53</td>\n",
       "      <td>283.65</td>\n",
       "      <td>282.3300</td>\n",
       "      <td>283.64</td>\n",
       "      <td>34485363</td>\n",
       "      <td>0.004604</td>\n",
       "    </tr>\n",
       "  </tbody>\n",
       "</table>\n",
       "</div>"
      ],
      "text/plain": [
       "                              AGG                                        \\\n",
       "                             open      high      low   close     volume   \n",
       "time                                                                      \n",
       "2018-07-30 00:00:00-04:00  105.94  106.0500  105.910  105.95  2784448.0   \n",
       "2018-07-31 00:00:00-04:00  106.11  106.1756  106.050  106.06  4704161.0   \n",
       "2018-08-01 00:00:00-04:00  105.55  105.7600  105.512  105.69  3896190.0   \n",
       "2018-08-02 00:00:00-04:00  105.76  105.7600  105.650  105.73  2989387.0   \n",
       "2018-08-03 00:00:00-04:00  105.81  105.9799  105.810  105.93  2286629.0   \n",
       "\n",
       "                                           SPY                            \\\n",
       "                          daily_return    open    high       low   close   \n",
       "time                                                                       \n",
       "2018-07-30 00:00:00-04:00          NaN  281.49  281.69  279.3600  279.89   \n",
       "2018-07-31 00:00:00-04:00     0.001038  280.81  282.02  280.3800  281.22   \n",
       "2018-08-01 00:00:00-04:00    -0.003489  281.56  282.13  280.1315  280.92   \n",
       "2018-08-02 00:00:00-04:00     0.000378  279.38  282.58  279.1600  282.34   \n",
       "2018-08-03 00:00:00-04:00     0.001892  282.53  283.65  282.3300  283.64   \n",
       "\n",
       "                                                  \n",
       "                             volume daily_return  \n",
       "time                                              \n",
       "2018-07-30 00:00:00-04:00  46935673          NaN  \n",
       "2018-07-31 00:00:00-04:00  48645613     0.004752  \n",
       "2018-08-01 00:00:00-04:00  40627557    -0.001067  \n",
       "2018-08-02 00:00:00-04:00  42491022     0.005055  \n",
       "2018-08-03 00:00:00-04:00  34485363     0.004604  "
      ]
     },
     "execution_count": 219,
     "metadata": {},
     "output_type": "execute_result"
    }
   ],
   "source": [
    "# Configure the Monte Carlo simulation to forecast 30 years cumulative returns\n",
    "# The weights should be split 40% to AGG and 60% to SPY.\n",
    "# Run 500 samples.\n",
    "MC_stocks_bonds_30y = MCSimulation(\n",
    "    portfolio_data = portfolio_df,\n",
    "    weights = [.40,.60],\n",
    "    num_simulation = 500,\n",
    "    num_trading_days = 252*30\n",
    ")\n",
    "\n",
    "# Review the simulation input data\n",
    "MC_stocks_bonds_30y.portfolio_data.head()"
   ]
  },
  {
   "cell_type": "code",
   "execution_count": 220,
   "metadata": {},
   "outputs": [
    {
     "name": "stdout",
     "output_type": "stream",
     "text": [
      "Running Monte Carlo simulation number 0.\n",
      "Running Monte Carlo simulation number 10.\n",
      "Running Monte Carlo simulation number 20.\n",
      "Running Monte Carlo simulation number 30.\n",
      "Running Monte Carlo simulation number 40.\n",
      "Running Monte Carlo simulation number 50.\n",
      "Running Monte Carlo simulation number 60.\n",
      "Running Monte Carlo simulation number 70.\n",
      "Running Monte Carlo simulation number 80.\n",
      "Running Monte Carlo simulation number 90.\n",
      "Running Monte Carlo simulation number 100.\n",
      "Running Monte Carlo simulation number 110.\n",
      "Running Monte Carlo simulation number 120.\n",
      "Running Monte Carlo simulation number 130.\n",
      "Running Monte Carlo simulation number 140.\n",
      "Running Monte Carlo simulation number 150.\n",
      "Running Monte Carlo simulation number 160.\n",
      "Running Monte Carlo simulation number 170.\n",
      "Running Monte Carlo simulation number 180.\n",
      "Running Monte Carlo simulation number 190.\n",
      "Running Monte Carlo simulation number 200.\n",
      "Running Monte Carlo simulation number 210.\n",
      "Running Monte Carlo simulation number 220.\n",
      "Running Monte Carlo simulation number 230.\n",
      "Running Monte Carlo simulation number 240.\n",
      "Running Monte Carlo simulation number 250.\n",
      "Running Monte Carlo simulation number 260.\n",
      "Running Monte Carlo simulation number 270.\n",
      "Running Monte Carlo simulation number 280.\n",
      "Running Monte Carlo simulation number 290.\n",
      "Running Monte Carlo simulation number 300.\n",
      "Running Monte Carlo simulation number 310.\n",
      "Running Monte Carlo simulation number 320.\n",
      "Running Monte Carlo simulation number 330.\n",
      "Running Monte Carlo simulation number 340.\n",
      "Running Monte Carlo simulation number 350.\n",
      "Running Monte Carlo simulation number 360.\n",
      "Running Monte Carlo simulation number 370.\n",
      "Running Monte Carlo simulation number 380.\n",
      "Running Monte Carlo simulation number 390.\n",
      "Running Monte Carlo simulation number 400.\n",
      "Running Monte Carlo simulation number 410.\n",
      "Running Monte Carlo simulation number 420.\n",
      "Running Monte Carlo simulation number 430.\n",
      "Running Monte Carlo simulation number 440.\n",
      "Running Monte Carlo simulation number 450.\n",
      "Running Monte Carlo simulation number 460.\n",
      "Running Monte Carlo simulation number 470.\n",
      "Running Monte Carlo simulation number 480.\n",
      "Running Monte Carlo simulation number 490.\n"
     ]
    },
    {
     "data": {
      "text/html": [
       "<div>\n",
       "<style scoped>\n",
       "    .dataframe tbody tr th:only-of-type {\n",
       "        vertical-align: middle;\n",
       "    }\n",
       "\n",
       "    .dataframe tbody tr th {\n",
       "        vertical-align: top;\n",
       "    }\n",
       "\n",
       "    .dataframe thead th {\n",
       "        text-align: right;\n",
       "    }\n",
       "</style>\n",
       "<table border=\"1\" class=\"dataframe\">\n",
       "  <thead>\n",
       "    <tr style=\"text-align: right;\">\n",
       "      <th></th>\n",
       "      <th>0</th>\n",
       "      <th>1</th>\n",
       "      <th>2</th>\n",
       "      <th>3</th>\n",
       "      <th>4</th>\n",
       "      <th>5</th>\n",
       "      <th>6</th>\n",
       "      <th>7</th>\n",
       "      <th>8</th>\n",
       "      <th>9</th>\n",
       "      <th>...</th>\n",
       "      <th>490</th>\n",
       "      <th>491</th>\n",
       "      <th>492</th>\n",
       "      <th>493</th>\n",
       "      <th>494</th>\n",
       "      <th>495</th>\n",
       "      <th>496</th>\n",
       "      <th>497</th>\n",
       "      <th>498</th>\n",
       "      <th>499</th>\n",
       "    </tr>\n",
       "  </thead>\n",
       "  <tbody>\n",
       "    <tr>\n",
       "      <th>0</th>\n",
       "      <td>1.000000</td>\n",
       "      <td>1.000000</td>\n",
       "      <td>1.000000</td>\n",
       "      <td>1.000000</td>\n",
       "      <td>1.000000</td>\n",
       "      <td>1.000000</td>\n",
       "      <td>1.000000</td>\n",
       "      <td>1.000000</td>\n",
       "      <td>1.000000</td>\n",
       "      <td>1.000000</td>\n",
       "      <td>...</td>\n",
       "      <td>1.000000</td>\n",
       "      <td>1.000000</td>\n",
       "      <td>1.000000</td>\n",
       "      <td>1.000000</td>\n",
       "      <td>1.000000</td>\n",
       "      <td>1.000000</td>\n",
       "      <td>1.000000</td>\n",
       "      <td>1.000000</td>\n",
       "      <td>1.000000</td>\n",
       "      <td>1.000000</td>\n",
       "    </tr>\n",
       "    <tr>\n",
       "      <th>1</th>\n",
       "      <td>1.015685</td>\n",
       "      <td>1.003716</td>\n",
       "      <td>0.997262</td>\n",
       "      <td>1.007693</td>\n",
       "      <td>1.000544</td>\n",
       "      <td>1.004696</td>\n",
       "      <td>1.009092</td>\n",
       "      <td>1.000033</td>\n",
       "      <td>0.989079</td>\n",
       "      <td>0.989666</td>\n",
       "      <td>...</td>\n",
       "      <td>0.994152</td>\n",
       "      <td>0.993158</td>\n",
       "      <td>0.990736</td>\n",
       "      <td>1.003631</td>\n",
       "      <td>1.001794</td>\n",
       "      <td>0.993260</td>\n",
       "      <td>0.986652</td>\n",
       "      <td>1.011517</td>\n",
       "      <td>0.995018</td>\n",
       "      <td>1.009863</td>\n",
       "    </tr>\n",
       "    <tr>\n",
       "      <th>2</th>\n",
       "      <td>1.014252</td>\n",
       "      <td>0.990420</td>\n",
       "      <td>1.005708</td>\n",
       "      <td>1.028038</td>\n",
       "      <td>1.005604</td>\n",
       "      <td>1.007678</td>\n",
       "      <td>1.010001</td>\n",
       "      <td>1.015736</td>\n",
       "      <td>0.985927</td>\n",
       "      <td>0.989104</td>\n",
       "      <td>...</td>\n",
       "      <td>0.989513</td>\n",
       "      <td>0.995780</td>\n",
       "      <td>0.978183</td>\n",
       "      <td>1.004612</td>\n",
       "      <td>1.024372</td>\n",
       "      <td>0.988531</td>\n",
       "      <td>0.987663</td>\n",
       "      <td>1.013384</td>\n",
       "      <td>1.001457</td>\n",
       "      <td>1.010024</td>\n",
       "    </tr>\n",
       "    <tr>\n",
       "      <th>3</th>\n",
       "      <td>1.018369</td>\n",
       "      <td>0.980429</td>\n",
       "      <td>1.006124</td>\n",
       "      <td>1.028485</td>\n",
       "      <td>1.014394</td>\n",
       "      <td>0.991959</td>\n",
       "      <td>1.014577</td>\n",
       "      <td>1.005602</td>\n",
       "      <td>0.991397</td>\n",
       "      <td>0.974923</td>\n",
       "      <td>...</td>\n",
       "      <td>1.009599</td>\n",
       "      <td>1.000977</td>\n",
       "      <td>0.984039</td>\n",
       "      <td>1.011388</td>\n",
       "      <td>1.040736</td>\n",
       "      <td>0.979620</td>\n",
       "      <td>0.978413</td>\n",
       "      <td>1.014304</td>\n",
       "      <td>1.006592</td>\n",
       "      <td>1.013123</td>\n",
       "    </tr>\n",
       "    <tr>\n",
       "      <th>4</th>\n",
       "      <td>1.020314</td>\n",
       "      <td>0.995175</td>\n",
       "      <td>1.010526</td>\n",
       "      <td>1.021702</td>\n",
       "      <td>1.012331</td>\n",
       "      <td>0.982956</td>\n",
       "      <td>1.010366</td>\n",
       "      <td>1.007462</td>\n",
       "      <td>1.002830</td>\n",
       "      <td>0.962522</td>\n",
       "      <td>...</td>\n",
       "      <td>1.003055</td>\n",
       "      <td>0.992355</td>\n",
       "      <td>0.982390</td>\n",
       "      <td>1.022664</td>\n",
       "      <td>1.040233</td>\n",
       "      <td>0.978009</td>\n",
       "      <td>0.987304</td>\n",
       "      <td>1.011988</td>\n",
       "      <td>1.009596</td>\n",
       "      <td>1.003576</td>\n",
       "    </tr>\n",
       "    <tr>\n",
       "      <th>...</th>\n",
       "      <td>...</td>\n",
       "      <td>...</td>\n",
       "      <td>...</td>\n",
       "      <td>...</td>\n",
       "      <td>...</td>\n",
       "      <td>...</td>\n",
       "      <td>...</td>\n",
       "      <td>...</td>\n",
       "      <td>...</td>\n",
       "      <td>...</td>\n",
       "      <td>...</td>\n",
       "      <td>...</td>\n",
       "      <td>...</td>\n",
       "      <td>...</td>\n",
       "      <td>...</td>\n",
       "      <td>...</td>\n",
       "      <td>...</td>\n",
       "      <td>...</td>\n",
       "      <td>...</td>\n",
       "      <td>...</td>\n",
       "      <td>...</td>\n",
       "    </tr>\n",
       "    <tr>\n",
       "      <th>7556</th>\n",
       "      <td>65.647856</td>\n",
       "      <td>24.453835</td>\n",
       "      <td>61.075877</td>\n",
       "      <td>34.935495</td>\n",
       "      <td>55.956560</td>\n",
       "      <td>19.109749</td>\n",
       "      <td>98.570210</td>\n",
       "      <td>6.949980</td>\n",
       "      <td>63.344338</td>\n",
       "      <td>15.401912</td>\n",
       "      <td>...</td>\n",
       "      <td>38.889253</td>\n",
       "      <td>10.059337</td>\n",
       "      <td>26.997836</td>\n",
       "      <td>15.123053</td>\n",
       "      <td>1.883339</td>\n",
       "      <td>4.910897</td>\n",
       "      <td>44.858716</td>\n",
       "      <td>27.268004</td>\n",
       "      <td>48.256353</td>\n",
       "      <td>33.073692</td>\n",
       "    </tr>\n",
       "    <tr>\n",
       "      <th>7557</th>\n",
       "      <td>66.047910</td>\n",
       "      <td>24.090899</td>\n",
       "      <td>61.528739</td>\n",
       "      <td>34.987628</td>\n",
       "      <td>56.065180</td>\n",
       "      <td>19.219284</td>\n",
       "      <td>98.533057</td>\n",
       "      <td>6.979329</td>\n",
       "      <td>62.805658</td>\n",
       "      <td>15.398652</td>\n",
       "      <td>...</td>\n",
       "      <td>38.532333</td>\n",
       "      <td>10.096123</td>\n",
       "      <td>27.319706</td>\n",
       "      <td>15.050946</td>\n",
       "      <td>1.895482</td>\n",
       "      <td>4.893802</td>\n",
       "      <td>45.584559</td>\n",
       "      <td>26.760469</td>\n",
       "      <td>48.401532</td>\n",
       "      <td>32.905142</td>\n",
       "    </tr>\n",
       "    <tr>\n",
       "      <th>7558</th>\n",
       "      <td>65.891861</td>\n",
       "      <td>24.035615</td>\n",
       "      <td>62.114029</td>\n",
       "      <td>34.990474</td>\n",
       "      <td>55.826376</td>\n",
       "      <td>19.236089</td>\n",
       "      <td>97.990858</td>\n",
       "      <td>6.842781</td>\n",
       "      <td>62.283380</td>\n",
       "      <td>15.398712</td>\n",
       "      <td>...</td>\n",
       "      <td>38.784586</td>\n",
       "      <td>10.233209</td>\n",
       "      <td>26.825179</td>\n",
       "      <td>15.059814</td>\n",
       "      <td>1.908895</td>\n",
       "      <td>4.881277</td>\n",
       "      <td>45.960500</td>\n",
       "      <td>26.422779</td>\n",
       "      <td>47.893070</td>\n",
       "      <td>32.539812</td>\n",
       "    </tr>\n",
       "    <tr>\n",
       "      <th>7559</th>\n",
       "      <td>66.215068</td>\n",
       "      <td>24.181097</td>\n",
       "      <td>63.081334</td>\n",
       "      <td>35.487944</td>\n",
       "      <td>55.656106</td>\n",
       "      <td>19.398014</td>\n",
       "      <td>98.142875</td>\n",
       "      <td>6.834389</td>\n",
       "      <td>62.507699</td>\n",
       "      <td>15.330117</td>\n",
       "      <td>...</td>\n",
       "      <td>38.151354</td>\n",
       "      <td>10.229917</td>\n",
       "      <td>26.655526</td>\n",
       "      <td>15.105327</td>\n",
       "      <td>1.877803</td>\n",
       "      <td>4.923364</td>\n",
       "      <td>46.119310</td>\n",
       "      <td>26.543386</td>\n",
       "      <td>47.842615</td>\n",
       "      <td>32.620837</td>\n",
       "    </tr>\n",
       "    <tr>\n",
       "      <th>7560</th>\n",
       "      <td>65.794806</td>\n",
       "      <td>24.459269</td>\n",
       "      <td>62.414340</td>\n",
       "      <td>35.479775</td>\n",
       "      <td>54.839842</td>\n",
       "      <td>19.237927</td>\n",
       "      <td>97.844983</td>\n",
       "      <td>6.859451</td>\n",
       "      <td>63.393225</td>\n",
       "      <td>15.313827</td>\n",
       "      <td>...</td>\n",
       "      <td>37.991565</td>\n",
       "      <td>10.214796</td>\n",
       "      <td>26.532410</td>\n",
       "      <td>15.030915</td>\n",
       "      <td>1.866379</td>\n",
       "      <td>5.000432</td>\n",
       "      <td>46.420469</td>\n",
       "      <td>26.484290</td>\n",
       "      <td>48.492803</td>\n",
       "      <td>32.651203</td>\n",
       "    </tr>\n",
       "  </tbody>\n",
       "</table>\n",
       "<p>7561 rows × 500 columns</p>\n",
       "</div>"
      ],
      "text/plain": [
       "            0          1          2          3          4          5    \\\n",
       "0      1.000000   1.000000   1.000000   1.000000   1.000000   1.000000   \n",
       "1      1.015685   1.003716   0.997262   1.007693   1.000544   1.004696   \n",
       "2      1.014252   0.990420   1.005708   1.028038   1.005604   1.007678   \n",
       "3      1.018369   0.980429   1.006124   1.028485   1.014394   0.991959   \n",
       "4      1.020314   0.995175   1.010526   1.021702   1.012331   0.982956   \n",
       "...         ...        ...        ...        ...        ...        ...   \n",
       "7556  65.647856  24.453835  61.075877  34.935495  55.956560  19.109749   \n",
       "7557  66.047910  24.090899  61.528739  34.987628  56.065180  19.219284   \n",
       "7558  65.891861  24.035615  62.114029  34.990474  55.826376  19.236089   \n",
       "7559  66.215068  24.181097  63.081334  35.487944  55.656106  19.398014   \n",
       "7560  65.794806  24.459269  62.414340  35.479775  54.839842  19.237927   \n",
       "\n",
       "            6         7          8          9    ...        490        491  \\\n",
       "0      1.000000  1.000000   1.000000   1.000000  ...   1.000000   1.000000   \n",
       "1      1.009092  1.000033   0.989079   0.989666  ...   0.994152   0.993158   \n",
       "2      1.010001  1.015736   0.985927   0.989104  ...   0.989513   0.995780   \n",
       "3      1.014577  1.005602   0.991397   0.974923  ...   1.009599   1.000977   \n",
       "4      1.010366  1.007462   1.002830   0.962522  ...   1.003055   0.992355   \n",
       "...         ...       ...        ...        ...  ...        ...        ...   \n",
       "7556  98.570210  6.949980  63.344338  15.401912  ...  38.889253  10.059337   \n",
       "7557  98.533057  6.979329  62.805658  15.398652  ...  38.532333  10.096123   \n",
       "7558  97.990858  6.842781  62.283380  15.398712  ...  38.784586  10.233209   \n",
       "7559  98.142875  6.834389  62.507699  15.330117  ...  38.151354  10.229917   \n",
       "7560  97.844983  6.859451  63.393225  15.313827  ...  37.991565  10.214796   \n",
       "\n",
       "            492        493       494       495        496        497  \\\n",
       "0      1.000000   1.000000  1.000000  1.000000   1.000000   1.000000   \n",
       "1      0.990736   1.003631  1.001794  0.993260   0.986652   1.011517   \n",
       "2      0.978183   1.004612  1.024372  0.988531   0.987663   1.013384   \n",
       "3      0.984039   1.011388  1.040736  0.979620   0.978413   1.014304   \n",
       "4      0.982390   1.022664  1.040233  0.978009   0.987304   1.011988   \n",
       "...         ...        ...       ...       ...        ...        ...   \n",
       "7556  26.997836  15.123053  1.883339  4.910897  44.858716  27.268004   \n",
       "7557  27.319706  15.050946  1.895482  4.893802  45.584559  26.760469   \n",
       "7558  26.825179  15.059814  1.908895  4.881277  45.960500  26.422779   \n",
       "7559  26.655526  15.105327  1.877803  4.923364  46.119310  26.543386   \n",
       "7560  26.532410  15.030915  1.866379  5.000432  46.420469  26.484290   \n",
       "\n",
       "            498        499  \n",
       "0      1.000000   1.000000  \n",
       "1      0.995018   1.009863  \n",
       "2      1.001457   1.010024  \n",
       "3      1.006592   1.013123  \n",
       "4      1.009596   1.003576  \n",
       "...         ...        ...  \n",
       "7556  48.256353  33.073692  \n",
       "7557  48.401532  32.905142  \n",
       "7558  47.893070  32.539812  \n",
       "7559  47.842615  32.620837  \n",
       "7560  48.492803  32.651203  \n",
       "\n",
       "[7561 rows x 500 columns]"
      ]
     },
     "execution_count": 220,
     "metadata": {},
     "output_type": "execute_result"
    }
   ],
   "source": [
    "# Run the Monte Carlo simulation to forecast 30 years cumulative returns\n",
    "MC_stocks_bonds_30y.calc_cumulative_return()"
   ]
  },
  {
   "cell_type": "code",
   "execution_count": 223,
   "metadata": {},
   "outputs": [
    {
     "data": {
      "image/png": "[encoded data removed]",
      "text/plain": [
       "<Figure size 432x288 with 1 Axes>"
      ]
     },
     "metadata": {
      "needs_background": "light"
     },
     "output_type": "display_data"
    }
   ],
   "source": [
    "# Visualize the 30-year Monte Carlo simulation by creating an\n",
    "# overlay line plot\n",
    "stocks_bonds_line_plot_30y = MC_stocks_bonds_30y.plot_simulation()"
   ]
  },
  {
   "cell_type": "markdown",
   "metadata": {},
   "source": [
    "#### Step 3: Plot the probability distribution of the Monte Carlo simulation."
   ]
  },
  {
   "cell_type": "code",
   "execution_count": 224,
   "metadata": {},
   "outputs": [
    {
     "data": {
      "image/png": "[encoded data removed]",
      "text/plain": [
       "<Figure size 432x288 with 1 Axes>"
      ]
     },
     "metadata": {
      "needs_background": "light"
     },
     "output_type": "display_data"
    }
   ],
   "source": [
    "# Visualize the probability distribution of the 30-year Monte Carlo simulation \n",
    "# by plotting a histogram\n",
    "stocks_bonds_distribution_plot_30y = MC_stocks_bonds_30y.plot_distribution()"
   ]
  },
  {
   "cell_type": "markdown",
   "metadata": {},
   "source": [
    "#### Step 4: Generate the summary statistics for the Monte Carlo simulation."
   ]
  },
  {
   "cell_type": "code",
   "execution_count": 225,
   "metadata": {},
   "outputs": [
    {
     "name": "stdout",
     "output_type": "stream",
     "text": [
      "count           500.000000\n",
      "mean             34.694562\n",
      "std              29.965290\n",
      "min               1.866379\n",
      "25%              15.606636\n",
      "50%              25.766706\n",
      "75%              44.955735\n",
      "max             222.740474\n",
      "95% CI Lower      5.033448\n",
      "95% CI Upper    114.397280\n",
      "Name: 7560, dtype: float64\n"
     ]
    }
   ],
   "source": [
    "# Generate summary statistics from the 30-year Monte Carlo simulation results\n",
    "# Save the results as a variable\n",
    "stocks_bonds_stats_30y = MC_stocks_bonds_30y.summarize_cumulative_return()\n",
    "\n",
    "# Review the 30-year Monte Carlo summary statistics\n",
    "print(stocks_bonds_stats_30y)"
   ]
  },
  {
   "cell_type": "markdown",
   "metadata": {},
   "source": [
    "### Analyze the Retirement Portfolio Forecasts\n",
    "\n",
    "Using the current value of only the stock and bond portion of the member's portfolio and the summary statistics that you generated from the Monte Carlo simulation, answer the following question in your Jupyter notebook:\n",
    "\n",
    "-  What are the lower and upper bounds for the expected value of the portfolio with a 95% confidence interval?\n"
   ]
  },
  {
   "cell_type": "code",
   "execution_count": 231,
   "metadata": {},
   "outputs": [
    {
     "name": "stdout",
     "output_type": "stream",
     "text": [
      "60689.5\n"
     ]
    }
   ],
   "source": [
    "# Print the current balance of the stock and bond portion of the members portfolio\n",
    "current_balance = total_stocks_bonds\n",
    "print(current_balance)"
   ]
  },
  {
   "cell_type": "code",
   "execution_count": 229,
   "metadata": {},
   "outputs": [
    {
     "name": "stdout",
     "output_type": "stream",
     "text": [
      "The expected value of the portfolio with a 95% confidence interval will end within the range of $305477 and $6942714.\n"
     ]
    }
   ],
   "source": [
    "# Use the lower and upper `95%` confidence intervals to calculate the range of the possible outcomes for the current stock/bond portfolio\n",
    "ci_lower_cumulative_return_30y = round(stocks_bonds_stats_30y[8] * current_balance)\n",
    "ci_upper_cumulative_return_30y = round(stocks_bonds_stats_30y[9] * current_balance)\n",
    "\n",
    "# Print the result of your calculations\n",
    "print(f\"The expected 30 year value of the portfolio with a 95% confidence interval\"\n",
    "      f\" will end within the range of\"\n",
    "      f\" ${ci_lower_cumulative_return_30y} and ${ci_upper_cumulative_return_30y}.\")"
   ]
  },
  {
   "cell_type": "markdown",
   "metadata": {},
   "source": [
    "### Forecast Cumulative Returns in 10 Years\n",
    "\n",
    "The CTO of the credit union is impressed with your work on these planning tools but wonders if 30 years is a long time to wait until retirement. So, your next task is to adjust the retirement portfolio and run a new Monte Carlo simulation to find out if the changes will allow members to retire earlier.\n",
    "\n",
    "For this new Monte Carlo simulation, do the following: \n",
    "\n",
    "- Forecast the cumulative returns for 10 years from now. Because of the shortened investment horizon (30 years to 10 years), the portfolio needs to invest more heavily in the riskier asset&mdash;that is, stock&mdash;to help accumulate wealth for retirement. \n",
    "\n",
    "- Adjust the weights of the retirement portfolio so that the composition for the Monte Carlo simulation consists of 20% bonds and 80% stocks. \n",
    "\n",
    "- Run the simulation over 500 samples, and use the same data that the API call to Alpaca generated.\n",
    "\n",
    "- Based on the new Monte Carlo simulation, answer the following questions in your Jupyter notebook:\n",
    "\n",
    "    - Using the current value of only the stock and bond portion of the member's portfolio and the summary statistics that you generated from the new Monte Carlo simulation, what are the lower and upper bounds for the expected value of the portfolio (with the new weights) with a 95% confidence interval?\n",
    "\n",
    "    - Will weighting the portfolio more heavily toward stocks allow the credit union members to retire after only 10 years?\n"
   ]
  },
  {
   "cell_type": "code",
   "execution_count": 221,
   "metadata": {},
   "outputs": [
    {
     "data": {
      "text/html": [
       "<div>\n",
       "<style scoped>\n",
       "    .dataframe tbody tr th:only-of-type {\n",
       "        vertical-align: middle;\n",
       "    }\n",
       "\n",
       "    .dataframe tbody tr th {\n",
       "        vertical-align: top;\n",
       "    }\n",
       "\n",
       "    .dataframe thead tr th {\n",
       "        text-align: left;\n",
       "    }\n",
       "\n",
       "    .dataframe thead tr:last-of-type th {\n",
       "        text-align: right;\n",
       "    }\n",
       "</style>\n",
       "<table border=\"1\" class=\"dataframe\">\n",
       "  <thead>\n",
       "    <tr>\n",
       "      <th></th>\n",
       "      <th colspan=\"6\" halign=\"left\">AGG</th>\n",
       "      <th colspan=\"6\" halign=\"left\">SPY</th>\n",
       "    </tr>\n",
       "    <tr>\n",
       "      <th></th>\n",
       "      <th>open</th>\n",
       "      <th>high</th>\n",
       "      <th>low</th>\n",
       "      <th>close</th>\n",
       "      <th>volume</th>\n",
       "      <th>daily_return</th>\n",
       "      <th>open</th>\n",
       "      <th>high</th>\n",
       "      <th>low</th>\n",
       "      <th>close</th>\n",
       "      <th>volume</th>\n",
       "      <th>daily_return</th>\n",
       "    </tr>\n",
       "    <tr>\n",
       "      <th>time</th>\n",
       "      <th></th>\n",
       "      <th></th>\n",
       "      <th></th>\n",
       "      <th></th>\n",
       "      <th></th>\n",
       "      <th></th>\n",
       "      <th></th>\n",
       "      <th></th>\n",
       "      <th></th>\n",
       "      <th></th>\n",
       "      <th></th>\n",
       "      <th></th>\n",
       "    </tr>\n",
       "  </thead>\n",
       "  <tbody>\n",
       "    <tr>\n",
       "      <th>2018-07-30 00:00:00-04:00</th>\n",
       "      <td>105.94</td>\n",
       "      <td>106.0500</td>\n",
       "      <td>105.910</td>\n",
       "      <td>105.95</td>\n",
       "      <td>2784448.0</td>\n",
       "      <td>NaN</td>\n",
       "      <td>281.49</td>\n",
       "      <td>281.69</td>\n",
       "      <td>279.3600</td>\n",
       "      <td>279.89</td>\n",
       "      <td>46935673</td>\n",
       "      <td>NaN</td>\n",
       "    </tr>\n",
       "    <tr>\n",
       "      <th>2018-07-31 00:00:00-04:00</th>\n",
       "      <td>106.11</td>\n",
       "      <td>106.1756</td>\n",
       "      <td>106.050</td>\n",
       "      <td>106.06</td>\n",
       "      <td>4704161.0</td>\n",
       "      <td>0.001038</td>\n",
       "      <td>280.81</td>\n",
       "      <td>282.02</td>\n",
       "      <td>280.3800</td>\n",
       "      <td>281.22</td>\n",
       "      <td>48645613</td>\n",
       "      <td>0.004752</td>\n",
       "    </tr>\n",
       "    <tr>\n",
       "      <th>2018-08-01 00:00:00-04:00</th>\n",
       "      <td>105.55</td>\n",
       "      <td>105.7600</td>\n",
       "      <td>105.512</td>\n",
       "      <td>105.69</td>\n",
       "      <td>3896190.0</td>\n",
       "      <td>-0.003489</td>\n",
       "      <td>281.56</td>\n",
       "      <td>282.13</td>\n",
       "      <td>280.1315</td>\n",
       "      <td>280.92</td>\n",
       "      <td>40627557</td>\n",
       "      <td>-0.001067</td>\n",
       "    </tr>\n",
       "    <tr>\n",
       "      <th>2018-08-02 00:00:00-04:00</th>\n",
       "      <td>105.76</td>\n",
       "      <td>105.7600</td>\n",
       "      <td>105.650</td>\n",
       "      <td>105.73</td>\n",
       "      <td>2989387.0</td>\n",
       "      <td>0.000378</td>\n",
       "      <td>279.38</td>\n",
       "      <td>282.58</td>\n",
       "      <td>279.1600</td>\n",
       "      <td>282.34</td>\n",
       "      <td>42491022</td>\n",
       "      <td>0.005055</td>\n",
       "    </tr>\n",
       "    <tr>\n",
       "      <th>2018-08-03 00:00:00-04:00</th>\n",
       "      <td>105.81</td>\n",
       "      <td>105.9799</td>\n",
       "      <td>105.810</td>\n",
       "      <td>105.93</td>\n",
       "      <td>2286629.0</td>\n",
       "      <td>0.001892</td>\n",
       "      <td>282.53</td>\n",
       "      <td>283.65</td>\n",
       "      <td>282.3300</td>\n",
       "      <td>283.64</td>\n",
       "      <td>34485363</td>\n",
       "      <td>0.004604</td>\n",
       "    </tr>\n",
       "  </tbody>\n",
       "</table>\n",
       "</div>"
      ],
      "text/plain": [
       "                              AGG                                        \\\n",
       "                             open      high      low   close     volume   \n",
       "time                                                                      \n",
       "2018-07-30 00:00:00-04:00  105.94  106.0500  105.910  105.95  2784448.0   \n",
       "2018-07-31 00:00:00-04:00  106.11  106.1756  106.050  106.06  4704161.0   \n",
       "2018-08-01 00:00:00-04:00  105.55  105.7600  105.512  105.69  3896190.0   \n",
       "2018-08-02 00:00:00-04:00  105.76  105.7600  105.650  105.73  2989387.0   \n",
       "2018-08-03 00:00:00-04:00  105.81  105.9799  105.810  105.93  2286629.0   \n",
       "\n",
       "                                           SPY                            \\\n",
       "                          daily_return    open    high       low   close   \n",
       "time                                                                       \n",
       "2018-07-30 00:00:00-04:00          NaN  281.49  281.69  279.3600  279.89   \n",
       "2018-07-31 00:00:00-04:00     0.001038  280.81  282.02  280.3800  281.22   \n",
       "2018-08-01 00:00:00-04:00    -0.003489  281.56  282.13  280.1315  280.92   \n",
       "2018-08-02 00:00:00-04:00     0.000378  279.38  282.58  279.1600  282.34   \n",
       "2018-08-03 00:00:00-04:00     0.001892  282.53  283.65  282.3300  283.64   \n",
       "\n",
       "                                                  \n",
       "                             volume daily_return  \n",
       "time                                              \n",
       "2018-07-30 00:00:00-04:00  46935673          NaN  \n",
       "2018-07-31 00:00:00-04:00  48645613     0.004752  \n",
       "2018-08-01 00:00:00-04:00  40627557    -0.001067  \n",
       "2018-08-02 00:00:00-04:00  42491022     0.005055  \n",
       "2018-08-03 00:00:00-04:00  34485363     0.004604  "
      ]
     },
     "execution_count": 221,
     "metadata": {},
     "output_type": "execute_result"
    }
   ],
   "source": [
    "# Configure a Monte Carlo simulation to forecast 10 years cumulative returns\n",
    "# The weights should be split 20% to AGG and 80% to SPY.\n",
    "# Run 500 samples.\n",
    "MC_stocks_bonds_10y = MCSimulation(\n",
    "    portfolio_data = portfolio_df,\n",
    "    weights = [.20,.80],\n",
    "    num_simulation = 500,\n",
    "    num_trading_days = 252*10\n",
    ")\n",
    "\n",
    "# Review the simulation input data\n",
    "MC_stocks_bonds_10y.portfolio_data.head()"
   ]
  },
  {
   "cell_type": "code",
   "execution_count": 222,
   "metadata": {},
   "outputs": [
    {
     "name": "stdout",
     "output_type": "stream",
     "text": [
      "Running Monte Carlo simulation number 0.\n",
      "Running Monte Carlo simulation number 10.\n",
      "Running Monte Carlo simulation number 20.\n",
      "Running Monte Carlo simulation number 30.\n",
      "Running Monte Carlo simulation number 40.\n",
      "Running Monte Carlo simulation number 50.\n",
      "Running Monte Carlo simulation number 60.\n",
      "Running Monte Carlo simulation number 70.\n",
      "Running Monte Carlo simulation number 80.\n",
      "Running Monte Carlo simulation number 90.\n",
      "Running Monte Carlo simulation number 100.\n",
      "Running Monte Carlo simulation number 110.\n",
      "Running Monte Carlo simulation number 120.\n",
      "Running Monte Carlo simulation number 130.\n",
      "Running Monte Carlo simulation number 140.\n",
      "Running Monte Carlo simulation number 150.\n",
      "Running Monte Carlo simulation number 160.\n",
      "Running Monte Carlo simulation number 170.\n",
      "Running Monte Carlo simulation number 180.\n",
      "Running Monte Carlo simulation number 190.\n",
      "Running Monte Carlo simulation number 200.\n",
      "Running Monte Carlo simulation number 210.\n",
      "Running Monte Carlo simulation number 220.\n",
      "Running Monte Carlo simulation number 230.\n",
      "Running Monte Carlo simulation number 240.\n",
      "Running Monte Carlo simulation number 250.\n",
      "Running Monte Carlo simulation number 260.\n",
      "Running Monte Carlo simulation number 270.\n",
      "Running Monte Carlo simulation number 280.\n",
      "Running Monte Carlo simulation number 290.\n",
      "Running Monte Carlo simulation number 300.\n",
      "Running Monte Carlo simulation number 310.\n",
      "Running Monte Carlo simulation number 320.\n",
      "Running Monte Carlo simulation number 330.\n",
      "Running Monte Carlo simulation number 340.\n",
      "Running Monte Carlo simulation number 350.\n",
      "Running Monte Carlo simulation number 360.\n",
      "Running Monte Carlo simulation number 370.\n",
      "Running Monte Carlo simulation number 380.\n",
      "Running Monte Carlo simulation number 390.\n",
      "Running Monte Carlo simulation number 400.\n",
      "Running Monte Carlo simulation number 410.\n",
      "Running Monte Carlo simulation number 420.\n",
      "Running Monte Carlo simulation number 430.\n",
      "Running Monte Carlo simulation number 440.\n",
      "Running Monte Carlo simulation number 450.\n",
      "Running Monte Carlo simulation number 460.\n",
      "Running Monte Carlo simulation number 470.\n",
      "Running Monte Carlo simulation number 480.\n",
      "Running Monte Carlo simulation number 490.\n"
     ]
    },
    {
     "data": {
      "text/html": [
       "<div>\n",
       "<style scoped>\n",
       "    .dataframe tbody tr th:only-of-type {\n",
       "        vertical-align: middle;\n",
       "    }\n",
       "\n",
       "    .dataframe tbody tr th {\n",
       "        vertical-align: top;\n",
       "    }\n",
       "\n",
       "    .dataframe thead th {\n",
       "        text-align: right;\n",
       "    }\n",
       "</style>\n",
       "<table border=\"1\" class=\"dataframe\">\n",
       "  <thead>\n",
       "    <tr style=\"text-align: right;\">\n",
       "      <th></th>\n",
       "      <th>0</th>\n",
       "      <th>1</th>\n",
       "      <th>2</th>\n",
       "      <th>3</th>\n",
       "      <th>4</th>\n",
       "      <th>5</th>\n",
       "      <th>6</th>\n",
       "      <th>7</th>\n",
       "      <th>8</th>\n",
       "      <th>9</th>\n",
       "      <th>...</th>\n",
       "      <th>490</th>\n",
       "      <th>491</th>\n",
       "      <th>492</th>\n",
       "      <th>493</th>\n",
       "      <th>494</th>\n",
       "      <th>495</th>\n",
       "      <th>496</th>\n",
       "      <th>497</th>\n",
       "      <th>498</th>\n",
       "      <th>499</th>\n",
       "    </tr>\n",
       "  </thead>\n",
       "  <tbody>\n",
       "    <tr>\n",
       "      <th>0</th>\n",
       "      <td>1.000000</td>\n",
       "      <td>1.000000</td>\n",
       "      <td>1.000000</td>\n",
       "      <td>1.000000</td>\n",
       "      <td>1.000000</td>\n",
       "      <td>1.000000</td>\n",
       "      <td>1.000000</td>\n",
       "      <td>1.000000</td>\n",
       "      <td>1.000000</td>\n",
       "      <td>1.000000</td>\n",
       "      <td>...</td>\n",
       "      <td>1.000000</td>\n",
       "      <td>1.000000</td>\n",
       "      <td>1.000000</td>\n",
       "      <td>1.000000</td>\n",
       "      <td>1.000000</td>\n",
       "      <td>1.000000</td>\n",
       "      <td>1.000000</td>\n",
       "      <td>1.000000</td>\n",
       "      <td>1.000000</td>\n",
       "      <td>1.000000</td>\n",
       "    </tr>\n",
       "    <tr>\n",
       "      <th>1</th>\n",
       "      <td>1.008826</td>\n",
       "      <td>0.997654</td>\n",
       "      <td>1.006660</td>\n",
       "      <td>1.011196</td>\n",
       "      <td>0.987922</td>\n",
       "      <td>0.990199</td>\n",
       "      <td>1.018693</td>\n",
       "      <td>1.000844</td>\n",
       "      <td>0.996278</td>\n",
       "      <td>1.000639</td>\n",
       "      <td>...</td>\n",
       "      <td>0.995821</td>\n",
       "      <td>1.002911</td>\n",
       "      <td>0.991907</td>\n",
       "      <td>1.008665</td>\n",
       "      <td>1.008114</td>\n",
       "      <td>1.018760</td>\n",
       "      <td>0.993682</td>\n",
       "      <td>1.006122</td>\n",
       "      <td>1.002799</td>\n",
       "      <td>0.987021</td>\n",
       "    </tr>\n",
       "    <tr>\n",
       "      <th>2</th>\n",
       "      <td>0.987253</td>\n",
       "      <td>0.999756</td>\n",
       "      <td>1.005969</td>\n",
       "      <td>1.006546</td>\n",
       "      <td>0.997524</td>\n",
       "      <td>0.997102</td>\n",
       "      <td>1.015980</td>\n",
       "      <td>1.003034</td>\n",
       "      <td>1.013661</td>\n",
       "      <td>0.995416</td>\n",
       "      <td>...</td>\n",
       "      <td>0.989757</td>\n",
       "      <td>0.997150</td>\n",
       "      <td>0.972246</td>\n",
       "      <td>0.999497</td>\n",
       "      <td>1.025538</td>\n",
       "      <td>1.031743</td>\n",
       "      <td>0.988261</td>\n",
       "      <td>1.008056</td>\n",
       "      <td>1.035215</td>\n",
       "      <td>0.979020</td>\n",
       "    </tr>\n",
       "    <tr>\n",
       "      <th>3</th>\n",
       "      <td>0.994755</td>\n",
       "      <td>0.994435</td>\n",
       "      <td>1.002095</td>\n",
       "      <td>1.019492</td>\n",
       "      <td>0.985937</td>\n",
       "      <td>0.996297</td>\n",
       "      <td>1.013853</td>\n",
       "      <td>1.014712</td>\n",
       "      <td>1.018267</td>\n",
       "      <td>0.999768</td>\n",
       "      <td>...</td>\n",
       "      <td>0.993206</td>\n",
       "      <td>1.012491</td>\n",
       "      <td>0.992921</td>\n",
       "      <td>0.995419</td>\n",
       "      <td>1.029995</td>\n",
       "      <td>1.053996</td>\n",
       "      <td>0.996989</td>\n",
       "      <td>1.006517</td>\n",
       "      <td>1.049806</td>\n",
       "      <td>0.981931</td>\n",
       "    </tr>\n",
       "    <tr>\n",
       "      <th>4</th>\n",
       "      <td>1.005639</td>\n",
       "      <td>0.998587</td>\n",
       "      <td>0.993609</td>\n",
       "      <td>1.023633</td>\n",
       "      <td>0.990141</td>\n",
       "      <td>0.997331</td>\n",
       "      <td>1.010014</td>\n",
       "      <td>1.002142</td>\n",
       "      <td>1.018897</td>\n",
       "      <td>1.024339</td>\n",
       "      <td>...</td>\n",
       "      <td>0.996302</td>\n",
       "      <td>1.016150</td>\n",
       "      <td>0.984748</td>\n",
       "      <td>1.014818</td>\n",
       "      <td>1.033656</td>\n",
       "      <td>1.054048</td>\n",
       "      <td>1.006744</td>\n",
       "      <td>1.001457</td>\n",
       "      <td>1.045439</td>\n",
       "      <td>0.986605</td>\n",
       "    </tr>\n",
       "    <tr>\n",
       "      <th>...</th>\n",
       "      <td>...</td>\n",
       "      <td>...</td>\n",
       "      <td>...</td>\n",
       "      <td>...</td>\n",
       "      <td>...</td>\n",
       "      <td>...</td>\n",
       "      <td>...</td>\n",
       "      <td>...</td>\n",
       "      <td>...</td>\n",
       "      <td>...</td>\n",
       "      <td>...</td>\n",
       "      <td>...</td>\n",
       "      <td>...</td>\n",
       "      <td>...</td>\n",
       "      <td>...</td>\n",
       "      <td>...</td>\n",
       "      <td>...</td>\n",
       "      <td>...</td>\n",
       "      <td>...</td>\n",
       "      <td>...</td>\n",
       "      <td>...</td>\n",
       "    </tr>\n",
       "    <tr>\n",
       "      <th>2516</th>\n",
       "      <td>2.464180</td>\n",
       "      <td>4.395190</td>\n",
       "      <td>4.493096</td>\n",
       "      <td>2.649248</td>\n",
       "      <td>3.611811</td>\n",
       "      <td>8.263854</td>\n",
       "      <td>4.261951</td>\n",
       "      <td>3.124736</td>\n",
       "      <td>4.731352</td>\n",
       "      <td>2.980817</td>\n",
       "      <td>...</td>\n",
       "      <td>1.444274</td>\n",
       "      <td>6.407420</td>\n",
       "      <td>4.327252</td>\n",
       "      <td>10.836063</td>\n",
       "      <td>2.128992</td>\n",
       "      <td>5.358947</td>\n",
       "      <td>2.426346</td>\n",
       "      <td>7.570886</td>\n",
       "      <td>6.505115</td>\n",
       "      <td>3.436007</td>\n",
       "    </tr>\n",
       "    <tr>\n",
       "      <th>2517</th>\n",
       "      <td>2.446559</td>\n",
       "      <td>4.459370</td>\n",
       "      <td>4.532467</td>\n",
       "      <td>2.682285</td>\n",
       "      <td>3.563920</td>\n",
       "      <td>8.235846</td>\n",
       "      <td>4.235501</td>\n",
       "      <td>3.078616</td>\n",
       "      <td>4.797742</td>\n",
       "      <td>3.005492</td>\n",
       "      <td>...</td>\n",
       "      <td>1.445876</td>\n",
       "      <td>6.314572</td>\n",
       "      <td>4.337304</td>\n",
       "      <td>10.684034</td>\n",
       "      <td>2.155600</td>\n",
       "      <td>5.326324</td>\n",
       "      <td>2.415695</td>\n",
       "      <td>7.542575</td>\n",
       "      <td>6.539866</td>\n",
       "      <td>3.422932</td>\n",
       "    </tr>\n",
       "    <tr>\n",
       "      <th>2518</th>\n",
       "      <td>2.466934</td>\n",
       "      <td>4.505672</td>\n",
       "      <td>4.387555</td>\n",
       "      <td>2.688393</td>\n",
       "      <td>3.566471</td>\n",
       "      <td>8.089304</td>\n",
       "      <td>4.233406</td>\n",
       "      <td>3.056130</td>\n",
       "      <td>4.850494</td>\n",
       "      <td>2.995421</td>\n",
       "      <td>...</td>\n",
       "      <td>1.448981</td>\n",
       "      <td>6.340663</td>\n",
       "      <td>4.344150</td>\n",
       "      <td>10.782966</td>\n",
       "      <td>2.160027</td>\n",
       "      <td>5.352821</td>\n",
       "      <td>2.449327</td>\n",
       "      <td>7.656238</td>\n",
       "      <td>6.697876</td>\n",
       "      <td>3.476122</td>\n",
       "    </tr>\n",
       "    <tr>\n",
       "      <th>2519</th>\n",
       "      <td>2.400954</td>\n",
       "      <td>4.470454</td>\n",
       "      <td>4.435160</td>\n",
       "      <td>2.656741</td>\n",
       "      <td>3.591932</td>\n",
       "      <td>8.241524</td>\n",
       "      <td>4.199804</td>\n",
       "      <td>3.036714</td>\n",
       "      <td>4.748368</td>\n",
       "      <td>2.921585</td>\n",
       "      <td>...</td>\n",
       "      <td>1.436590</td>\n",
       "      <td>6.263271</td>\n",
       "      <td>4.308419</td>\n",
       "      <td>10.841726</td>\n",
       "      <td>2.154645</td>\n",
       "      <td>5.325255</td>\n",
       "      <td>2.483662</td>\n",
       "      <td>7.813790</td>\n",
       "      <td>6.642241</td>\n",
       "      <td>3.471164</td>\n",
       "    </tr>\n",
       "    <tr>\n",
       "      <th>2520</th>\n",
       "      <td>2.427246</td>\n",
       "      <td>4.460742</td>\n",
       "      <td>4.369749</td>\n",
       "      <td>2.607389</td>\n",
       "      <td>3.489306</td>\n",
       "      <td>8.436603</td>\n",
       "      <td>4.161984</td>\n",
       "      <td>3.017109</td>\n",
       "      <td>4.723811</td>\n",
       "      <td>2.929354</td>\n",
       "      <td>...</td>\n",
       "      <td>1.437714</td>\n",
       "      <td>6.190026</td>\n",
       "      <td>4.317944</td>\n",
       "      <td>11.027344</td>\n",
       "      <td>2.178492</td>\n",
       "      <td>5.307666</td>\n",
       "      <td>2.533902</td>\n",
       "      <td>7.646930</td>\n",
       "      <td>6.674526</td>\n",
       "      <td>3.528420</td>\n",
       "    </tr>\n",
       "  </tbody>\n",
       "</table>\n",
       "<p>2521 rows × 500 columns</p>\n",
       "</div>"
      ],
      "text/plain": [
       "           0         1         2         3         4         5         6    \\\n",
       "0     1.000000  1.000000  1.000000  1.000000  1.000000  1.000000  1.000000   \n",
       "1     1.008826  0.997654  1.006660  1.011196  0.987922  0.990199  1.018693   \n",
       "2     0.987253  0.999756  1.005969  1.006546  0.997524  0.997102  1.015980   \n",
       "3     0.994755  0.994435  1.002095  1.019492  0.985937  0.996297  1.013853   \n",
       "4     1.005639  0.998587  0.993609  1.023633  0.990141  0.997331  1.010014   \n",
       "...        ...       ...       ...       ...       ...       ...       ...   \n",
       "2516  2.464180  4.395190  4.493096  2.649248  3.611811  8.263854  4.261951   \n",
       "2517  2.446559  4.459370  4.532467  2.682285  3.563920  8.235846  4.235501   \n",
       "2518  2.466934  4.505672  4.387555  2.688393  3.566471  8.089304  4.233406   \n",
       "2519  2.400954  4.470454  4.435160  2.656741  3.591932  8.241524  4.199804   \n",
       "2520  2.427246  4.460742  4.369749  2.607389  3.489306  8.436603  4.161984   \n",
       "\n",
       "           7         8         9    ...       490       491       492  \\\n",
       "0     1.000000  1.000000  1.000000  ...  1.000000  1.000000  1.000000   \n",
       "1     1.000844  0.996278  1.000639  ...  0.995821  1.002911  0.991907   \n",
       "2     1.003034  1.013661  0.995416  ...  0.989757  0.997150  0.972246   \n",
       "3     1.014712  1.018267  0.999768  ...  0.993206  1.012491  0.992921   \n",
       "4     1.002142  1.018897  1.024339  ...  0.996302  1.016150  0.984748   \n",
       "...        ...       ...       ...  ...       ...       ...       ...   \n",
       "2516  3.124736  4.731352  2.980817  ...  1.444274  6.407420  4.327252   \n",
       "2517  3.078616  4.797742  3.005492  ...  1.445876  6.314572  4.337304   \n",
       "2518  3.056130  4.850494  2.995421  ...  1.448981  6.340663  4.344150   \n",
       "2519  3.036714  4.748368  2.921585  ...  1.436590  6.263271  4.308419   \n",
       "2520  3.017109  4.723811  2.929354  ...  1.437714  6.190026  4.317944   \n",
       "\n",
       "            493       494       495       496       497       498       499  \n",
       "0      1.000000  1.000000  1.000000  1.000000  1.000000  1.000000  1.000000  \n",
       "1      1.008665  1.008114  1.018760  0.993682  1.006122  1.002799  0.987021  \n",
       "2      0.999497  1.025538  1.031743  0.988261  1.008056  1.035215  0.979020  \n",
       "3      0.995419  1.029995  1.053996  0.996989  1.006517  1.049806  0.981931  \n",
       "4      1.014818  1.033656  1.054048  1.006744  1.001457  1.045439  0.986605  \n",
       "...         ...       ...       ...       ...       ...       ...       ...  \n",
       "2516  10.836063  2.128992  5.358947  2.426346  7.570886  6.505115  3.436007  \n",
       "2517  10.684034  2.155600  5.326324  2.415695  7.542575  6.539866  3.422932  \n",
       "2518  10.782966  2.160027  5.352821  2.449327  7.656238  6.697876  3.476122  \n",
       "2519  10.841726  2.154645  5.325255  2.483662  7.813790  6.642241  3.471164  \n",
       "2520  11.027344  2.178492  5.307666  2.533902  7.646930  6.674526  3.528420  \n",
       "\n",
       "[2521 rows x 500 columns]"
      ]
     },
     "execution_count": 222,
     "metadata": {},
     "output_type": "execute_result"
    }
   ],
   "source": [
    "# Run the Monte Carlo simulation to forecast 10 years cumulative returns\n",
    "MC_stocks_bonds_10y.calc_cumulative_return()"
   ]
  },
  {
   "cell_type": "code",
   "execution_count": 226,
   "metadata": {},
   "outputs": [
    {
     "data": {
      "image/png": "[encoded data removed]",
      "text/plain": [
       "<Figure size 432x288 with 1 Axes>"
      ]
     },
     "metadata": {
      "needs_background": "light"
     },
     "output_type": "display_data"
    }
   ],
   "source": [
    "# Visualize the 10-year Monte Carlo simulation by creating an\n",
    "# overlay line plot\n",
    "stocks_bonds_line_plot_10y = MC_stocks_bonds_10y.plot_simulation()"
   ]
  },
  {
   "cell_type": "code",
   "execution_count": 227,
   "metadata": {},
   "outputs": [
    {
     "data": {
      "image/png": "[encoded data removed]",
      "text/plain": [
       "<Figure size 432x288 with 1 Axes>"
      ]
     },
     "metadata": {
      "needs_background": "light"
     },
     "output_type": "display_data"
    }
   ],
   "source": [
    "# Visualize the probability distribution of the 10-year Monte Carlo simulation \n",
    "# by plotting a histogram\n",
    "stocks_bonds_distribution_plot_10y = MC_stocks_bonds_10y.plot_distribution()"
   ]
  },
  {
   "cell_type": "code",
   "execution_count": 228,
   "metadata": {},
   "outputs": [
    {
     "name": "stdout",
     "output_type": "stream",
     "text": [
      "count           500.000000\n",
      "mean              4.398547\n",
      "std               2.627798\n",
      "min               0.629839\n",
      "25%               2.578908\n",
      "50%               3.747603\n",
      "75%               5.727899\n",
      "max              25.146843\n",
      "95% CI Lower      1.238777\n",
      "95% CI Upper     10.383937\n",
      "Name: 2520, dtype: float64\n"
     ]
    }
   ],
   "source": [
    "# Generate summary statistics from the 10-year Monte Carlo simulation results\n",
    "# Save the results as a variable\n",
    "stocks_bonds_stats_10y = MC_stocks_bonds_10y.summarize_cumulative_return()\n",
    "\n",
    "# Review the 10-year Monte Carlo summary statistics\n",
    "print(stocks_bonds_stats_10y)"
   ]
  },
  {
   "cell_type": "markdown",
   "metadata": {},
   "source": [
    "### Answer the following questions:"
   ]
  },
  {
   "cell_type": "markdown",
   "metadata": {},
   "source": [
    "#### Question: Using the current value of only the stock and bond portion of the member's portfolio and the summary statistics that you generated from the new Monte Carlo simulation, what are the lower and upper bounds for the expected value of the portfolio (with the new weights) with a 95% confidence interval?"
   ]
  },
  {
   "cell_type": "code",
   "execution_count": 232,
   "metadata": {},
   "outputs": [
    {
     "name": "stdout",
     "output_type": "stream",
     "text": [
      "60689.5\n"
     ]
    }
   ],
   "source": [
    "# Print the current balance of the stock and bond portion of the members portfolio\n",
    "print(current_balance)"
   ]
  },
  {
   "cell_type": "code",
   "execution_count": 233,
   "metadata": {},
   "outputs": [
    {
     "name": "stdout",
     "output_type": "stream",
     "text": [
      "The expected 10 year value of the portfolio with a 95% confidence interval will end within the range of $75181 and $630196.\n"
     ]
    }
   ],
   "source": [
    "# Use the lower and upper `95%` confidence intervals to calculate the range of the possible outcomes for the current stock/bond portfolio\n",
    "ci_lower_cumulative_return_10y = round(stocks_bonds_stats_10y[8] * current_balance)\n",
    "ci_upper_cumulative_return_10y = round(stocks_bonds_stats_10y[9] * current_balance)\n",
    "\n",
    "# Print the result of your calculations\n",
    "print(f\"The expected 10 year value of the portfolio with a 95% confidence interval\"\n",
    "      f\" will end within the range of\"\n",
    "      f\" ${ci_lower_cumulative_return_10y} and ${ci_upper_cumulative_return_10y}.\")"
   ]
  },
  {
   "cell_type": "markdown",
   "metadata": {},
   "source": [
    "#### Question: Will weighting the portfolio more heavily to stocks allow the credit union members to retire after only 10 years?"
   ]
  },
  {
   "cell_type": "raw",
   "metadata": {},
   "source": [
    "**Answer** # YOUR ANSWER HERE"
   ]
  },
  {
   "cell_type": "code",
   "execution_count": null,
   "metadata": {},
   "outputs": [],
   "source": []
  }
 ],
 "metadata": {
  "kernelspec": {
   "display_name": "Python 3.7.10 64-bit ('dev': conda)",
   "language": "python",
   "name": "python3710jvsc74a57bd0deab466272fce0134e2c2da39f6c00518befb9b31438dd63ae70f219b608405b"
  },
  "language_info": {
   "codemirror_mode": {
    "name": "ipython",
    "version": 3
   },
   "file_extension": ".py",
   "mimetype": "text/x-python",
   "name": "python",
   "nbconvert_exporter": "python",
   "pygments_lexer": "ipython3",
   "version": "3.7.10"
  }
 },
 "nbformat": 4,
 "nbformat_minor": 4
}
