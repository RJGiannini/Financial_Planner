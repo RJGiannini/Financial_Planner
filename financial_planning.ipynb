{
 "cells": [
  {
   "cell_type": "markdown",
   "metadata": {},
   "source": [
    "# Financial Planning with APIs and Simulations\n",
    "Import the required libraries and dependencies."
   ]
  },
  {
   "cell_type": "code",
   "execution_count": 235,
   "metadata": {},
   "outputs": [],
   "source": [
    "import os\n",
    "import requests\n",
    "import json\n",
    "import pandas as pd\n",
    "from dotenv import load_dotenv\n",
    "import alpaca_trade_api as tradeapi\n",
    "from MCForecastTools import MCSimulation\n",
    "\n",
    "%matplotlib inline"
   ]
  },
  {
   "cell_type": "markdown",
   "metadata": {},
   "source": [
    "Loading the environment variables from the .env file by calling the load_dotenv function."
   ]
  },
  {
   "cell_type": "code",
   "execution_count": 236,
   "metadata": {},
   "outputs": [
    {
     "data": {
      "text/plain": [
       "True"
      ]
     },
     "execution_count": 236,
     "metadata": {},
     "output_type": "execute_result"
    }
   ],
   "source": [
    "load_dotenv()"
   ]
  },
  {
   "cell_type": "markdown",
   "metadata": {},
   "source": [
    "## Creating a Financial Planner for Emergencies"
   ]
  },
  {
   "cell_type": "markdown",
   "metadata": {},
   "source": [
    "### Evaluating the Cryptocurrency Wallet by Using the Requests Library\n",
    "\n",
    "Here, we determine the current value of a member’s cryptocurrency wallet. Current prices for the Bitcoin and Ethereum cryptocurrencies are collected by using the Python Requests library. For the prototype, the program will assume that the member holds 1.2 Bitcoins (BTC) and 5.3 Ethereum coins (ETH)."
   ]
  },
  {
   "cell_type": "code",
   "execution_count": 237,
   "metadata": {},
   "outputs": [],
   "source": [
    "# The current number of coins for each cryptocurrency asset held in the portfolio.\n",
    "btc_coins = 1.2\n",
    "eth_coins = 5.3"
   ]
  },
  {
   "cell_type": "markdown",
   "metadata": {},
   "source": [
    "#### Creating a variable named `monthly_income`, and set its value to `12000`."
   ]
  },
  {
   "cell_type": "code",
   "execution_count": 238,
   "metadata": {},
   "outputs": [],
   "source": [
    "# The monthly amount for the member's household income\n",
    "monthly_income = 12000"
   ]
  },
  {
   "cell_type": "markdown",
   "metadata": {},
   "source": [
    "#### Reviewing the endpoint URLs for the API calls to Free Crypto API in order to get the current pricing information for both BTC and ETH."
   ]
  },
  {
   "cell_type": "code",
   "execution_count": 239,
   "metadata": {},
   "outputs": [],
   "source": [
    "# The Free Crypto API Call endpoint URLs for the held cryptocurrency assets\n",
    "btc_url = \"https://api.alternative.me/v2/ticker/Bitcoin/?convert=USD\"\n",
    "eth_url = \"https://api.alternative.me/v2/ticker/Ethereum/?convert=USD\""
   ]
  },
  {
   "cell_type": "markdown",
   "metadata": {},
   "source": [
    "#### Using the Requests library to get the current price (in US dollars) of Bitcoin (BTC) and Ethereum (ETH) by using API endpoints."
   ]
  },
  {
   "cell_type": "code",
   "execution_count": 240,
   "metadata": {},
   "outputs": [
    {
     "name": "stdout",
     "output_type": "stream",
     "text": [
      "{\n",
      "    \"data\": {\n",
      "        \"1\": {\n",
      "            \"circulating_supply\": 18772756,\n",
      "            \"id\": 1,\n",
      "            \"last_updated\": 1627782587,\n",
      "            \"max_supply\": 21000000,\n",
      "            \"name\": \"Bitcoin\",\n",
      "            \"quotes\": {\n",
      "                \"USD\": {\n",
      "                    \"market_cap\": 783283665131,\n",
      "                    \"percent_change_1h\": 0.0204133777081683,\n",
      "                    \"percent_change_24h\": -0.532199072784095,\n",
      "                    \"percent_change_7d\": 22.0351592203581,\n",
      "                    \"percentage_change_1h\": 0.0204133777081683,\n",
      "                    \"percentage_change_24h\": -0.532199072784095,\n",
      "                    \"percentage_change_7d\": 22.0351592203581,\n",
      "                    \"price\": 41753.0,\n",
      "                    \"volume_24h\": 26920683429\n",
      "                }\n",
      "            },\n",
      "            \"rank\": 1,\n",
      "            \"symbol\": \"BTC\",\n",
      "            \"total_supply\": 18772756,\n",
      "            \"website_slug\": \"bitcoin\"\n",
      "        }\n",
      "    },\n",
      "    \"metadata\": {\n",
      "        \"error\": null,\n",
      "        \"num_cryptocurrencies\": 3105,\n",
      "        \"timestamp\": 1627782587\n",
      "    }\n",
      "}\n"
     ]
    }
   ],
   "source": [
    "# Making an API call to access the current price of BTC.\n",
    "btc_response = requests.get(btc_url).json()\n",
    "\n",
    "# Displaying response data.\n",
    "print(json.dumps(btc_response, indent=4, sort_keys=True))"
   ]
  },
  {
   "cell_type": "code",
   "execution_count": 241,
   "metadata": {},
   "outputs": [
    {
     "name": "stdout",
     "output_type": "stream",
     "text": [
      "{\n",
      "    \"data\": {\n",
      "        \"1027\": {\n",
      "            \"circulating_supply\": 116921673,\n",
      "            \"id\": 1027,\n",
      "            \"last_updated\": 1627782545,\n",
      "            \"max_supply\": 0,\n",
      "            \"name\": \"Ethereum\",\n",
      "            \"quotes\": {\n",
      "                \"USD\": {\n",
      "                    \"market_cap\": 299665913879,\n",
      "                    \"percent_change_1h\": 0.364562453885706,\n",
      "                    \"percent_change_24h\": 4.28713774909927,\n",
      "                    \"percent_change_7d\": 17.4062834706052,\n",
      "                    \"percentage_change_1h\": 0.364562453885706,\n",
      "                    \"percentage_change_24h\": 4.28713774909927,\n",
      "                    \"percentage_change_7d\": 17.4062834706052,\n",
      "                    \"price\": 2563.72,\n",
      "                    \"volume_24h\": 21707646962\n",
      "                }\n",
      "            },\n",
      "            \"rank\": 2,\n",
      "            \"symbol\": \"ETH\",\n",
      "            \"total_supply\": 116921673,\n",
      "            \"website_slug\": \"ethereum\"\n",
      "        }\n",
      "    },\n",
      "    \"metadata\": {\n",
      "        \"error\": null,\n",
      "        \"num_cryptocurrencies\": 3105,\n",
      "        \"timestamp\": 1627782545\n",
      "    }\n",
      "}\n"
     ]
    }
   ],
   "source": [
    "# Making an API call to access the current price of BTC.\n",
    "eth_response = requests.get(eth_url).json()\n",
    "\n",
    "# Displaying response data.\n",
    "print(json.dumps(eth_response, indent=4, sort_keys=True))"
   ]
  },
  {
   "cell_type": "markdown",
   "metadata": {},
   "source": [
    "#### Navigating the JSON response object to access the current price of each coin, and storing each in a variable."
   ]
  },
  {
   "cell_type": "code",
   "execution_count": 242,
   "metadata": {},
   "outputs": [
    {
     "name": "stdout",
     "output_type": "stream",
     "text": [
      "The price of Bitcoin is $41753.0\n"
     ]
    }
   ],
   "source": [
    "# Accessing the current price of BTC.\n",
    "btc_price = btc_response['data']['1']['quotes']['USD']['price']\n",
    "\n",
    "# Printing the current price of BTC.\n",
    "print(f\"The price of Bitcoin is ${btc_price}\")"
   ]
  },
  {
   "cell_type": "code",
   "execution_count": 243,
   "metadata": {},
   "outputs": [
    {
     "name": "stdout",
     "output_type": "stream",
     "text": [
      "The price of Ethereum is $2563.72\n"
     ]
    }
   ],
   "source": [
    "# Accessing the current price of ETH.\n",
    "eth_price = eth_response['data']['1027']['quotes']['USD']['price']\n",
    "\n",
    "# Printing the current price of ETH.\n",
    "print(f\"The price of Ethereum is ${eth_price}\")"
   ]
  },
  {
   "cell_type": "markdown",
   "metadata": {},
   "source": [
    "### Calculating the value, in US dollars, of the current amount of each cryptocurrency and of the entire cryptocurrency wallet."
   ]
  },
  {
   "cell_type": "code",
   "execution_count": 244,
   "metadata": {},
   "outputs": [
    {
     "name": "stdout",
     "output_type": "stream",
     "text": [
      "The value of Bitcoin in the cryptocurrency wallet is $50103.6\n"
     ]
    }
   ],
   "source": [
    "# Computing the current value of the BTC holding.\n",
    "btc_value = btc_coins * btc_price\n",
    "\n",
    "# Printing the current value of the holding in BTC.\n",
    "print(f\"The value of Bitcoin in the cryptocurrency wallet is ${btc_value}\")"
   ]
  },
  {
   "cell_type": "code",
   "execution_count": 245,
   "metadata": {},
   "outputs": [
    {
     "name": "stdout",
     "output_type": "stream",
     "text": [
      "The value of Ethereum in the cryptocurrency wallet is $13587.715999999999\n"
     ]
    }
   ],
   "source": [
    "# Computing the current value of the ETH holding. \n",
    "eth_value = eth_coins * eth_price\n",
    "\n",
    "# Printing the current value of the holding in ETH.\n",
    "print(f\"The value of Ethereum in the cryptocurrency wallet is ${eth_value}\")"
   ]
  },
  {
   "cell_type": "code",
   "execution_count": 246,
   "metadata": {},
   "outputs": [
    {
     "name": "stdout",
     "output_type": "stream",
     "text": [
      "The total value of the cryptocurrency wallet is $63691.316\n"
     ]
    }
   ],
   "source": [
    "# Computing the total value of the cryptocurrency wallet:\n",
    "# Adding the value of the BTC holding to the value of the ETH holding.\n",
    "total_crypto_wallet = btc_value + eth_value\n",
    "\n",
    "# Printing the current cryptocurrency wallet total balance.\n",
    "print(f\"The total value of the cryptocurrency wallet is ${total_crypto_wallet}\")"
   ]
  },
  {
   "cell_type": "markdown",
   "metadata": {},
   "source": [
    "### Evaluating the Stock and Bond Holdings by Using the Alpaca SDK\n",
    "\n",
    "Here, the program determines the current value of a member’s stock and bond holdings. First, an API call to Alpaca via the Alpaca SDK to get the current closing prices of the SPDR S&P 500 ETF Trust (ticker: SPY) and of the iShares Core US Aggregate Bond ETF (ticker: AGG). The prototype assumes that the member holds 110 shares of SPY, which represents the stock portion of their portfolio, and 200 shares of AGG, which represents the bond portion."
   ]
  },
  {
   "cell_type": "markdown",
   "metadata": {},
   "source": [
    "#### Reviewing the total number of shares held in both (SPY) and (AGG)."
   ]
  },
  {
   "cell_type": "code",
   "execution_count": 247,
   "metadata": {},
   "outputs": [],
   "source": [
    "# Current amount of shares held in both the stock (SPY) and bond (AGG) portion of the portfolio.\n",
    "spy_shares = 110\n",
    "agg_shares = 200"
   ]
  },
  {
   "cell_type": "markdown",
   "metadata": {},
   "source": [
    "#### In the folder, create an environment file (`.env`) to store the values of your Alpaca API key and Alpaca secret key."
   ]
  },
  {
   "cell_type": "markdown",
   "metadata": {},
   "source": [
    "#### Setting the variables for the Alpaca API and secret keys. \n",
    "Using the Alpaca SDK, create the Alpaca `tradeapi.REST` object. \n",
    "Including the parameters for the Alpaca API key, the secret key, and the version number."
   ]
  },
  {
   "cell_type": "code",
   "execution_count": 248,
   "metadata": {},
   "outputs": [
    {
     "data": {
      "text/plain": [
       "str"
      ]
     },
     "metadata": {},
     "output_type": "display_data"
    },
    {
     "data": {
      "text/plain": [
       "str"
      ]
     },
     "metadata": {},
     "output_type": "display_data"
    }
   ],
   "source": [
    "# Setting the variables for the Alpaca API and secret keys.\n",
    "alpaca_api_key = os.getenv(\"ALPACA_API_KEY\")\n",
    "alpaca_secret_key = os.getenv(\"ALPACA_SECRET_KEY\")\n",
    "\n",
    "# Checking that the values were imported correctly by evaluating the type.\n",
    "display(type(alpaca_api_key))\n",
    "display(type(alpaca_secret_key))\n",
    "\n",
    "# Creating the Alpaca tradeapi.REST object.\n",
    "alpaca = tradeapi.REST(\n",
    "    alpaca_api_key,\n",
    "    alpaca_secret_key,\n",
    "    api_version=\"v2\")"
   ]
  },
  {
   "cell_type": "markdown",
   "metadata": {},
   "source": [
    "#### Setting the following parameters for the Alpaca API call:\n",
    "\n",
    "- `tickers`: Use the tickers for the member’s stock and bond holdings.\n",
    "\n",
    "- `timeframe`: Use a time frame of one day.\n",
    "\n",
    "- `start_date` and `end_date`: Use the same date for these parameters, and format them with the date of the previous weekday (or `2020-08-07`). This is because you want the one closing price for the most-recent trading day.\n"
   ]
  },
  {
   "cell_type": "code",
   "execution_count": 249,
   "metadata": {},
   "outputs": [],
   "source": [
    "# Setting the tickers for both the bond and stock portion of the portfolio.\n",
    "tickers = [\"SPY\", \"AGG\"]\n",
    "\n",
    "# Setting timeframe to 1D. \n",
    "timeframe = \"1D\"\n",
    "\n",
    "# Formatting current date as ISO format.\n",
    "# Setting both the start and end date at the date of prior weekday. \n",
    "start_date = pd.Timestamp(\"2020-08-07\", tz=\"America/New_York\").isoformat()\n",
    "end_date = pd.Timestamp(\"2020-08-07\", tz=\"America/New_York\").isoformat()"
   ]
  },
  {
   "cell_type": "markdown",
   "metadata": {},
   "source": [
    "#### Getting the current closing prices for `SPY` and `AGG` by using the Alpaca `get_barset` function. \n",
    "#### Formatting the response as a Pandas DataFrame by including the `df` property at the end of the `get_barset` function."
   ]
  },
  {
   "cell_type": "code",
   "execution_count": 250,
   "metadata": {},
   "outputs": [
    {
     "data": {
      "text/html": [
       "<div>\n",
       "<style scoped>\n",
       "    .dataframe tbody tr th:only-of-type {\n",
       "        vertical-align: middle;\n",
       "    }\n",
       "\n",
       "    .dataframe tbody tr th {\n",
       "        vertical-align: top;\n",
       "    }\n",
       "\n",
       "    .dataframe thead tr th {\n",
       "        text-align: left;\n",
       "    }\n",
       "\n",
       "    .dataframe thead tr:last-of-type th {\n",
       "        text-align: right;\n",
       "    }\n",
       "</style>\n",
       "<table border=\"1\" class=\"dataframe\">\n",
       "  <thead>\n",
       "    <tr>\n",
       "      <th></th>\n",
       "      <th colspan=\"5\" halign=\"left\">AGG</th>\n",
       "      <th colspan=\"5\" halign=\"left\">SPY</th>\n",
       "    </tr>\n",
       "    <tr>\n",
       "      <th></th>\n",
       "      <th>open</th>\n",
       "      <th>high</th>\n",
       "      <th>low</th>\n",
       "      <th>close</th>\n",
       "      <th>volume</th>\n",
       "      <th>open</th>\n",
       "      <th>high</th>\n",
       "      <th>low</th>\n",
       "      <th>close</th>\n",
       "      <th>volume</th>\n",
       "    </tr>\n",
       "    <tr>\n",
       "      <th>time</th>\n",
       "      <th></th>\n",
       "      <th></th>\n",
       "      <th></th>\n",
       "      <th></th>\n",
       "      <th></th>\n",
       "      <th></th>\n",
       "      <th></th>\n",
       "      <th></th>\n",
       "      <th></th>\n",
       "      <th></th>\n",
       "    </tr>\n",
       "  </thead>\n",
       "  <tbody>\n",
       "    <tr>\n",
       "      <th>2020-08-07 00:00:00-04:00</th>\n",
       "      <td>119.66</td>\n",
       "      <td>119.73</td>\n",
       "      <td>119.395</td>\n",
       "      <td>119.445</td>\n",
       "      <td>8830420</td>\n",
       "      <td>333.28</td>\n",
       "      <td>334.88</td>\n",
       "      <td>332.3</td>\n",
       "      <td>334.55</td>\n",
       "      <td>98710236</td>\n",
       "    </tr>\n",
       "  </tbody>\n",
       "</table>\n",
       "</div>"
      ],
      "text/plain": [
       "                              AGG                                        SPY  \\\n",
       "                             open    high      low    close   volume    open   \n",
       "time                                                                           \n",
       "2020-08-07 00:00:00-04:00  119.66  119.73  119.395  119.445  8830420  333.28   \n",
       "\n",
       "                                                            \n",
       "                             high    low   close    volume  \n",
       "time                                                        \n",
       "2020-08-07 00:00:00-04:00  334.88  332.3  334.55  98710236  "
      ]
     },
     "execution_count": 250,
     "metadata": {},
     "output_type": "execute_result"
    }
   ],
   "source": [
    "# Using the Alpaca get_barset function to get current closing prices the portfolio.\n",
    "prices_df = alpaca.get_barset(\n",
    "    tickers,\n",
    "    timeframe,\n",
    "    start=start_date,\n",
    "    end=end_date,\n",
    ").df\n",
    "\n",
    "# Reviewing the Alpaca DataFrame.\n",
    "prices_df.head()"
   ]
  },
  {
   "cell_type": "markdown",
   "metadata": {},
   "source": [
    "#### Navigating the Alpaca response DataFrame, selecting the `SPY` and `AGG` closing prices, and storing them as variables."
   ]
  },
  {
   "cell_type": "code",
   "execution_count": 251,
   "metadata": {},
   "outputs": [
    {
     "name": "stdout",
     "output_type": "stream",
     "text": [
      "119.445\n"
     ]
    }
   ],
   "source": [
    "# Accessing the closing price for AGG from the Alpaca DataFrame.\n",
    "# Converting the value to a floating point number.\n",
    "agg_close_price = float(prices_df[\"AGG\"][\"close\"])\n",
    "\n",
    "\n",
    "# Printing the AGG closing price.\n",
    "print(agg_close_price)"
   ]
  },
  {
   "cell_type": "code",
   "execution_count": 252,
   "metadata": {},
   "outputs": [
    {
     "name": "stdout",
     "output_type": "stream",
     "text": [
      "334.55\n"
     ]
    }
   ],
   "source": [
    "# Accessing the closing price for SPY from the Alpaca DataFrame.\n",
    "# Converting the value to a floating point number. \n",
    "spy_close_price = float(prices_df[\"SPY\"][\"close\"])\n",
    "\n",
    "\n",
    "# Printing the SPY closing price.\n",
    "print(spy_close_price)"
   ]
  },
  {
   "cell_type": "markdown",
   "metadata": {},
   "source": [
    "#### Calculating the value, in US dollars, of the current amount of shares in each of the stock and bond portions of the portfolio, and printing results."
   ]
  },
  {
   "cell_type": "code",
   "execution_count": 253,
   "metadata": {},
   "outputs": [
    {
     "name": "stdout",
     "output_type": "stream",
     "text": [
      "23889.0\n"
     ]
    }
   ],
   "source": [
    "# Calculating the current value of the bond portion of the portfolio.\n",
    "agg_value = agg_shares * agg_close_price\n",
    "\n",
    "# Printing the current value of the bond portfolio.\n",
    "print(agg_value)"
   ]
  },
  {
   "cell_type": "code",
   "execution_count": 254,
   "metadata": {},
   "outputs": [
    {
     "name": "stdout",
     "output_type": "stream",
     "text": [
      "36800.5\n"
     ]
    }
   ],
   "source": [
    "# Calculating the current value of the stock portion of the portfolio.\n",
    "spy_value = spy_shares * spy_close_price\n",
    "\n",
    "# Printing the current value of the stock portfolio.\n",
    "print(spy_value)"
   ]
  },
  {
   "cell_type": "code",
   "execution_count": 255,
   "metadata": {},
   "outputs": [
    {
     "name": "stdout",
     "output_type": "stream",
     "text": [
      "60689.5\n"
     ]
    }
   ],
   "source": [
    "# Calculating the total value of the stock and bond portion of the portfolio.\n",
    "total_stocks_bonds = agg_value + spy_value\n",
    "\n",
    "# Printing the current balance of the stock and bond portion of the portfolio.\n",
    "print(total_stocks_bonds)"
   ]
  },
  {
   "cell_type": "code",
   "execution_count": 256,
   "metadata": {},
   "outputs": [
    {
     "name": "stdout",
     "output_type": "stream",
     "text": [
      "124380.81599999999\n"
     ]
    }
   ],
   "source": [
    "# Calculating the total value of the member's entire savings portfolio.\n",
    "# Adding the value of the cryptocurrency walled to the value of the total stocks and bonds.\n",
    "total_portfolio = total_stocks_bonds + total_crypto_wallet\n",
    "\n",
    "# Printing current cryptocurrency wallet balance.\n",
    "print(total_portfolio)"
   ]
  },
  {
   "cell_type": "markdown",
   "metadata": {},
   "source": [
    "### Evaluating the Emergency Fund\n",
    "\n",
    "Using the valuations for the cryptocurrency wallet and for the stock and bond portions of the portfolio to determine if the user has enough savings to build an emergency fund into their financial plan."
   ]
  },
  {
   "cell_type": "markdown",
   "metadata": {},
   "source": [
    "#### Creating a Python list named `savings_data` that has two elements. The first element contains the total value of the cryptocurrency wallet. The second element contains the total value of the stock and bond portions of the portfolio."
   ]
  },
  {
   "cell_type": "code",
   "execution_count": 257,
   "metadata": {},
   "outputs": [
    {
     "data": {
      "text/plain": [
       "[63691.316, 60689.5]"
      ]
     },
     "execution_count": 257,
     "metadata": {},
     "output_type": "execute_result"
    }
   ],
   "source": [
    "# Consolidating financial assets data into a Python list.\n",
    "savings_data = [total_crypto_wallet,total_stocks_bonds]\n",
    "\n",
    "# Reviewing the Python list savings_data.\n",
    "savings_data"
   ]
  },
  {
   "cell_type": "markdown",
   "metadata": {},
   "source": [
    "#### Using the `savings_data` list to create a Pandas DataFrame named `savings_df`, and then displaying this DataFrame."
   ]
  },
  {
   "cell_type": "code",
   "execution_count": 258,
   "metadata": {},
   "outputs": [
    {
     "data": {
      "text/html": [
       "<div>\n",
       "<style scoped>\n",
       "    .dataframe tbody tr th:only-of-type {\n",
       "        vertical-align: middle;\n",
       "    }\n",
       "\n",
       "    .dataframe tbody tr th {\n",
       "        vertical-align: top;\n",
       "    }\n",
       "\n",
       "    .dataframe thead th {\n",
       "        text-align: right;\n",
       "    }\n",
       "</style>\n",
       "<table border=\"1\" class=\"dataframe\">\n",
       "  <thead>\n",
       "    <tr style=\"text-align: right;\">\n",
       "      <th></th>\n",
       "      <th>Amount</th>\n",
       "    </tr>\n",
       "  </thead>\n",
       "  <tbody>\n",
       "    <tr>\n",
       "      <th>Crypto</th>\n",
       "      <td>63691.316</td>\n",
       "    </tr>\n",
       "    <tr>\n",
       "      <th>Stocks + Bonds</th>\n",
       "      <td>60689.500</td>\n",
       "    </tr>\n",
       "  </tbody>\n",
       "</table>\n",
       "</div>"
      ],
      "text/plain": [
       "                   Amount\n",
       "Crypto          63691.316\n",
       "Stocks + Bonds  60689.500"
      ]
     },
     "execution_count": 258,
     "metadata": {},
     "output_type": "execute_result"
    }
   ],
   "source": [
    "# Creating a Pandas DataFrame called savings_df. \n",
    "savings_df = pd.DataFrame(savings_data, index=[\"Crypto\", \"Stocks + Bonds\"], columns=['Amount'])\n",
    "\n",
    "# Displaying the savings_df DataFrame.\n",
    "savings_df.head()"
   ]
  },
  {
   "cell_type": "markdown",
   "metadata": {},
   "source": [
    "#### Using the `savings_df` DataFrame to plot a pie chart that visualizes the composition of the member’s portfolio."
   ]
  },
  {
   "cell_type": "code",
   "execution_count": 259,
   "metadata": {},
   "outputs": [
    {
     "data": {
      "text/plain": [
       "<AxesSubplot:title={'center':'Portfolio Breakdown'}, ylabel='Amount'>"
      ]
     },
     "execution_count": 259,
     "metadata": {},
     "output_type": "execute_result"
    },
    {
     "data": {
      "image/png": "[encoded data removed]",
      "text/plain": [
       "<Figure size 720x504 with 1 Axes>"
      ]
     },
     "metadata": {},
     "output_type": "display_data"
    }
   ],
   "source": [
    "# Plotting the total value of the member's portfolio (crypto and stock/bond) in a pie chart.\n",
    "savings_df.plot.pie(figsize=(10,7), y='Amount', title='Portfolio Breakdown')"
   ]
  },
  {
   "cell_type": "markdown",
   "metadata": {},
   "source": [
    "#### Determining if the current portfolio has enough to create an emergency fund as part of the member’s financial plan. Ideally, an emergency fund should equal to three times the member’s monthly income."
   ]
  },
  {
   "cell_type": "markdown",
   "metadata": {},
   "source": [
    "##### Creating a variable named `emergency_fund_value`, and set it equal to three times the value of the member’s `monthly_income` of 12000."
   ]
  },
  {
   "cell_type": "code",
   "execution_count": 260,
   "metadata": {},
   "outputs": [],
   "source": [
    "# Creating a variable named emergency_fund_value.\n",
    "emergency_fund_value = (monthly_income * 3)"
   ]
  },
  {
   "cell_type": "markdown",
   "metadata": {},
   "source": [
    "##### Creating a series of three if statements to determine if the member’s total portfolio is large enough to fund the emergency portfolio:"
   ]
  },
  {
   "cell_type": "code",
   "execution_count": 261,
   "metadata": {},
   "outputs": [
    {
     "name": "stdout",
     "output_type": "stream",
     "text": [
      "Congratulations! You have more than enough money in your fund!\n"
     ]
    }
   ],
   "source": [
    "# Evaluating the possibility of creating an emergency fund with 3 conditions:\n",
    "if (total_portfolio > emergency_fund_value):\n",
    "    print(\"Congratulations! You have more than enough money in your fund!\")\n",
    "elif (total_portfolio == emergency_fund_value):\n",
    "    print(\"Congratulations! You have reached an important financial goal!\")\n",
    "elif (total_portfolio < emergency_fund_value):\n",
    "    print(f\"You are ${emergency_fund_value == total_portfolio: ,.2f} away from reaching the goal!\")"
   ]
  },
  {
   "cell_type": "markdown",
   "metadata": {},
   "source": [
    "## Creating a Financial Planner for Retirement"
   ]
  },
  {
   "cell_type": "markdown",
   "metadata": {},
   "source": [
    "### Creating the Monte Carlo Simulation\n",
    "\n",
    "Using the MCForecastTools library to create a Monte Carlo simulation for the member’s savings portfolio."
   ]
  },
  {
   "cell_type": "markdown",
   "metadata": {},
   "source": [
    "#### Making an API call via the Alpaca SDK to get 3 years of historical closing prices for a traditional 60/40 portfolio split: 60% stocks (SPY) and 40% bonds (AGG)."
   ]
  },
  {
   "cell_type": "code",
   "execution_count": 262,
   "metadata": {},
   "outputs": [],
   "source": [
    "# Setting start and end dates of 3 years back from your current date.\n",
    "start_date = pd.Timestamp(\"2018-07-30\", tz=\"America/New_York\").isoformat()\n",
    "end_date = pd.Timestamp(\"2021-07-30\", tz=\"America/New_York\").isoformat()\n",
    "\n",
    "# Setting number of rows to 1000 to retrieve the maximum amount of rows.\n",
    "limit_rows = 1000"
   ]
  },
  {
   "cell_type": "code",
   "execution_count": 264,
   "metadata": {},
   "outputs": [
    {
     "data": {
      "text/html": [
       "<div>\n",
       "<style scoped>\n",
       "    .dataframe tbody tr th:only-of-type {\n",
       "        vertical-align: middle;\n",
       "    }\n",
       "\n",
       "    .dataframe tbody tr th {\n",
       "        vertical-align: top;\n",
       "    }\n",
       "\n",
       "    .dataframe thead tr th {\n",
       "        text-align: left;\n",
       "    }\n",
       "\n",
       "    .dataframe thead tr:last-of-type th {\n",
       "        text-align: right;\n",
       "    }\n",
       "</style>\n",
       "<table border=\"1\" class=\"dataframe\">\n",
       "  <thead>\n",
       "    <tr>\n",
       "      <th></th>\n",
       "      <th colspan=\"5\" halign=\"left\">AGG</th>\n",
       "      <th colspan=\"5\" halign=\"left\">SPY</th>\n",
       "    </tr>\n",
       "    <tr>\n",
       "      <th></th>\n",
       "      <th>open</th>\n",
       "      <th>high</th>\n",
       "      <th>low</th>\n",
       "      <th>close</th>\n",
       "      <th>volume</th>\n",
       "      <th>open</th>\n",
       "      <th>high</th>\n",
       "      <th>low</th>\n",
       "      <th>close</th>\n",
       "      <th>volume</th>\n",
       "    </tr>\n",
       "    <tr>\n",
       "      <th>time</th>\n",
       "      <th></th>\n",
       "      <th></th>\n",
       "      <th></th>\n",
       "      <th></th>\n",
       "      <th></th>\n",
       "      <th></th>\n",
       "      <th></th>\n",
       "      <th></th>\n",
       "      <th></th>\n",
       "      <th></th>\n",
       "    </tr>\n",
       "  </thead>\n",
       "  <tbody>\n",
       "    <tr>\n",
       "      <th>2018-07-30 00:00:00-04:00</th>\n",
       "      <td>105.94</td>\n",
       "      <td>106.0500</td>\n",
       "      <td>105.910</td>\n",
       "      <td>105.95</td>\n",
       "      <td>2784448.0</td>\n",
       "      <td>281.49</td>\n",
       "      <td>281.69</td>\n",
       "      <td>279.3600</td>\n",
       "      <td>279.89</td>\n",
       "      <td>46935673</td>\n",
       "    </tr>\n",
       "    <tr>\n",
       "      <th>2018-07-31 00:00:00-04:00</th>\n",
       "      <td>106.11</td>\n",
       "      <td>106.1756</td>\n",
       "      <td>106.050</td>\n",
       "      <td>106.06</td>\n",
       "      <td>4704161.0</td>\n",
       "      <td>280.81</td>\n",
       "      <td>282.02</td>\n",
       "      <td>280.3800</td>\n",
       "      <td>281.22</td>\n",
       "      <td>48645613</td>\n",
       "    </tr>\n",
       "    <tr>\n",
       "      <th>2018-08-01 00:00:00-04:00</th>\n",
       "      <td>105.55</td>\n",
       "      <td>105.7600</td>\n",
       "      <td>105.512</td>\n",
       "      <td>105.69</td>\n",
       "      <td>3896190.0</td>\n",
       "      <td>281.56</td>\n",
       "      <td>282.13</td>\n",
       "      <td>280.1315</td>\n",
       "      <td>280.92</td>\n",
       "      <td>40627557</td>\n",
       "    </tr>\n",
       "    <tr>\n",
       "      <th>2018-08-02 00:00:00-04:00</th>\n",
       "      <td>105.76</td>\n",
       "      <td>105.7600</td>\n",
       "      <td>105.650</td>\n",
       "      <td>105.73</td>\n",
       "      <td>2989387.0</td>\n",
       "      <td>279.38</td>\n",
       "      <td>282.58</td>\n",
       "      <td>279.1600</td>\n",
       "      <td>282.34</td>\n",
       "      <td>42491022</td>\n",
       "    </tr>\n",
       "    <tr>\n",
       "      <th>2018-08-03 00:00:00-04:00</th>\n",
       "      <td>105.81</td>\n",
       "      <td>105.9799</td>\n",
       "      <td>105.810</td>\n",
       "      <td>105.93</td>\n",
       "      <td>2286629.0</td>\n",
       "      <td>282.53</td>\n",
       "      <td>283.65</td>\n",
       "      <td>282.3300</td>\n",
       "      <td>283.64</td>\n",
       "      <td>34485363</td>\n",
       "    </tr>\n",
       "  </tbody>\n",
       "</table>\n",
       "</div>"
      ],
      "text/plain": [
       "                              AGG                                        \\\n",
       "                             open      high      low   close     volume   \n",
       "time                                                                      \n",
       "2018-07-30 00:00:00-04:00  105.94  106.0500  105.910  105.95  2784448.0   \n",
       "2018-07-31 00:00:00-04:00  106.11  106.1756  106.050  106.06  4704161.0   \n",
       "2018-08-01 00:00:00-04:00  105.55  105.7600  105.512  105.69  3896190.0   \n",
       "2018-08-02 00:00:00-04:00  105.76  105.7600  105.650  105.73  2989387.0   \n",
       "2018-08-03 00:00:00-04:00  105.81  105.9799  105.810  105.93  2286629.0   \n",
       "\n",
       "                              SPY                                      \n",
       "                             open    high       low   close    volume  \n",
       "time                                                                   \n",
       "2018-07-30 00:00:00-04:00  281.49  281.69  279.3600  279.89  46935673  \n",
       "2018-07-31 00:00:00-04:00  280.81  282.02  280.3800  281.22  48645613  \n",
       "2018-08-01 00:00:00-04:00  281.56  282.13  280.1315  280.92  40627557  \n",
       "2018-08-02 00:00:00-04:00  279.38  282.58  279.1600  282.34  42491022  \n",
       "2018-08-03 00:00:00-04:00  282.53  283.65  282.3300  283.64  34485363  "
      ]
     },
     "metadata": {},
     "output_type": "display_data"
    },
    {
     "data": {
      "text/html": [
       "<div>\n",
       "<style scoped>\n",
       "    .dataframe tbody tr th:only-of-type {\n",
       "        vertical-align: middle;\n",
       "    }\n",
       "\n",
       "    .dataframe tbody tr th {\n",
       "        vertical-align: top;\n",
       "    }\n",
       "\n",
       "    .dataframe thead tr th {\n",
       "        text-align: left;\n",
       "    }\n",
       "\n",
       "    .dataframe thead tr:last-of-type th {\n",
       "        text-align: right;\n",
       "    }\n",
       "</style>\n",
       "<table border=\"1\" class=\"dataframe\">\n",
       "  <thead>\n",
       "    <tr>\n",
       "      <th></th>\n",
       "      <th colspan=\"5\" halign=\"left\">AGG</th>\n",
       "      <th colspan=\"5\" halign=\"left\">SPY</th>\n",
       "    </tr>\n",
       "    <tr>\n",
       "      <th></th>\n",
       "      <th>open</th>\n",
       "      <th>high</th>\n",
       "      <th>low</th>\n",
       "      <th>close</th>\n",
       "      <th>volume</th>\n",
       "      <th>open</th>\n",
       "      <th>high</th>\n",
       "      <th>low</th>\n",
       "      <th>close</th>\n",
       "      <th>volume</th>\n",
       "    </tr>\n",
       "    <tr>\n",
       "      <th>time</th>\n",
       "      <th></th>\n",
       "      <th></th>\n",
       "      <th></th>\n",
       "      <th></th>\n",
       "      <th></th>\n",
       "      <th></th>\n",
       "      <th></th>\n",
       "      <th></th>\n",
       "      <th></th>\n",
       "      <th></th>\n",
       "    </tr>\n",
       "  </thead>\n",
       "  <tbody>\n",
       "    <tr>\n",
       "      <th>2021-07-26 00:00:00-04:00</th>\n",
       "      <td>116.30</td>\n",
       "      <td>116.330</td>\n",
       "      <td>116.0850</td>\n",
       "      <td>116.11</td>\n",
       "      <td>7028009.0</td>\n",
       "      <td>439.31</td>\n",
       "      <td>441.03</td>\n",
       "      <td>439.26</td>\n",
       "      <td>440.99</td>\n",
       "      <td>40155852</td>\n",
       "    </tr>\n",
       "    <tr>\n",
       "      <th>2021-07-27 00:00:00-04:00</th>\n",
       "      <td>116.35</td>\n",
       "      <td>116.400</td>\n",
       "      <td>116.2727</td>\n",
       "      <td>116.39</td>\n",
       "      <td>4669859.0</td>\n",
       "      <td>439.91</td>\n",
       "      <td>439.94</td>\n",
       "      <td>435.99</td>\n",
       "      <td>439.00</td>\n",
       "      <td>61032234</td>\n",
       "    </tr>\n",
       "    <tr>\n",
       "      <th>2021-07-28 00:00:00-04:00</th>\n",
       "      <td>116.24</td>\n",
       "      <td>116.490</td>\n",
       "      <td>116.1400</td>\n",
       "      <td>116.48</td>\n",
       "      <td>5189696.0</td>\n",
       "      <td>439.68</td>\n",
       "      <td>440.30</td>\n",
       "      <td>437.31</td>\n",
       "      <td>438.84</td>\n",
       "      <td>47642330</td>\n",
       "    </tr>\n",
       "    <tr>\n",
       "      <th>2021-07-29 00:00:00-04:00</th>\n",
       "      <td>116.29</td>\n",
       "      <td>116.360</td>\n",
       "      <td>116.2250</td>\n",
       "      <td>116.28</td>\n",
       "      <td>5216456.0</td>\n",
       "      <td>439.83</td>\n",
       "      <td>441.80</td>\n",
       "      <td>439.81</td>\n",
       "      <td>440.67</td>\n",
       "      <td>40930880</td>\n",
       "    </tr>\n",
       "    <tr>\n",
       "      <th>2021-07-30 00:00:00-04:00</th>\n",
       "      <td>116.36</td>\n",
       "      <td>116.485</td>\n",
       "      <td>116.3532</td>\n",
       "      <td>116.45</td>\n",
       "      <td>4859650.0</td>\n",
       "      <td>437.91</td>\n",
       "      <td>440.06</td>\n",
       "      <td>437.77</td>\n",
       "      <td>438.49</td>\n",
       "      <td>56594282</td>\n",
       "    </tr>\n",
       "  </tbody>\n",
       "</table>\n",
       "</div>"
      ],
      "text/plain": [
       "                              AGG                                        \\\n",
       "                             open     high       low   close     volume   \n",
       "time                                                                      \n",
       "2021-07-26 00:00:00-04:00  116.30  116.330  116.0850  116.11  7028009.0   \n",
       "2021-07-27 00:00:00-04:00  116.35  116.400  116.2727  116.39  4669859.0   \n",
       "2021-07-28 00:00:00-04:00  116.24  116.490  116.1400  116.48  5189696.0   \n",
       "2021-07-29 00:00:00-04:00  116.29  116.360  116.2250  116.28  5216456.0   \n",
       "2021-07-30 00:00:00-04:00  116.36  116.485  116.3532  116.45  4859650.0   \n",
       "\n",
       "                              SPY                                    \n",
       "                             open    high     low   close    volume  \n",
       "time                                                                 \n",
       "2021-07-26 00:00:00-04:00  439.31  441.03  439.26  440.99  40155852  \n",
       "2021-07-27 00:00:00-04:00  439.91  439.94  435.99  439.00  61032234  \n",
       "2021-07-28 00:00:00-04:00  439.68  440.30  437.31  438.84  47642330  \n",
       "2021-07-29 00:00:00-04:00  439.83  441.80  439.81  440.67  40930880  \n",
       "2021-07-30 00:00:00-04:00  437.91  440.06  437.77  438.49  56594282  "
      ]
     },
     "metadata": {},
     "output_type": "display_data"
    }
   ],
   "source": [
    "# Using the Alpaca get_barset function to make the API call to get the 3 years worth of pricing data.\n",
    "portfolio_df = alpaca.get_barset(\n",
    "    tickers,\n",
    "    timeframe,\n",
    "    start=start_date,\n",
    "    end=end_date,\n",
    "    limit=limit_rows\n",
    ").df\n",
    "\n",
    "# Displaying both the first and last five rows of the DataFrame.\n",
    "display(portfolio_df.head())\n",
    "display(portfolio_df.tail())"
   ]
  },
  {
   "cell_type": "markdown",
   "metadata": {},
   "source": [
    "#### Running a Monte Carlo simulation of 500 samples and 30 years for the 60/40 portfolio, and plotting the results."
   ]
  },
  {
   "cell_type": "code",
   "execution_count": 265,
   "metadata": {},
   "outputs": [
    {
     "data": {
      "text/html": [
       "<div>\n",
       "<style scoped>\n",
       "    .dataframe tbody tr th:only-of-type {\n",
       "        vertical-align: middle;\n",
       "    }\n",
       "\n",
       "    .dataframe tbody tr th {\n",
       "        vertical-align: top;\n",
       "    }\n",
       "\n",
       "    .dataframe thead tr th {\n",
       "        text-align: left;\n",
       "    }\n",
       "\n",
       "    .dataframe thead tr:last-of-type th {\n",
       "        text-align: right;\n",
       "    }\n",
       "</style>\n",
       "<table border=\"1\" class=\"dataframe\">\n",
       "  <thead>\n",
       "    <tr>\n",
       "      <th></th>\n",
       "      <th colspan=\"6\" halign=\"left\">AGG</th>\n",
       "      <th colspan=\"6\" halign=\"left\">SPY</th>\n",
       "    </tr>\n",
       "    <tr>\n",
       "      <th></th>\n",
       "      <th>open</th>\n",
       "      <th>high</th>\n",
       "      <th>low</th>\n",
       "      <th>close</th>\n",
       "      <th>volume</th>\n",
       "      <th>daily_return</th>\n",
       "      <th>open</th>\n",
       "      <th>high</th>\n",
       "      <th>low</th>\n",
       "      <th>close</th>\n",
       "      <th>volume</th>\n",
       "      <th>daily_return</th>\n",
       "    </tr>\n",
       "    <tr>\n",
       "      <th>time</th>\n",
       "      <th></th>\n",
       "      <th></th>\n",
       "      <th></th>\n",
       "      <th></th>\n",
       "      <th></th>\n",
       "      <th></th>\n",
       "      <th></th>\n",
       "      <th></th>\n",
       "      <th></th>\n",
       "      <th></th>\n",
       "      <th></th>\n",
       "      <th></th>\n",
       "    </tr>\n",
       "  </thead>\n",
       "  <tbody>\n",
       "    <tr>\n",
       "      <th>2018-07-30 00:00:00-04:00</th>\n",
       "      <td>105.94</td>\n",
       "      <td>106.0500</td>\n",
       "      <td>105.910</td>\n",
       "      <td>105.95</td>\n",
       "      <td>2784448.0</td>\n",
       "      <td>NaN</td>\n",
       "      <td>281.49</td>\n",
       "      <td>281.69</td>\n",
       "      <td>279.3600</td>\n",
       "      <td>279.89</td>\n",
       "      <td>46935673</td>\n",
       "      <td>NaN</td>\n",
       "    </tr>\n",
       "    <tr>\n",
       "      <th>2018-07-31 00:00:00-04:00</th>\n",
       "      <td>106.11</td>\n",
       "      <td>106.1756</td>\n",
       "      <td>106.050</td>\n",
       "      <td>106.06</td>\n",
       "      <td>4704161.0</td>\n",
       "      <td>0.001038</td>\n",
       "      <td>280.81</td>\n",
       "      <td>282.02</td>\n",
       "      <td>280.3800</td>\n",
       "      <td>281.22</td>\n",
       "      <td>48645613</td>\n",
       "      <td>0.004752</td>\n",
       "    </tr>\n",
       "    <tr>\n",
       "      <th>2018-08-01 00:00:00-04:00</th>\n",
       "      <td>105.55</td>\n",
       "      <td>105.7600</td>\n",
       "      <td>105.512</td>\n",
       "      <td>105.69</td>\n",
       "      <td>3896190.0</td>\n",
       "      <td>-0.003489</td>\n",
       "      <td>281.56</td>\n",
       "      <td>282.13</td>\n",
       "      <td>280.1315</td>\n",
       "      <td>280.92</td>\n",
       "      <td>40627557</td>\n",
       "      <td>-0.001067</td>\n",
       "    </tr>\n",
       "    <tr>\n",
       "      <th>2018-08-02 00:00:00-04:00</th>\n",
       "      <td>105.76</td>\n",
       "      <td>105.7600</td>\n",
       "      <td>105.650</td>\n",
       "      <td>105.73</td>\n",
       "      <td>2989387.0</td>\n",
       "      <td>0.000378</td>\n",
       "      <td>279.38</td>\n",
       "      <td>282.58</td>\n",
       "      <td>279.1600</td>\n",
       "      <td>282.34</td>\n",
       "      <td>42491022</td>\n",
       "      <td>0.005055</td>\n",
       "    </tr>\n",
       "    <tr>\n",
       "      <th>2018-08-03 00:00:00-04:00</th>\n",
       "      <td>105.81</td>\n",
       "      <td>105.9799</td>\n",
       "      <td>105.810</td>\n",
       "      <td>105.93</td>\n",
       "      <td>2286629.0</td>\n",
       "      <td>0.001892</td>\n",
       "      <td>282.53</td>\n",
       "      <td>283.65</td>\n",
       "      <td>282.3300</td>\n",
       "      <td>283.64</td>\n",
       "      <td>34485363</td>\n",
       "      <td>0.004604</td>\n",
       "    </tr>\n",
       "  </tbody>\n",
       "</table>\n",
       "</div>"
      ],
      "text/plain": [
       "                              AGG                                        \\\n",
       "                             open      high      low   close     volume   \n",
       "time                                                                      \n",
       "2018-07-30 00:00:00-04:00  105.94  106.0500  105.910  105.95  2784448.0   \n",
       "2018-07-31 00:00:00-04:00  106.11  106.1756  106.050  106.06  4704161.0   \n",
       "2018-08-01 00:00:00-04:00  105.55  105.7600  105.512  105.69  3896190.0   \n",
       "2018-08-02 00:00:00-04:00  105.76  105.7600  105.650  105.73  2989387.0   \n",
       "2018-08-03 00:00:00-04:00  105.81  105.9799  105.810  105.93  2286629.0   \n",
       "\n",
       "                                           SPY                            \\\n",
       "                          daily_return    open    high       low   close   \n",
       "time                                                                       \n",
       "2018-07-30 00:00:00-04:00          NaN  281.49  281.69  279.3600  279.89   \n",
       "2018-07-31 00:00:00-04:00     0.001038  280.81  282.02  280.3800  281.22   \n",
       "2018-08-01 00:00:00-04:00    -0.003489  281.56  282.13  280.1315  280.92   \n",
       "2018-08-02 00:00:00-04:00     0.000378  279.38  282.58  279.1600  282.34   \n",
       "2018-08-03 00:00:00-04:00     0.001892  282.53  283.65  282.3300  283.64   \n",
       "\n",
       "                                                  \n",
       "                             volume daily_return  \n",
       "time                                              \n",
       "2018-07-30 00:00:00-04:00  46935673          NaN  \n",
       "2018-07-31 00:00:00-04:00  48645613     0.004752  \n",
       "2018-08-01 00:00:00-04:00  40627557    -0.001067  \n",
       "2018-08-02 00:00:00-04:00  42491022     0.005055  \n",
       "2018-08-03 00:00:00-04:00  34485363     0.004604  "
      ]
     },
     "execution_count": 265,
     "metadata": {},
     "output_type": "execute_result"
    }
   ],
   "source": [
    "# Configuring the Monte Carlo simulation to forecast 30 years cumulative returns.\n",
    "# The weights are split 40% to AGG and 60% to SPY.\n",
    "# Running 500 samples.\n",
    "MC_stocks_bonds_30y = MCSimulation(\n",
    "    portfolio_data = portfolio_df,\n",
    "    weights = [.40,.60],\n",
    "    num_simulation = 500,\n",
    "    num_trading_days = 252*30\n",
    ")\n",
    "\n",
    "# Reviewing the simulation input data.\n",
    "MC_stocks_bonds_30y.portfolio_data.head()"
   ]
  },
  {
   "cell_type": "code",
   "execution_count": 266,
   "metadata": {},
   "outputs": [
    {
     "name": "stdout",
     "output_type": "stream",
     "text": [
      "Running Monte Carlo simulation number 0.\n",
      "Running Monte Carlo simulation number 10.\n",
      "Running Monte Carlo simulation number 20.\n",
      "Running Monte Carlo simulation number 30.\n",
      "Running Monte Carlo simulation number 40.\n",
      "Running Monte Carlo simulation number 50.\n",
      "Running Monte Carlo simulation number 60.\n",
      "Running Monte Carlo simulation number 70.\n",
      "Running Monte Carlo simulation number 80.\n",
      "Running Monte Carlo simulation number 90.\n",
      "Running Monte Carlo simulation number 100.\n",
      "Running Monte Carlo simulation number 110.\n",
      "Running Monte Carlo simulation number 120.\n",
      "Running Monte Carlo simulation number 130.\n",
      "Running Monte Carlo simulation number 140.\n",
      "Running Monte Carlo simulation number 150.\n",
      "Running Monte Carlo simulation number 160.\n",
      "Running Monte Carlo simulation number 170.\n",
      "Running Monte Carlo simulation number 180.\n",
      "Running Monte Carlo simulation number 190.\n",
      "Running Monte Carlo simulation number 200.\n",
      "Running Monte Carlo simulation number 210.\n",
      "Running Monte Carlo simulation number 220.\n",
      "Running Monte Carlo simulation number 230.\n",
      "Running Monte Carlo simulation number 240.\n",
      "Running Monte Carlo simulation number 250.\n",
      "Running Monte Carlo simulation number 260.\n",
      "Running Monte Carlo simulation number 270.\n",
      "Running Monte Carlo simulation number 280.\n",
      "Running Monte Carlo simulation number 290.\n",
      "Running Monte Carlo simulation number 300.\n",
      "Running Monte Carlo simulation number 310.\n",
      "Running Monte Carlo simulation number 320.\n",
      "Running Monte Carlo simulation number 330.\n",
      "Running Monte Carlo simulation number 340.\n",
      "Running Monte Carlo simulation number 350.\n",
      "Running Monte Carlo simulation number 360.\n",
      "Running Monte Carlo simulation number 370.\n",
      "Running Monte Carlo simulation number 380.\n",
      "Running Monte Carlo simulation number 390.\n",
      "Running Monte Carlo simulation number 400.\n",
      "Running Monte Carlo simulation number 410.\n",
      "Running Monte Carlo simulation number 420.\n",
      "Running Monte Carlo simulation number 430.\n",
      "Running Monte Carlo simulation number 440.\n",
      "Running Monte Carlo simulation number 450.\n",
      "Running Monte Carlo simulation number 460.\n",
      "Running Monte Carlo simulation number 470.\n",
      "Running Monte Carlo simulation number 480.\n",
      "Running Monte Carlo simulation number 490.\n"
     ]
    },
    {
     "data": {
      "text/html": [
       "<div>\n",
       "<style scoped>\n",
       "    .dataframe tbody tr th:only-of-type {\n",
       "        vertical-align: middle;\n",
       "    }\n",
       "\n",
       "    .dataframe tbody tr th {\n",
       "        vertical-align: top;\n",
       "    }\n",
       "\n",
       "    .dataframe thead th {\n",
       "        text-align: right;\n",
       "    }\n",
       "</style>\n",
       "<table border=\"1\" class=\"dataframe\">\n",
       "  <thead>\n",
       "    <tr style=\"text-align: right;\">\n",
       "      <th></th>\n",
       "      <th>0</th>\n",
       "      <th>1</th>\n",
       "      <th>2</th>\n",
       "      <th>3</th>\n",
       "      <th>4</th>\n",
       "      <th>5</th>\n",
       "      <th>6</th>\n",
       "      <th>7</th>\n",
       "      <th>8</th>\n",
       "      <th>9</th>\n",
       "      <th>...</th>\n",
       "      <th>490</th>\n",
       "      <th>491</th>\n",
       "      <th>492</th>\n",
       "      <th>493</th>\n",
       "      <th>494</th>\n",
       "      <th>495</th>\n",
       "      <th>496</th>\n",
       "      <th>497</th>\n",
       "      <th>498</th>\n",
       "      <th>499</th>\n",
       "    </tr>\n",
       "  </thead>\n",
       "  <tbody>\n",
       "    <tr>\n",
       "      <th>0</th>\n",
       "      <td>1.000000</td>\n",
       "      <td>1.000000</td>\n",
       "      <td>1.000000</td>\n",
       "      <td>1.000000</td>\n",
       "      <td>1.000000</td>\n",
       "      <td>1.000000</td>\n",
       "      <td>1.000000</td>\n",
       "      <td>1.000000</td>\n",
       "      <td>1.000000</td>\n",
       "      <td>1.000000</td>\n",
       "      <td>...</td>\n",
       "      <td>1.000000</td>\n",
       "      <td>1.000000</td>\n",
       "      <td>1.000000</td>\n",
       "      <td>1.000000</td>\n",
       "      <td>1.000000</td>\n",
       "      <td>1.000000</td>\n",
       "      <td>1.000000</td>\n",
       "      <td>1.000000</td>\n",
       "      <td>1.000000</td>\n",
       "      <td>1.000000</td>\n",
       "    </tr>\n",
       "    <tr>\n",
       "      <th>1</th>\n",
       "      <td>1.004821</td>\n",
       "      <td>0.991649</td>\n",
       "      <td>0.993875</td>\n",
       "      <td>1.007211</td>\n",
       "      <td>0.997647</td>\n",
       "      <td>0.996829</td>\n",
       "      <td>0.998751</td>\n",
       "      <td>1.000934</td>\n",
       "      <td>1.000316</td>\n",
       "      <td>1.009084</td>\n",
       "      <td>...</td>\n",
       "      <td>1.010914</td>\n",
       "      <td>0.992251</td>\n",
       "      <td>1.007529</td>\n",
       "      <td>1.008217</td>\n",
       "      <td>1.012229</td>\n",
       "      <td>1.014513</td>\n",
       "      <td>1.009259</td>\n",
       "      <td>0.994178</td>\n",
       "      <td>0.995633</td>\n",
       "      <td>0.989360</td>\n",
       "    </tr>\n",
       "    <tr>\n",
       "      <th>2</th>\n",
       "      <td>1.016417</td>\n",
       "      <td>1.004220</td>\n",
       "      <td>0.985747</td>\n",
       "      <td>1.021382</td>\n",
       "      <td>0.988679</td>\n",
       "      <td>1.015418</td>\n",
       "      <td>1.005636</td>\n",
       "      <td>0.999107</td>\n",
       "      <td>1.012704</td>\n",
       "      <td>1.007358</td>\n",
       "      <td>...</td>\n",
       "      <td>1.032922</td>\n",
       "      <td>0.995712</td>\n",
       "      <td>1.000423</td>\n",
       "      <td>1.007171</td>\n",
       "      <td>1.010210</td>\n",
       "      <td>1.005881</td>\n",
       "      <td>1.010040</td>\n",
       "      <td>1.012593</td>\n",
       "      <td>1.005999</td>\n",
       "      <td>0.988355</td>\n",
       "    </tr>\n",
       "    <tr>\n",
       "      <th>3</th>\n",
       "      <td>1.019303</td>\n",
       "      <td>1.009748</td>\n",
       "      <td>0.976433</td>\n",
       "      <td>1.018312</td>\n",
       "      <td>0.988433</td>\n",
       "      <td>1.013569</td>\n",
       "      <td>1.005734</td>\n",
       "      <td>1.007912</td>\n",
       "      <td>1.011014</td>\n",
       "      <td>1.009115</td>\n",
       "      <td>...</td>\n",
       "      <td>1.021927</td>\n",
       "      <td>1.012973</td>\n",
       "      <td>1.011102</td>\n",
       "      <td>1.009143</td>\n",
       "      <td>1.017960</td>\n",
       "      <td>1.008700</td>\n",
       "      <td>1.011760</td>\n",
       "      <td>1.007867</td>\n",
       "      <td>1.011374</td>\n",
       "      <td>0.992591</td>\n",
       "    </tr>\n",
       "    <tr>\n",
       "      <th>4</th>\n",
       "      <td>1.014174</td>\n",
       "      <td>1.002444</td>\n",
       "      <td>0.980948</td>\n",
       "      <td>1.026799</td>\n",
       "      <td>0.983086</td>\n",
       "      <td>1.001237</td>\n",
       "      <td>0.998947</td>\n",
       "      <td>1.013754</td>\n",
       "      <td>1.014919</td>\n",
       "      <td>1.020193</td>\n",
       "      <td>...</td>\n",
       "      <td>1.021974</td>\n",
       "      <td>1.014081</td>\n",
       "      <td>0.998245</td>\n",
       "      <td>1.008218</td>\n",
       "      <td>1.011819</td>\n",
       "      <td>1.004985</td>\n",
       "      <td>0.996526</td>\n",
       "      <td>1.006295</td>\n",
       "      <td>1.017236</td>\n",
       "      <td>0.980647</td>\n",
       "    </tr>\n",
       "    <tr>\n",
       "      <th>...</th>\n",
       "      <td>...</td>\n",
       "      <td>...</td>\n",
       "      <td>...</td>\n",
       "      <td>...</td>\n",
       "      <td>...</td>\n",
       "      <td>...</td>\n",
       "      <td>...</td>\n",
       "      <td>...</td>\n",
       "      <td>...</td>\n",
       "      <td>...</td>\n",
       "      <td>...</td>\n",
       "      <td>...</td>\n",
       "      <td>...</td>\n",
       "      <td>...</td>\n",
       "      <td>...</td>\n",
       "      <td>...</td>\n",
       "      <td>...</td>\n",
       "      <td>...</td>\n",
       "      <td>...</td>\n",
       "      <td>...</td>\n",
       "      <td>...</td>\n",
       "    </tr>\n",
       "    <tr>\n",
       "      <th>7556</th>\n",
       "      <td>88.371910</td>\n",
       "      <td>11.779086</td>\n",
       "      <td>43.006267</td>\n",
       "      <td>11.449719</td>\n",
       "      <td>22.728005</td>\n",
       "      <td>51.031051</td>\n",
       "      <td>16.931107</td>\n",
       "      <td>18.849323</td>\n",
       "      <td>29.021286</td>\n",
       "      <td>33.512685</td>\n",
       "      <td>...</td>\n",
       "      <td>21.068422</td>\n",
       "      <td>34.663819</td>\n",
       "      <td>31.428583</td>\n",
       "      <td>39.156228</td>\n",
       "      <td>99.196423</td>\n",
       "      <td>20.704535</td>\n",
       "      <td>37.748780</td>\n",
       "      <td>28.040081</td>\n",
       "      <td>28.186693</td>\n",
       "      <td>36.533049</td>\n",
       "    </tr>\n",
       "    <tr>\n",
       "      <th>7557</th>\n",
       "      <td>88.281184</td>\n",
       "      <td>11.732107</td>\n",
       "      <td>43.385977</td>\n",
       "      <td>11.475538</td>\n",
       "      <td>22.792622</td>\n",
       "      <td>51.130093</td>\n",
       "      <td>16.929740</td>\n",
       "      <td>18.980155</td>\n",
       "      <td>29.701294</td>\n",
       "      <td>33.785875</td>\n",
       "      <td>...</td>\n",
       "      <td>21.318385</td>\n",
       "      <td>34.208460</td>\n",
       "      <td>31.596307</td>\n",
       "      <td>39.412123</td>\n",
       "      <td>101.140600</td>\n",
       "      <td>20.751958</td>\n",
       "      <td>37.362228</td>\n",
       "      <td>27.969268</td>\n",
       "      <td>27.653226</td>\n",
       "      <td>36.566613</td>\n",
       "    </tr>\n",
       "    <tr>\n",
       "      <th>7558</th>\n",
       "      <td>89.683602</td>\n",
       "      <td>11.910231</td>\n",
       "      <td>43.510895</td>\n",
       "      <td>11.395323</td>\n",
       "      <td>23.073235</td>\n",
       "      <td>51.022962</td>\n",
       "      <td>17.125437</td>\n",
       "      <td>19.363951</td>\n",
       "      <td>29.777837</td>\n",
       "      <td>33.879838</td>\n",
       "      <td>...</td>\n",
       "      <td>21.551372</td>\n",
       "      <td>34.134687</td>\n",
       "      <td>32.063903</td>\n",
       "      <td>39.599076</td>\n",
       "      <td>100.575674</td>\n",
       "      <td>20.755332</td>\n",
       "      <td>37.579700</td>\n",
       "      <td>27.850823</td>\n",
       "      <td>27.626684</td>\n",
       "      <td>36.063276</td>\n",
       "    </tr>\n",
       "    <tr>\n",
       "      <th>7559</th>\n",
       "      <td>89.343885</td>\n",
       "      <td>11.874429</td>\n",
       "      <td>43.237103</td>\n",
       "      <td>11.564130</td>\n",
       "      <td>22.974711</td>\n",
       "      <td>51.258663</td>\n",
       "      <td>17.345985</td>\n",
       "      <td>19.244915</td>\n",
       "      <td>29.631740</td>\n",
       "      <td>33.885684</td>\n",
       "      <td>...</td>\n",
       "      <td>21.522100</td>\n",
       "      <td>33.989298</td>\n",
       "      <td>32.390378</td>\n",
       "      <td>40.024804</td>\n",
       "      <td>100.382052</td>\n",
       "      <td>20.709276</td>\n",
       "      <td>37.274808</td>\n",
       "      <td>28.088064</td>\n",
       "      <td>27.796509</td>\n",
       "      <td>36.141896</td>\n",
       "    </tr>\n",
       "    <tr>\n",
       "      <th>7560</th>\n",
       "      <td>88.979609</td>\n",
       "      <td>12.064980</td>\n",
       "      <td>43.229835</td>\n",
       "      <td>11.519636</td>\n",
       "      <td>23.016864</td>\n",
       "      <td>50.794879</td>\n",
       "      <td>17.120262</td>\n",
       "      <td>19.605737</td>\n",
       "      <td>29.544203</td>\n",
       "      <td>33.674969</td>\n",
       "      <td>...</td>\n",
       "      <td>21.759243</td>\n",
       "      <td>34.016183</td>\n",
       "      <td>31.920113</td>\n",
       "      <td>40.571429</td>\n",
       "      <td>100.543482</td>\n",
       "      <td>20.851900</td>\n",
       "      <td>37.131283</td>\n",
       "      <td>27.899823</td>\n",
       "      <td>27.506384</td>\n",
       "      <td>36.216477</td>\n",
       "    </tr>\n",
       "  </tbody>\n",
       "</table>\n",
       "<p>7561 rows × 500 columns</p>\n",
       "</div>"
      ],
      "text/plain": [
       "            0          1          2          3          4          5    \\\n",
       "0      1.000000   1.000000   1.000000   1.000000   1.000000   1.000000   \n",
       "1      1.004821   0.991649   0.993875   1.007211   0.997647   0.996829   \n",
       "2      1.016417   1.004220   0.985747   1.021382   0.988679   1.015418   \n",
       "3      1.019303   1.009748   0.976433   1.018312   0.988433   1.013569   \n",
       "4      1.014174   1.002444   0.980948   1.026799   0.983086   1.001237   \n",
       "...         ...        ...        ...        ...        ...        ...   \n",
       "7556  88.371910  11.779086  43.006267  11.449719  22.728005  51.031051   \n",
       "7557  88.281184  11.732107  43.385977  11.475538  22.792622  51.130093   \n",
       "7558  89.683602  11.910231  43.510895  11.395323  23.073235  51.022962   \n",
       "7559  89.343885  11.874429  43.237103  11.564130  22.974711  51.258663   \n",
       "7560  88.979609  12.064980  43.229835  11.519636  23.016864  50.794879   \n",
       "\n",
       "            6          7          8          9    ...        490        491  \\\n",
       "0      1.000000   1.000000   1.000000   1.000000  ...   1.000000   1.000000   \n",
       "1      0.998751   1.000934   1.000316   1.009084  ...   1.010914   0.992251   \n",
       "2      1.005636   0.999107   1.012704   1.007358  ...   1.032922   0.995712   \n",
       "3      1.005734   1.007912   1.011014   1.009115  ...   1.021927   1.012973   \n",
       "4      0.998947   1.013754   1.014919   1.020193  ...   1.021974   1.014081   \n",
       "...         ...        ...        ...        ...  ...        ...        ...   \n",
       "7556  16.931107  18.849323  29.021286  33.512685  ...  21.068422  34.663819   \n",
       "7557  16.929740  18.980155  29.701294  33.785875  ...  21.318385  34.208460   \n",
       "7558  17.125437  19.363951  29.777837  33.879838  ...  21.551372  34.134687   \n",
       "7559  17.345985  19.244915  29.631740  33.885684  ...  21.522100  33.989298   \n",
       "7560  17.120262  19.605737  29.544203  33.674969  ...  21.759243  34.016183   \n",
       "\n",
       "            492        493         494        495        496        497  \\\n",
       "0      1.000000   1.000000    1.000000   1.000000   1.000000   1.000000   \n",
       "1      1.007529   1.008217    1.012229   1.014513   1.009259   0.994178   \n",
       "2      1.000423   1.007171    1.010210   1.005881   1.010040   1.012593   \n",
       "3      1.011102   1.009143    1.017960   1.008700   1.011760   1.007867   \n",
       "4      0.998245   1.008218    1.011819   1.004985   0.996526   1.006295   \n",
       "...         ...        ...         ...        ...        ...        ...   \n",
       "7556  31.428583  39.156228   99.196423  20.704535  37.748780  28.040081   \n",
       "7557  31.596307  39.412123  101.140600  20.751958  37.362228  27.969268   \n",
       "7558  32.063903  39.599076  100.575674  20.755332  37.579700  27.850823   \n",
       "7559  32.390378  40.024804  100.382052  20.709276  37.274808  28.088064   \n",
       "7560  31.920113  40.571429  100.543482  20.851900  37.131283  27.899823   \n",
       "\n",
       "            498        499  \n",
       "0      1.000000   1.000000  \n",
       "1      0.995633   0.989360  \n",
       "2      1.005999   0.988355  \n",
       "3      1.011374   0.992591  \n",
       "4      1.017236   0.980647  \n",
       "...         ...        ...  \n",
       "7556  28.186693  36.533049  \n",
       "7557  27.653226  36.566613  \n",
       "7558  27.626684  36.063276  \n",
       "7559  27.796509  36.141896  \n",
       "7560  27.506384  36.216477  \n",
       "\n",
       "[7561 rows x 500 columns]"
      ]
     },
     "execution_count": 266,
     "metadata": {},
     "output_type": "execute_result"
    }
   ],
   "source": [
    "# Running the Monte Carlo simulation to forecast 30 years cumulative returns.\n",
    "MC_stocks_bonds_30y.calc_cumulative_return()"
   ]
  },
  {
   "cell_type": "code",
   "execution_count": 267,
   "metadata": {},
   "outputs": [
    {
     "data": {
      "image/png": "[encoded data removed]",
      "text/plain": [
       "<Figure size 432x288 with 1 Axes>"
      ]
     },
     "metadata": {
      "needs_background": "light"
     },
     "output_type": "display_data"
    }
   ],
   "source": [
    "# Visualizing the 30-year Monte Carlo simulation by creating an\n",
    "# overlay line plot.\n",
    "stocks_bonds_line_plot_30y = MC_stocks_bonds_30y.plot_simulation()"
   ]
  },
  {
   "cell_type": "markdown",
   "metadata": {},
   "source": [
    "#### Plotting the probability distribution of the Monte Carlo simulation."
   ]
  },
  {
   "cell_type": "code",
   "execution_count": 268,
   "metadata": {},
   "outputs": [
    {
     "data": {
      "image/png": "[encoded data removed]",
      "text/plain": [
       "<Figure size 432x288 with 1 Axes>"
      ]
     },
     "metadata": {
      "needs_background": "light"
     },
     "output_type": "display_data"
    }
   ],
   "source": [
    "# Visualizing the probability distribution of the 30-year Monte Carlo simulation \n",
    "# by plotting a histogram.\n",
    "stocks_bonds_distribution_plot_30y = MC_stocks_bonds_30y.plot_distribution()"
   ]
  },
  {
   "cell_type": "markdown",
   "metadata": {},
   "source": [
    "#### Generating the summary statistics for the Monte Carlo simulation."
   ]
  },
  {
   "cell_type": "code",
   "execution_count": 269,
   "metadata": {},
   "outputs": [
    {
     "name": "stdout",
     "output_type": "stream",
     "text": [
      "count           500.000000\n",
      "mean             34.846022\n",
      "std              28.708334\n",
      "min               2.863580\n",
      "25%              16.419277\n",
      "50%              26.642812\n",
      "75%              43.917154\n",
      "max             290.266396\n",
      "95% CI Lower      7.030195\n",
      "95% CI Upper    110.241970\n",
      "Name: 7560, dtype: float64\n"
     ]
    }
   ],
   "source": [
    "# Generating summary statistics from the 30-year Monte Carlo simulation results.\n",
    "# Saving the results as a variable.\n",
    "stocks_bonds_stats_30y = MC_stocks_bonds_30y.summarize_cumulative_return()\n",
    "\n",
    "# Reviewing the 30-year Monte Carlo summary statistics.\n",
    "print(stocks_bonds_stats_30y)"
   ]
  },
  {
   "cell_type": "markdown",
   "metadata": {},
   "source": [
    "### Analyzing the Retirement Portfolio Forecasts\n",
    "\n",
    "Using the current value of only the stock and bond portion of the member's portfolio and the summary statistics generated from the Monte Carlo simulation, to evaluate what are the lower and upper bounds for the expected value of the portfolio with a 95% confidence interval.\n"
   ]
  },
  {
   "cell_type": "code",
   "execution_count": 270,
   "metadata": {},
   "outputs": [
    {
     "name": "stdout",
     "output_type": "stream",
     "text": [
      "60689.5\n"
     ]
    }
   ],
   "source": [
    "# Printing the current balance of the stock and bond portion of the members portfolio.\n",
    "current_balance = total_stocks_bonds\n",
    "print(current_balance)"
   ]
  },
  {
   "cell_type": "code",
   "execution_count": 271,
   "metadata": {},
   "outputs": [
    {
     "name": "stdout",
     "output_type": "stream",
     "text": [
      "The expected 30 year value of the portfolio with a 95% confidence interval will end within the range of $426659 and $6690530.\n"
     ]
    }
   ],
   "source": [
    "# Using the lower and upper `95%` confidence intervals to calculate the range of the possible outcomes for the current stock/bond portfolio.\n",
    "ci_lower_cumulative_return_30y = round(stocks_bonds_stats_30y[8] * current_balance)\n",
    "ci_upper_cumulative_return_30y = round(stocks_bonds_stats_30y[9] * current_balance)\n",
    "\n",
    "# Printing the result of your calculations.\n",
    "print(f\"The expected 30 year value of the portfolio with a 95% confidence interval\"\n",
    "      f\" will end within the range of\"\n",
    "      f\" ${ci_lower_cumulative_return_30y} and ${ci_upper_cumulative_return_30y}.\")"
   ]
  },
  {
   "cell_type": "markdown",
   "metadata": {},
   "source": [
    "### Forecasting Cumulative Returns in 10 Years\n",
    "\n",
    "Adjusting the retirement portfolio to run a new Monte Carlo simulation to find out if the changes will allow user to retire earlier."
   ]
  },
  {
   "cell_type": "code",
   "execution_count": 272,
   "metadata": {},
   "outputs": [
    {
     "data": {
      "text/html": [
       "<div>\n",
       "<style scoped>\n",
       "    .dataframe tbody tr th:only-of-type {\n",
       "        vertical-align: middle;\n",
       "    }\n",
       "\n",
       "    .dataframe tbody tr th {\n",
       "        vertical-align: top;\n",
       "    }\n",
       "\n",
       "    .dataframe thead tr th {\n",
       "        text-align: left;\n",
       "    }\n",
       "\n",
       "    .dataframe thead tr:last-of-type th {\n",
       "        text-align: right;\n",
       "    }\n",
       "</style>\n",
       "<table border=\"1\" class=\"dataframe\">\n",
       "  <thead>\n",
       "    <tr>\n",
       "      <th></th>\n",
       "      <th colspan=\"6\" halign=\"left\">AGG</th>\n",
       "      <th colspan=\"6\" halign=\"left\">SPY</th>\n",
       "    </tr>\n",
       "    <tr>\n",
       "      <th></th>\n",
       "      <th>open</th>\n",
       "      <th>high</th>\n",
       "      <th>low</th>\n",
       "      <th>close</th>\n",
       "      <th>volume</th>\n",
       "      <th>daily_return</th>\n",
       "      <th>open</th>\n",
       "      <th>high</th>\n",
       "      <th>low</th>\n",
       "      <th>close</th>\n",
       "      <th>volume</th>\n",
       "      <th>daily_return</th>\n",
       "    </tr>\n",
       "    <tr>\n",
       "      <th>time</th>\n",
       "      <th></th>\n",
       "      <th></th>\n",
       "      <th></th>\n",
       "      <th></th>\n",
       "      <th></th>\n",
       "      <th></th>\n",
       "      <th></th>\n",
       "      <th></th>\n",
       "      <th></th>\n",
       "      <th></th>\n",
       "      <th></th>\n",
       "      <th></th>\n",
       "    </tr>\n",
       "  </thead>\n",
       "  <tbody>\n",
       "    <tr>\n",
       "      <th>2018-07-30 00:00:00-04:00</th>\n",
       "      <td>105.94</td>\n",
       "      <td>106.0500</td>\n",
       "      <td>105.910</td>\n",
       "      <td>105.95</td>\n",
       "      <td>2784448.0</td>\n",
       "      <td>NaN</td>\n",
       "      <td>281.49</td>\n",
       "      <td>281.69</td>\n",
       "      <td>279.3600</td>\n",
       "      <td>279.89</td>\n",
       "      <td>46935673</td>\n",
       "      <td>NaN</td>\n",
       "    </tr>\n",
       "    <tr>\n",
       "      <th>2018-07-31 00:00:00-04:00</th>\n",
       "      <td>106.11</td>\n",
       "      <td>106.1756</td>\n",
       "      <td>106.050</td>\n",
       "      <td>106.06</td>\n",
       "      <td>4704161.0</td>\n",
       "      <td>0.001038</td>\n",
       "      <td>280.81</td>\n",
       "      <td>282.02</td>\n",
       "      <td>280.3800</td>\n",
       "      <td>281.22</td>\n",
       "      <td>48645613</td>\n",
       "      <td>0.004752</td>\n",
       "    </tr>\n",
       "    <tr>\n",
       "      <th>2018-08-01 00:00:00-04:00</th>\n",
       "      <td>105.55</td>\n",
       "      <td>105.7600</td>\n",
       "      <td>105.512</td>\n",
       "      <td>105.69</td>\n",
       "      <td>3896190.0</td>\n",
       "      <td>-0.003489</td>\n",
       "      <td>281.56</td>\n",
       "      <td>282.13</td>\n",
       "      <td>280.1315</td>\n",
       "      <td>280.92</td>\n",
       "      <td>40627557</td>\n",
       "      <td>-0.001067</td>\n",
       "    </tr>\n",
       "    <tr>\n",
       "      <th>2018-08-02 00:00:00-04:00</th>\n",
       "      <td>105.76</td>\n",
       "      <td>105.7600</td>\n",
       "      <td>105.650</td>\n",
       "      <td>105.73</td>\n",
       "      <td>2989387.0</td>\n",
       "      <td>0.000378</td>\n",
       "      <td>279.38</td>\n",
       "      <td>282.58</td>\n",
       "      <td>279.1600</td>\n",
       "      <td>282.34</td>\n",
       "      <td>42491022</td>\n",
       "      <td>0.005055</td>\n",
       "    </tr>\n",
       "    <tr>\n",
       "      <th>2018-08-03 00:00:00-04:00</th>\n",
       "      <td>105.81</td>\n",
       "      <td>105.9799</td>\n",
       "      <td>105.810</td>\n",
       "      <td>105.93</td>\n",
       "      <td>2286629.0</td>\n",
       "      <td>0.001892</td>\n",
       "      <td>282.53</td>\n",
       "      <td>283.65</td>\n",
       "      <td>282.3300</td>\n",
       "      <td>283.64</td>\n",
       "      <td>34485363</td>\n",
       "      <td>0.004604</td>\n",
       "    </tr>\n",
       "  </tbody>\n",
       "</table>\n",
       "</div>"
      ],
      "text/plain": [
       "                              AGG                                        \\\n",
       "                             open      high      low   close     volume   \n",
       "time                                                                      \n",
       "2018-07-30 00:00:00-04:00  105.94  106.0500  105.910  105.95  2784448.0   \n",
       "2018-07-31 00:00:00-04:00  106.11  106.1756  106.050  106.06  4704161.0   \n",
       "2018-08-01 00:00:00-04:00  105.55  105.7600  105.512  105.69  3896190.0   \n",
       "2018-08-02 00:00:00-04:00  105.76  105.7600  105.650  105.73  2989387.0   \n",
       "2018-08-03 00:00:00-04:00  105.81  105.9799  105.810  105.93  2286629.0   \n",
       "\n",
       "                                           SPY                            \\\n",
       "                          daily_return    open    high       low   close   \n",
       "time                                                                       \n",
       "2018-07-30 00:00:00-04:00          NaN  281.49  281.69  279.3600  279.89   \n",
       "2018-07-31 00:00:00-04:00     0.001038  280.81  282.02  280.3800  281.22   \n",
       "2018-08-01 00:00:00-04:00    -0.003489  281.56  282.13  280.1315  280.92   \n",
       "2018-08-02 00:00:00-04:00     0.000378  279.38  282.58  279.1600  282.34   \n",
       "2018-08-03 00:00:00-04:00     0.001892  282.53  283.65  282.3300  283.64   \n",
       "\n",
       "                                                  \n",
       "                             volume daily_return  \n",
       "time                                              \n",
       "2018-07-30 00:00:00-04:00  46935673          NaN  \n",
       "2018-07-31 00:00:00-04:00  48645613     0.004752  \n",
       "2018-08-01 00:00:00-04:00  40627557    -0.001067  \n",
       "2018-08-02 00:00:00-04:00  42491022     0.005055  \n",
       "2018-08-03 00:00:00-04:00  34485363     0.004604  "
      ]
     },
     "execution_count": 272,
     "metadata": {},
     "output_type": "execute_result"
    }
   ],
   "source": [
    "# Configuring a Monte Carlo simulation to forecast 10 years cumulative returns.\n",
    "# The weights are split 20% to AGG and 80% to SPY.\n",
    "# Running 500 samples.\n",
    "MC_stocks_bonds_10y = MCSimulation(\n",
    "    portfolio_data = portfolio_df,\n",
    "    weights = [.20,.80],\n",
    "    num_simulation = 500,\n",
    "    num_trading_days = 252*10\n",
    ")\n",
    "\n",
    "# Reviewing the simulation input data\n",
    "MC_stocks_bonds_10y.portfolio_data.head()"
   ]
  },
  {
   "cell_type": "code",
   "execution_count": 273,
   "metadata": {},
   "outputs": [
    {
     "name": "stdout",
     "output_type": "stream",
     "text": [
      "Running Monte Carlo simulation number 0.\n",
      "Running Monte Carlo simulation number 10.\n",
      "Running Monte Carlo simulation number 20.\n",
      "Running Monte Carlo simulation number 30.\n",
      "Running Monte Carlo simulation number 40.\n",
      "Running Monte Carlo simulation number 50.\n",
      "Running Monte Carlo simulation number 60.\n",
      "Running Monte Carlo simulation number 70.\n",
      "Running Monte Carlo simulation number 80.\n",
      "Running Monte Carlo simulation number 90.\n",
      "Running Monte Carlo simulation number 100.\n",
      "Running Monte Carlo simulation number 110.\n",
      "Running Monte Carlo simulation number 120.\n",
      "Running Monte Carlo simulation number 130.\n",
      "Running Monte Carlo simulation number 140.\n",
      "Running Monte Carlo simulation number 150.\n",
      "Running Monte Carlo simulation number 160.\n",
      "Running Monte Carlo simulation number 170.\n",
      "Running Monte Carlo simulation number 180.\n",
      "Running Monte Carlo simulation number 190.\n",
      "Running Monte Carlo simulation number 200.\n",
      "Running Monte Carlo simulation number 210.\n",
      "Running Monte Carlo simulation number 220.\n",
      "Running Monte Carlo simulation number 230.\n",
      "Running Monte Carlo simulation number 240.\n",
      "Running Monte Carlo simulation number 250.\n",
      "Running Monte Carlo simulation number 260.\n",
      "Running Monte Carlo simulation number 270.\n",
      "Running Monte Carlo simulation number 280.\n",
      "Running Monte Carlo simulation number 290.\n",
      "Running Monte Carlo simulation number 300.\n",
      "Running Monte Carlo simulation number 310.\n",
      "Running Monte Carlo simulation number 320.\n",
      "Running Monte Carlo simulation number 330.\n",
      "Running Monte Carlo simulation number 340.\n",
      "Running Monte Carlo simulation number 350.\n",
      "Running Monte Carlo simulation number 360.\n",
      "Running Monte Carlo simulation number 370.\n",
      "Running Monte Carlo simulation number 380.\n",
      "Running Monte Carlo simulation number 390.\n",
      "Running Monte Carlo simulation number 400.\n",
      "Running Monte Carlo simulation number 410.\n",
      "Running Monte Carlo simulation number 420.\n",
      "Running Monte Carlo simulation number 430.\n",
      "Running Monte Carlo simulation number 440.\n",
      "Running Monte Carlo simulation number 450.\n",
      "Running Monte Carlo simulation number 460.\n",
      "Running Monte Carlo simulation number 470.\n",
      "Running Monte Carlo simulation number 480.\n",
      "Running Monte Carlo simulation number 490.\n"
     ]
    },
    {
     "data": {
      "text/html": [
       "<div>\n",
       "<style scoped>\n",
       "    .dataframe tbody tr th:only-of-type {\n",
       "        vertical-align: middle;\n",
       "    }\n",
       "\n",
       "    .dataframe tbody tr th {\n",
       "        vertical-align: top;\n",
       "    }\n",
       "\n",
       "    .dataframe thead th {\n",
       "        text-align: right;\n",
       "    }\n",
       "</style>\n",
       "<table border=\"1\" class=\"dataframe\">\n",
       "  <thead>\n",
       "    <tr style=\"text-align: right;\">\n",
       "      <th></th>\n",
       "      <th>0</th>\n",
       "      <th>1</th>\n",
       "      <th>2</th>\n",
       "      <th>3</th>\n",
       "      <th>4</th>\n",
       "      <th>5</th>\n",
       "      <th>6</th>\n",
       "      <th>7</th>\n",
       "      <th>8</th>\n",
       "      <th>9</th>\n",
       "      <th>...</th>\n",
       "      <th>490</th>\n",
       "      <th>491</th>\n",
       "      <th>492</th>\n",
       "      <th>493</th>\n",
       "      <th>494</th>\n",
       "      <th>495</th>\n",
       "      <th>496</th>\n",
       "      <th>497</th>\n",
       "      <th>498</th>\n",
       "      <th>499</th>\n",
       "    </tr>\n",
       "  </thead>\n",
       "  <tbody>\n",
       "    <tr>\n",
       "      <th>0</th>\n",
       "      <td>1.000000</td>\n",
       "      <td>1.000000</td>\n",
       "      <td>1.000000</td>\n",
       "      <td>1.000000</td>\n",
       "      <td>1.000000</td>\n",
       "      <td>1.000000</td>\n",
       "      <td>1.000000</td>\n",
       "      <td>1.000000</td>\n",
       "      <td>1.000000</td>\n",
       "      <td>1.000000</td>\n",
       "      <td>...</td>\n",
       "      <td>1.000000</td>\n",
       "      <td>1.000000</td>\n",
       "      <td>1.000000</td>\n",
       "      <td>1.000000</td>\n",
       "      <td>1.000000</td>\n",
       "      <td>1.000000</td>\n",
       "      <td>1.000000</td>\n",
       "      <td>1.000000</td>\n",
       "      <td>1.000000</td>\n",
       "      <td>1.000000</td>\n",
       "    </tr>\n",
       "    <tr>\n",
       "      <th>1</th>\n",
       "      <td>1.006534</td>\n",
       "      <td>1.002979</td>\n",
       "      <td>0.979227</td>\n",
       "      <td>0.999474</td>\n",
       "      <td>0.993396</td>\n",
       "      <td>1.009564</td>\n",
       "      <td>0.986568</td>\n",
       "      <td>0.993171</td>\n",
       "      <td>1.000595</td>\n",
       "      <td>0.999912</td>\n",
       "      <td>...</td>\n",
       "      <td>0.980553</td>\n",
       "      <td>1.000315</td>\n",
       "      <td>0.971297</td>\n",
       "      <td>0.995139</td>\n",
       "      <td>1.003373</td>\n",
       "      <td>0.997213</td>\n",
       "      <td>0.997635</td>\n",
       "      <td>0.998608</td>\n",
       "      <td>0.993279</td>\n",
       "      <td>1.017475</td>\n",
       "    </tr>\n",
       "    <tr>\n",
       "      <th>2</th>\n",
       "      <td>0.980414</td>\n",
       "      <td>1.017164</td>\n",
       "      <td>0.973006</td>\n",
       "      <td>1.003113</td>\n",
       "      <td>0.964564</td>\n",
       "      <td>1.008708</td>\n",
       "      <td>0.991426</td>\n",
       "      <td>0.995442</td>\n",
       "      <td>0.985157</td>\n",
       "      <td>0.994030</td>\n",
       "      <td>...</td>\n",
       "      <td>1.002110</td>\n",
       "      <td>1.008528</td>\n",
       "      <td>0.967358</td>\n",
       "      <td>1.012962</td>\n",
       "      <td>0.981449</td>\n",
       "      <td>0.994567</td>\n",
       "      <td>1.002056</td>\n",
       "      <td>0.999193</td>\n",
       "      <td>1.005776</td>\n",
       "      <td>1.030534</td>\n",
       "    </tr>\n",
       "    <tr>\n",
       "      <th>3</th>\n",
       "      <td>0.959093</td>\n",
       "      <td>1.037130</td>\n",
       "      <td>0.978458</td>\n",
       "      <td>1.024056</td>\n",
       "      <td>0.958260</td>\n",
       "      <td>1.011878</td>\n",
       "      <td>1.002917</td>\n",
       "      <td>0.995904</td>\n",
       "      <td>0.990977</td>\n",
       "      <td>0.993208</td>\n",
       "      <td>...</td>\n",
       "      <td>1.015679</td>\n",
       "      <td>1.023554</td>\n",
       "      <td>0.955459</td>\n",
       "      <td>1.015545</td>\n",
       "      <td>0.976226</td>\n",
       "      <td>0.983591</td>\n",
       "      <td>1.007767</td>\n",
       "      <td>0.969810</td>\n",
       "      <td>1.007238</td>\n",
       "      <td>1.022524</td>\n",
       "    </tr>\n",
       "    <tr>\n",
       "      <th>4</th>\n",
       "      <td>0.950431</td>\n",
       "      <td>1.042605</td>\n",
       "      <td>0.974922</td>\n",
       "      <td>1.013782</td>\n",
       "      <td>0.942267</td>\n",
       "      <td>1.015681</td>\n",
       "      <td>0.997994</td>\n",
       "      <td>0.987608</td>\n",
       "      <td>0.984403</td>\n",
       "      <td>0.974157</td>\n",
       "      <td>...</td>\n",
       "      <td>1.009337</td>\n",
       "      <td>1.019150</td>\n",
       "      <td>0.964045</td>\n",
       "      <td>1.021304</td>\n",
       "      <td>0.968975</td>\n",
       "      <td>0.973999</td>\n",
       "      <td>1.016279</td>\n",
       "      <td>0.980534</td>\n",
       "      <td>1.010030</td>\n",
       "      <td>1.012955</td>\n",
       "    </tr>\n",
       "    <tr>\n",
       "      <th>...</th>\n",
       "      <td>...</td>\n",
       "      <td>...</td>\n",
       "      <td>...</td>\n",
       "      <td>...</td>\n",
       "      <td>...</td>\n",
       "      <td>...</td>\n",
       "      <td>...</td>\n",
       "      <td>...</td>\n",
       "      <td>...</td>\n",
       "      <td>...</td>\n",
       "      <td>...</td>\n",
       "      <td>...</td>\n",
       "      <td>...</td>\n",
       "      <td>...</td>\n",
       "      <td>...</td>\n",
       "      <td>...</td>\n",
       "      <td>...</td>\n",
       "      <td>...</td>\n",
       "      <td>...</td>\n",
       "      <td>...</td>\n",
       "      <td>...</td>\n",
       "    </tr>\n",
       "    <tr>\n",
       "      <th>2516</th>\n",
       "      <td>5.855152</td>\n",
       "      <td>1.121578</td>\n",
       "      <td>3.884152</td>\n",
       "      <td>3.990926</td>\n",
       "      <td>4.422970</td>\n",
       "      <td>2.642032</td>\n",
       "      <td>5.430387</td>\n",
       "      <td>11.560500</td>\n",
       "      <td>1.930990</td>\n",
       "      <td>2.725705</td>\n",
       "      <td>...</td>\n",
       "      <td>4.529248</td>\n",
       "      <td>2.082226</td>\n",
       "      <td>3.262806</td>\n",
       "      <td>5.394992</td>\n",
       "      <td>1.775733</td>\n",
       "      <td>8.439916</td>\n",
       "      <td>2.038759</td>\n",
       "      <td>0.929545</td>\n",
       "      <td>5.559206</td>\n",
       "      <td>2.013240</td>\n",
       "    </tr>\n",
       "    <tr>\n",
       "      <th>2517</th>\n",
       "      <td>5.857223</td>\n",
       "      <td>1.116039</td>\n",
       "      <td>3.920353</td>\n",
       "      <td>4.026022</td>\n",
       "      <td>4.373059</td>\n",
       "      <td>2.673294</td>\n",
       "      <td>5.506481</td>\n",
       "      <td>11.622395</td>\n",
       "      <td>1.903885</td>\n",
       "      <td>2.719691</td>\n",
       "      <td>...</td>\n",
       "      <td>4.588420</td>\n",
       "      <td>2.064650</td>\n",
       "      <td>3.294676</td>\n",
       "      <td>5.498847</td>\n",
       "      <td>1.771465</td>\n",
       "      <td>8.451015</td>\n",
       "      <td>2.038498</td>\n",
       "      <td>0.942625</td>\n",
       "      <td>5.553403</td>\n",
       "      <td>2.039957</td>\n",
       "    </tr>\n",
       "    <tr>\n",
       "      <th>2518</th>\n",
       "      <td>5.889246</td>\n",
       "      <td>1.120748</td>\n",
       "      <td>3.925431</td>\n",
       "      <td>4.110990</td>\n",
       "      <td>4.369797</td>\n",
       "      <td>2.627264</td>\n",
       "      <td>5.406361</td>\n",
       "      <td>11.576663</td>\n",
       "      <td>1.964499</td>\n",
       "      <td>2.752188</td>\n",
       "      <td>...</td>\n",
       "      <td>4.586698</td>\n",
       "      <td>2.067756</td>\n",
       "      <td>3.248834</td>\n",
       "      <td>5.577475</td>\n",
       "      <td>1.754412</td>\n",
       "      <td>8.388285</td>\n",
       "      <td>2.049884</td>\n",
       "      <td>0.946310</td>\n",
       "      <td>5.588007</td>\n",
       "      <td>1.998728</td>\n",
       "    </tr>\n",
       "    <tr>\n",
       "      <th>2519</th>\n",
       "      <td>5.884589</td>\n",
       "      <td>1.126986</td>\n",
       "      <td>3.925368</td>\n",
       "      <td>4.067012</td>\n",
       "      <td>4.406355</td>\n",
       "      <td>2.615057</td>\n",
       "      <td>5.460400</td>\n",
       "      <td>11.449671</td>\n",
       "      <td>1.931659</td>\n",
       "      <td>2.746782</td>\n",
       "      <td>...</td>\n",
       "      <td>4.631200</td>\n",
       "      <td>2.087202</td>\n",
       "      <td>3.183210</td>\n",
       "      <td>5.537446</td>\n",
       "      <td>1.750137</td>\n",
       "      <td>8.400005</td>\n",
       "      <td>2.049825</td>\n",
       "      <td>0.958966</td>\n",
       "      <td>5.509864</td>\n",
       "      <td>1.981834</td>\n",
       "    </tr>\n",
       "    <tr>\n",
       "      <th>2520</th>\n",
       "      <td>5.840629</td>\n",
       "      <td>1.140253</td>\n",
       "      <td>3.938387</td>\n",
       "      <td>4.091268</td>\n",
       "      <td>4.508049</td>\n",
       "      <td>2.586132</td>\n",
       "      <td>5.514117</td>\n",
       "      <td>11.224393</td>\n",
       "      <td>1.934213</td>\n",
       "      <td>2.790110</td>\n",
       "      <td>...</td>\n",
       "      <td>4.682257</td>\n",
       "      <td>2.062346</td>\n",
       "      <td>3.210308</td>\n",
       "      <td>5.510176</td>\n",
       "      <td>1.775508</td>\n",
       "      <td>8.325956</td>\n",
       "      <td>2.058967</td>\n",
       "      <td>0.959742</td>\n",
       "      <td>5.447139</td>\n",
       "      <td>1.997103</td>\n",
       "    </tr>\n",
       "  </tbody>\n",
       "</table>\n",
       "<p>2521 rows × 500 columns</p>\n",
       "</div>"
      ],
      "text/plain": [
       "           0         1         2         3         4         5         6    \\\n",
       "0     1.000000  1.000000  1.000000  1.000000  1.000000  1.000000  1.000000   \n",
       "1     1.006534  1.002979  0.979227  0.999474  0.993396  1.009564  0.986568   \n",
       "2     0.980414  1.017164  0.973006  1.003113  0.964564  1.008708  0.991426   \n",
       "3     0.959093  1.037130  0.978458  1.024056  0.958260  1.011878  1.002917   \n",
       "4     0.950431  1.042605  0.974922  1.013782  0.942267  1.015681  0.997994   \n",
       "...        ...       ...       ...       ...       ...       ...       ...   \n",
       "2516  5.855152  1.121578  3.884152  3.990926  4.422970  2.642032  5.430387   \n",
       "2517  5.857223  1.116039  3.920353  4.026022  4.373059  2.673294  5.506481   \n",
       "2518  5.889246  1.120748  3.925431  4.110990  4.369797  2.627264  5.406361   \n",
       "2519  5.884589  1.126986  3.925368  4.067012  4.406355  2.615057  5.460400   \n",
       "2520  5.840629  1.140253  3.938387  4.091268  4.508049  2.586132  5.514117   \n",
       "\n",
       "            7         8         9    ...       490       491       492  \\\n",
       "0      1.000000  1.000000  1.000000  ...  1.000000  1.000000  1.000000   \n",
       "1      0.993171  1.000595  0.999912  ...  0.980553  1.000315  0.971297   \n",
       "2      0.995442  0.985157  0.994030  ...  1.002110  1.008528  0.967358   \n",
       "3      0.995904  0.990977  0.993208  ...  1.015679  1.023554  0.955459   \n",
       "4      0.987608  0.984403  0.974157  ...  1.009337  1.019150  0.964045   \n",
       "...         ...       ...       ...  ...       ...       ...       ...   \n",
       "2516  11.560500  1.930990  2.725705  ...  4.529248  2.082226  3.262806   \n",
       "2517  11.622395  1.903885  2.719691  ...  4.588420  2.064650  3.294676   \n",
       "2518  11.576663  1.964499  2.752188  ...  4.586698  2.067756  3.248834   \n",
       "2519  11.449671  1.931659  2.746782  ...  4.631200  2.087202  3.183210   \n",
       "2520  11.224393  1.934213  2.790110  ...  4.682257  2.062346  3.210308   \n",
       "\n",
       "           493       494       495       496       497       498       499  \n",
       "0     1.000000  1.000000  1.000000  1.000000  1.000000  1.000000  1.000000  \n",
       "1     0.995139  1.003373  0.997213  0.997635  0.998608  0.993279  1.017475  \n",
       "2     1.012962  0.981449  0.994567  1.002056  0.999193  1.005776  1.030534  \n",
       "3     1.015545  0.976226  0.983591  1.007767  0.969810  1.007238  1.022524  \n",
       "4     1.021304  0.968975  0.973999  1.016279  0.980534  1.010030  1.012955  \n",
       "...        ...       ...       ...       ...       ...       ...       ...  \n",
       "2516  5.394992  1.775733  8.439916  2.038759  0.929545  5.559206  2.013240  \n",
       "2517  5.498847  1.771465  8.451015  2.038498  0.942625  5.553403  2.039957  \n",
       "2518  5.577475  1.754412  8.388285  2.049884  0.946310  5.588007  1.998728  \n",
       "2519  5.537446  1.750137  8.400005  2.049825  0.958966  5.509864  1.981834  \n",
       "2520  5.510176  1.775508  8.325956  2.058967  0.959742  5.447139  1.997103  \n",
       "\n",
       "[2521 rows x 500 columns]"
      ]
     },
     "execution_count": 273,
     "metadata": {},
     "output_type": "execute_result"
    }
   ],
   "source": [
    "# Running the Monte Carlo simulation to forecast 10 years cumulative returns.\n",
    "MC_stocks_bonds_10y.calc_cumulative_return()"
   ]
  },
  {
   "cell_type": "code",
   "execution_count": 274,
   "metadata": {},
   "outputs": [
    {
     "data": {
      "image/png": "[encoded data removed]",
      "text/plain": [
       "<Figure size 432x288 with 1 Axes>"
      ]
     },
     "metadata": {
      "needs_background": "light"
     },
     "output_type": "display_data"
    }
   ],
   "source": [
    "# Visualizing the 10-year Monte Carlo simulation by creating an\n",
    "# overlay line plot.\n",
    "stocks_bonds_line_plot_10y = MC_stocks_bonds_10y.plot_simulation()"
   ]
  },
  {
   "cell_type": "code",
   "execution_count": 275,
   "metadata": {},
   "outputs": [
    {
     "data": {
      "image/png": "[encoded data removed]",
      "text/plain": [
       "<Figure size 432x288 with 1 Axes>"
      ]
     },
     "metadata": {
      "needs_background": "light"
     },
     "output_type": "display_data"
    }
   ],
   "source": [
    "# Visualizing the probability distribution of the 10-year Monte Carlo simulation \n",
    "# by plotting a histogram.\n",
    "stocks_bonds_distribution_plot_10y = MC_stocks_bonds_10y.plot_distribution()"
   ]
  },
  {
   "cell_type": "code",
   "execution_count": 276,
   "metadata": {},
   "outputs": [
    {
     "name": "stdout",
     "output_type": "stream",
     "text": [
      "count           500.000000\n",
      "mean              4.348034\n",
      "std               2.618589\n",
      "min               0.547570\n",
      "25%               2.424766\n",
      "50%               3.791297\n",
      "75%               5.512759\n",
      "max              15.896840\n",
      "95% CI Lower      1.095377\n",
      "95% CI Upper     10.985994\n",
      "Name: 2520, dtype: float64\n"
     ]
    }
   ],
   "source": [
    "# Generating summary statistics from the 10-year Monte Carlo simulation results.\n",
    "# Saving the results as a variable.\n",
    "stocks_bonds_stats_10y = MC_stocks_bonds_10y.summarize_cumulative_return()\n",
    "\n",
    "# Reviewing the 10-year Monte Carlo summary statistics.\n",
    "print(stocks_bonds_stats_10y)"
   ]
  },
  {
   "cell_type": "markdown",
   "metadata": {},
   "source": [
    "### Summary:"
   ]
  },
  {
   "cell_type": "markdown",
   "metadata": {},
   "source": [
    "#### Question 1: Using the current value of only the stock and bond portion of the member's portfolio and the summary statistics generated from the new Monte Carlo simulation, what are the lower and upper bounds for the expected value of the portfolio (with the new weights) with a 95% confidence interval?"
   ]
  },
  {
   "cell_type": "code",
   "execution_count": 277,
   "metadata": {},
   "outputs": [
    {
     "name": "stdout",
     "output_type": "stream",
     "text": [
      "60689.5\n"
     ]
    }
   ],
   "source": [
    "# Printing the current balance of the stock and bond portion of the members portfolio\n",
    "print(current_balance)"
   ]
  },
  {
   "cell_type": "code",
   "execution_count": 233,
   "metadata": {},
   "outputs": [
    {
     "name": "stdout",
     "output_type": "stream",
     "text": [
      "The expected 10 year value of the portfolio with a 95% confidence interval will end within the range of $75181 and $630196.\n"
     ]
    }
   ],
   "source": [
    "# Use the lower and upper `95%` confidence intervals to calculate the range of the possible outcomes for the current stock/bond portfolio\n",
    "ci_lower_cumulative_return_10y = round(stocks_bonds_stats_10y[8] * current_balance)\n",
    "ci_upper_cumulative_return_10y = round(stocks_bonds_stats_10y[9] * current_balance)\n",
    "\n",
    "# Print the result of your calculations\n",
    "print(f\"The expected 10 year value of the portfolio with a 95% confidence interval\"\n",
    "      f\" will end within the range of\"\n",
    "      f\" ${ci_lower_cumulative_return_10y} and ${ci_upper_cumulative_return_10y}.\")"
   ]
  },
  {
   "cell_type": "markdown",
   "metadata": {},
   "source": [
    "#### Question: Will weighting the portfolio more heavily to stocks allow the user to retire after only 10 years?\n",
    "**Answer:** No, weighting the portfolio more heavily to stocks will not allow the user to retire after only 10 years. The expected 30 year value of the portfolio with a 95% confidence interval will end within the range of 426,659 and 6,690,530 while the expected 10 year value of the portfolio with a 95% confidence interval will end within the range of 75,181 and 630,196. Not only will the upper cumulative return of the 10 year heavily stock weighted portfolio not suffice for a suitable retirement fund, but also the end range is very underwhelming at only a 23.8781% increase from the current balance of 60,689.50."
   ]
  }
 ],
 "metadata": {
  "kernelspec": {
   "display_name": "Python 3.7.10 64-bit ('dev': conda)",
   "language": "python",
   "name": "python3710jvsc74a57bd0deab466272fce0134e2c2da39f6c00518befb9b31438dd63ae70f219b608405b"
  },
  "language_info": {
   "codemirror_mode": {
    "name": "ipython",
    "version": 3
   },
   "file_extension": ".py",
   "mimetype": "text/x-python",
   "name": "python",
   "nbconvert_exporter": "python",
   "pygments_lexer": "ipython3",
   "version": "3.7.10"
  }
 },
 "nbformat": 4,
 "nbformat_minor": 4
}
